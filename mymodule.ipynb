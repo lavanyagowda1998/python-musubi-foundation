{
  "nbformat": 4,
  "nbformat_minor": 0,
  "metadata": {
    "colab": {
      "name": "mymodule.ipynb",
      "provenance": [],
      "collapsed_sections": [],
      "authorship_tag": "ABX9TyO2B6+S91H+Cjd8y4G5cn8O",
      "include_colab_link": true
    },
    "kernelspec": {
      "name": "python3",
      "display_name": "Python 3"
    },
    "language_info": {
      "name": "python"
    }
  },
  "cells": [
    {
      "cell_type": "markdown",
      "metadata": {
        "id": "view-in-github",
        "colab_type": "text"
      },
      "source": [
        "<a href=\"https://colab.research.google.com/github/lavanyagowda1998/python-musubi-foundation/blob/main/mymodule.ipynb\" target=\"_parent\"><img src=\"https://colab.research.google.com/assets/colab-badge.svg\" alt=\"Open In Colab\"/></a>"
      ]
    },
    {
      "cell_type": "code",
      "metadata": {
        "id": "Gg3wRMvEbpEy"
      },
      "source": [
        "def greeting(name):\n",
        "  print(\"Hello, \" + name)"
      ],
      "execution_count": null,
      "outputs": []
    },
    {
      "cell_type": "code",
      "metadata": {
        "colab": {
          "base_uri": "https://localhost:8080/"
        },
        "id": "BP9EORjEePSw",
        "outputId": "af4d0b9c-ba6d-4578-a9c6-98396c0e2632"
      },
      "source": [
        "# import model\n",
        "import mymodule\n",
        "\n",
        "# use the function greeting from mymodule \n",
        "mymodule.greeting(\"Jill\")"
      ],
      "execution_count": null,
      "outputs": [
        {
          "output_type": "stream",
          "text": [
            "Hello, Jill\n"
          ],
          "name": "stdout"
        }
      ]
    },
    {
      "cell_type": "code",
      "metadata": {
        "colab": {
          "base_uri": "https://localhost:8080/"
        },
        "id": "UXQhTcqfiZnJ",
        "outputId": "236d6351-5dd7-4d9b-92cd-ae31e194ba31"
      },
      "source": [
        "# import mymodule with alias 'mm'\n",
        "import mymodule as mm\n",
        "\n",
        "# call the function greeting from alias 'mm'\n",
        "mm.greeting(\"Jill\")"
      ],
      "execution_count": 3,
      "outputs": [
        {
          "output_type": "stream",
          "text": [
            "Hello, Jill\n"
          ],
          "name": "stdout"
        }
      ]
    },
    {
      "cell_type": "code",
      "metadata": {
        "id": "gzTTUS3oiSF1",
        "colab": {
          "base_uri": "https://localhost:8080/"
        },
        "outputId": "a7eb0cc9-614d-44b7-ecfd-084284051e3e"
      },
      "source": [
        "# import datetime module\n",
        "import datetime\n",
        "\n",
        "# .now() is a built-in datetime function\n",
        "time_now = datetime.datetime.now()\n",
        "\n",
        "# print time now\n",
        "print(time_now)\n",
        "\n",
        "# print year only\n",
        "print(time_now.year)\n",
        "\n",
        "# print day only\n",
        "print(time_now.strftime(\"%A\"))"
      ],
      "execution_count": 4,
      "outputs": [
        {
          "output_type": "stream",
          "text": [
            "2021-07-15 09:41:29.894689\n",
            "2021\n",
            "Thursday\n"
          ],
          "name": "stdout"
        }
      ]
    },
    {
      "cell_type": "code",
      "metadata": {
        "colab": {
          "base_uri": "https://localhost:8080/"
        },
        "id": "Py6zujnqiv0q",
        "outputId": "6de29dfa-0351-4634-ba48-55ada47c672d"
      },
      "source": [
        "new_date = datetime.datetime(2020, 5, 17)\n",
        "\n",
        "print(new_date)"
      ],
      "execution_count": 5,
      "outputs": [
        {
          "output_type": "stream",
          "text": [
            "2020-05-17 00:00:00\n"
          ],
          "name": "stdout"
        }
      ]
    },
    {
      "cell_type": "code",
      "metadata": {
        "colab": {
          "base_uri": "https://localhost:8080/"
        },
        "id": "spyeARsFmA2f",
        "outputId": "93f4ee2b-3e4e-4b78-9246-46ea47d9a0c0"
      },
      "source": [
        "# Create a Data\n",
        "x = datetime.datetime(2018, 6, 1)\n",
        "\n",
        "# Get the Weekday name\n",
        "print(x.strftime(\"%A\"))\n",
        "\n",
        "# Get the Month name\n",
        "print(x.strftime(\"%B\"))\n",
        "\n",
        "# Get the Weekday name\n",
        "print(x.strftime(\"%d\"))\n",
        "\n",
        "# Get the Weekday name\n",
        "print(x.strftime(\"%Y\"))"
      ],
      "execution_count": 6,
      "outputs": [
        {
          "output_type": "stream",
          "text": [
            "Friday\n",
            "June\n",
            "01\n",
            "2018\n"
          ],
          "name": "stdout"
        }
      ]
    },
    {
      "cell_type": "code",
      "metadata": {
        "id": "hwMDvrHImNc-"
      },
      "source": [
        "# import math module\n",
        "import math"
      ],
      "execution_count": 10,
      "outputs": []
    },
    {
      "cell_type": "code",
      "metadata": {
        "colab": {
          "base_uri": "https://localhost:8080/"
        },
        "id": "1UIbBLvKmXmb",
        "outputId": "67817667-1a73-4672-89a7-51252f91178b"
      },
      "source": [
        "sq_root = math.sqrt(64) # finds the square root\n",
        "\n",
        "print(sq_root)"
      ],
      "execution_count": 9,
      "outputs": [
        {
          "output_type": "stream",
          "text": [
            "8.0\n",
            "8.0\n"
          ],
          "name": "stdout"
        }
      ]
    },
    {
      "cell_type": "code",
      "metadata": {
        "colab": {
          "base_uri": "https://localhost:8080/"
        },
        "id": "jM1Uii6rmZ6n",
        "outputId": "9fd6299c-faf0-4f08-87ad-29335f950067"
      },
      "source": [
        "round_higher = math.ceil(1.4) # round up\n",
        "round_lower = math.floor(1.4) # round down\n",
        "\n",
        "print(round_higher) \n",
        "print(round_lower)"
      ],
      "execution_count": 11,
      "outputs": [
        {
          "output_type": "stream",
          "text": [
            "2\n",
            "1\n"
          ],
          "name": "stdout"
        }
      ]
    },
    {
      "cell_type": "code",
      "metadata": {
        "colab": {
          "base_uri": "https://localhost:8080/"
        },
        "id": "Hd5VUw2nmp7F",
        "outputId": "84c8cf85-b21b-405a-e358-1fc1c67ac00d"
      },
      "source": [
        "pi_value = math.pi # get the pi constant\n",
        "\n",
        "print(pi_value)"
      ],
      "execution_count": 12,
      "outputs": [
        {
          "output_type": "stream",
          "text": [
            "3.141592653589793\n"
          ],
          "name": "stdout"
        }
      ]
    },
    {
      "cell_type": "code",
      "metadata": {
        "colab": {
          "base_uri": "https://localhost:8080/"
        },
        "id": "IGEQMgw9myq1",
        "outputId": "b9a72371-dff3-4af5-d745-cf75f2c4db1c"
      },
      "source": [
        "# import the random module\n",
        "import random\n",
        "\n",
        "# generate random integer between 0 and 9 \n",
        "random_integer = random.randint(0,9)\n",
        "print(random_integer)\n"
      ],
      "execution_count": 13,
      "outputs": [
        {
          "output_type": "stream",
          "text": [
            "6\n"
          ],
          "name": "stdout"
        }
      ]
    },
    {
      "cell_type": "code",
      "metadata": {
        "colab": {
          "base_uri": "https://localhost:8080/"
        },
        "id": "K45jo35km2ur",
        "outputId": "fbfb6615-bcb2-4b93-8896-73cd0f23ffb2"
      },
      "source": [
        "# generate random number between 0 and 9\n",
        "random_number = random.randrange(9)\n",
        "print(random_number)"
      ],
      "execution_count": 14,
      "outputs": [
        {
          "output_type": "stream",
          "text": [
            "7\n"
          ],
          "name": "stdout"
        }
      ]
    }
  ]
}