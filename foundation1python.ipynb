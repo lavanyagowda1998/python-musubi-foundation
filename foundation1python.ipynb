{
  "nbformat": 4,
  "nbformat_minor": 0,
  "metadata": {
    "colab": {
      "name": "foundation1python.ipynb",
      "provenance": [],
      "collapsed_sections": [],
      "toc_visible": true,
      "authorship_tag": "ABX9TyMk+p2tPejoNA/OIxFyBd3F",
      "include_colab_link": true
    },
    "kernelspec": {
      "name": "python3",
      "display_name": "Python 3"
    },
    "language_info": {
      "name": "python"
    }
  },
  "cells": [
    {
      "cell_type": "markdown",
      "metadata": {
        "id": "view-in-github",
        "colab_type": "text"
      },
      "source": [
        "<a href=\"https://colab.research.google.com/github/lavanyagowda1998/python-musubi-foundation/blob/main/foundation1python.ipynb\" target=\"_parent\"><img src=\"https://colab.research.google.com/assets/colab-badge.svg\" alt=\"Open In Colab\"/></a>"
      ]
    },
    {
      "cell_type": "code",
      "metadata": {
        "colab": {
          "base_uri": "https://localhost:8080/"
        },
        "id": "I2gWTuajB2io",
        "outputId": "31e35622-ed60-4fbb-b8aa-5920ef8d37ce"
      },
      "source": [
        "#print function is used to print the content inside the quotes\n",
        "#can be in 'single quotes' or \"double quotes\"\n",
        "print(\"hello world\")"
      ],
      "execution_count": null,
      "outputs": [
        {
          "output_type": "stream",
          "text": [
            "hello world\n"
          ],
          "name": "stdout"
        }
      ]
    },
    {
      "cell_type": "code",
      "metadata": {
        "colab": {
          "base_uri": "https://localhost:8080/"
        },
        "id": "OT0ggp67CQhn",
        "outputId": "6579768a-2501-412f-976f-4ea14bd01782"
      },
      "source": [
        "print('hello world')"
      ],
      "execution_count": null,
      "outputs": [
        {
          "output_type": "stream",
          "text": [
            "hello world\n"
          ],
          "name": "stdout"
        }
      ]
    },
    {
      "cell_type": "code",
      "metadata": {
        "colab": {
          "base_uri": "https://localhost:8080/"
        },
        "id": "VC15tPYLC9Sa",
        "outputId": "284cfea2-8730-4b63-cf94-60034ce4bad2"
      },
      "source": [
        "print(\" Iam new to python! \")"
      ],
      "execution_count": null,
      "outputs": [
        {
          "output_type": "stream",
          "text": [
            " Iam new to python! \n"
          ],
          "name": "stdout"
        }
      ]
    },
    {
      "cell_type": "code",
      "metadata": {
        "colab": {
          "base_uri": "https://localhost:8080/"
        },
        "id": "QobIYhRyDCi1",
        "outputId": "a463a808-b531-4d07-95b8-c5f0d9fef2ee"
      },
      "source": [
        "help(print)"
      ],
      "execution_count": null,
      "outputs": [
        {
          "output_type": "stream",
          "text": [
            "Help on built-in function print in module builtins:\n",
            "\n",
            "print(...)\n",
            "    print(value, ..., sep=' ', end='\\n', file=sys.stdout, flush=False)\n",
            "    \n",
            "    Prints the values to a stream, or to sys.stdout by default.\n",
            "    Optional keyword arguments:\n",
            "    file:  a file-like object (stream); defaults to the current sys.stdout.\n",
            "    sep:   string inserted between values, default a space.\n",
            "    end:   string appended after the last value, default a newline.\n",
            "    flush: whether to forcibly flush the stream.\n",
            "\n"
          ],
          "name": "stdout"
        }
      ]
    },
    {
      "cell_type": "code",
      "metadata": {
        "colab": {
          "base_uri": "https://localhost:8080/"
        },
        "id": "Ez-fgJgtD1TZ",
        "outputId": "095176d2-0999-4b71-8cb1-a81872e663c5"
      },
      "source": [
        "#this is a single comment\n",
        "print(\"this is not a comment\")"
      ],
      "execution_count": null,
      "outputs": [
        {
          "output_type": "stream",
          "text": [
            "this is not a comment\n"
          ],
          "name": "stdout"
        }
      ]
    },
    {
      "cell_type": "code",
      "metadata": {
        "colab": {
          "base_uri": "https://localhost:8080/"
        },
        "id": "4e5r1P3cEOLf",
        "outputId": "24b350b4-21de-4aa6-a442-087aeebf7bf4"
      },
      "source": [
        "\"\"\"\n",
        "this is a \n",
        "triple quotes for multiple \n",
        "line start with triple quotes and end with triple quotes\"\"\"\n",
        "print(\"this is not a comment either\")"
      ],
      "execution_count": null,
      "outputs": [
        {
          "output_type": "stream",
          "text": [
            "this is not a comment either\n"
          ],
          "name": "stdout"
        }
      ]
    },
    {
      "cell_type": "markdown",
      "metadata": {
        "id": "Gb1-D1D9E2Qj"
      },
      "source": [
        "**Excercise 2**"
      ]
    },
    {
      "cell_type": "code",
      "metadata": {
        "colab": {
          "base_uri": "https://localhost:8080/"
        },
        "id": "NC9wWoXHFNxf",
        "outputId": "605b3089-09a4-478b-c85f-90d02b312fe5"
      },
      "source": [
        "print(\"I am Learning python\")\n",
        "# It is possible to write within my code blocks without python"
      ],
      "execution_count": null,
      "outputs": [
        {
          "output_type": "stream",
          "text": [
            "I am Learning python\n"
          ],
          "name": "stdout"
        }
      ]
    },
    {
      "cell_type": "markdown",
      "metadata": {
        "id": "9uoPssV9FzyI"
      },
      "source": [
        "###VARIABLES "
      ]
    },
    {
      "cell_type": "code",
      "metadata": {
        "id": "LO25bl9CGET8"
      },
      "source": [
        "#bind a number 7 to variable \"x\"\n",
        "x = 7 #now x is assigned with a number 7\n"
      ],
      "execution_count": null,
      "outputs": []
    },
    {
      "cell_type": "code",
      "metadata": {
        "colab": {
          "base_uri": "https://localhost:8080/"
        },
        "id": "FmU11gMhGuCD",
        "outputId": "58910a30-e37d-4835-c3d7-f36da784fadb"
      },
      "source": [
        "print(x) #printing the value of x contains"
      ],
      "execution_count": null,
      "outputs": [
        {
          "output_type": "stream",
          "text": [
            "7\n"
          ],
          "name": "stdout"
        }
      ]
    },
    {
      "cell_type": "code",
      "metadata": {
        "colab": {
          "base_uri": "https://localhost:8080/",
          "height": 36
        },
        "id": "WMEMoNvsG2TE",
        "outputId": "5308cfa2-3404-40db-bd71-270ae14617a8"
      },
      "source": [
        "##variables names start with a lowercase letter or underscore\n",
        "##can be followed by numbers or underscore\n",
        "va923 = \"lav\"\n",
        "va923"
      ],
      "execution_count": null,
      "outputs": [
        {
          "output_type": "execute_result",
          "data": {
            "application/vnd.google.colaboratory.intrinsic+json": {
              "type": "string"
            },
            "text/plain": [
              "'lav'"
            ]
          },
          "metadata": {
            "tags": []
          },
          "execution_count": 23
        }
      ]
    },
    {
      "cell_type": "code",
      "metadata": {
        "colab": {
          "base_uri": "https://localhost:8080/",
          "height": 36
        },
        "id": "9JOESW3wImqF",
        "outputId": "74ed5402-5067-467b-d791-91f420886e2b"
      },
      "source": [
        "_app4r_ = \"Biscuit\"\n",
        "_app4r_"
      ],
      "execution_count": null,
      "outputs": [
        {
          "output_type": "execute_result",
          "data": {
            "application/vnd.google.colaboratory.intrinsic+json": {
              "type": "string"
            },
            "text/plain": [
              "'Biscuit'"
            ]
          },
          "metadata": {
            "tags": []
          },
          "execution_count": 24
        }
      ]
    },
    {
      "cell_type": "code",
      "metadata": {
        "colab": {
          "base_uri": "https://localhost:8080/",
          "height": 36
        },
        "id": "AyGoT01yIVmZ",
        "outputId": "285c2c97-9966-4390-b2c1-4c86cc6a30fe"
      },
      "source": [
        " f8_9 = \"choco\"\n",
        " f8_9"
      ],
      "execution_count": null,
      "outputs": [
        {
          "output_type": "execute_result",
          "data": {
            "application/vnd.google.colaboratory.intrinsic+json": {
              "type": "string"
            },
            "text/plain": [
              "'choco'"
            ]
          },
          "metadata": {
            "tags": []
          },
          "execution_count": 25
        }
      ]
    },
    {
      "cell_type": "code",
      "metadata": {
        "colab": {
          "base_uri": "https://localhost:8080/",
          "height": 36
        },
        "id": "bjtoNrfSJA-p",
        "outputId": "8dfbb411-c962-4dd4-b0ae-94de2b25c37d"
      },
      "source": [
        "tmp = 'ice'\n",
        "tmp"
      ],
      "execution_count": null,
      "outputs": [
        {
          "output_type": "execute_result",
          "data": {
            "application/vnd.google.colaboratory.intrinsic+json": {
              "type": "string"
            },
            "text/plain": [
              "'ice'"
            ]
          },
          "metadata": {
            "tags": []
          },
          "execution_count": 27
        }
      ]
    },
    {
      "cell_type": "code",
      "metadata": {
        "colab": {
          "base_uri": "https://localhost:8080/",
          "height": 186
        },
        "id": "3E7jdV9kJHrp",
        "outputId": "7ae51f80-972e-4d9c-fab7-70f0e867e1b1"
      },
      "source": [
        "tmp = ice\n",
        "tmp\n",
        "#string should always iclosed with double quotes "
      ],
      "execution_count": null,
      "outputs": [
        {
          "output_type": "error",
          "ename": "NameError",
          "evalue": "ignored",
          "traceback": [
            "\u001b[0;31m---------------------------------------------------------------------------\u001b[0m",
            "\u001b[0;31mNameError\u001b[0m                                 Traceback (most recent call last)",
            "\u001b[0;32m<ipython-input-28-b98d2631123f>\u001b[0m in \u001b[0;36m<module>\u001b[0;34m()\u001b[0m\n\u001b[0;32m----> 1\u001b[0;31m \u001b[0mtmp\u001b[0m \u001b[0;34m=\u001b[0m \u001b[0mice\u001b[0m\u001b[0;34m\u001b[0m\u001b[0;34m\u001b[0m\u001b[0m\n\u001b[0m\u001b[1;32m      2\u001b[0m \u001b[0mtmp\u001b[0m\u001b[0;34m\u001b[0m\u001b[0;34m\u001b[0m\u001b[0m\n",
            "\u001b[0;31mNameError\u001b[0m: name 'ice' is not defined"
          ]
        }
      ]
    },
    {
      "cell_type": "code",
      "metadata": {
        "colab": {
          "base_uri": "https://localhost:8080/",
          "height": 36
        },
        "id": "q35QWgH9JSax",
        "outputId": "6f1a8282-8181-4e93-a3df-28cbeda38294"
      },
      "source": [
        "chalk = \"powder\"\n",
        "chalk"
      ],
      "execution_count": null,
      "outputs": [
        {
          "output_type": "execute_result",
          "data": {
            "application/vnd.google.colaboratory.intrinsic+json": {
              "type": "string"
            },
            "text/plain": [
              "'powder'"
            ]
          },
          "metadata": {
            "tags": []
          },
          "execution_count": 29
        }
      ]
    },
    {
      "cell_type": "code",
      "metadata": {
        "id": "RfcU0YxUJudz"
      },
      "source": [
        "###9va23, #app#4r_, f8-9, tm*p; are NOT allowed because it start with number,# symbol,- symbol,tm*p * symbol"
      ],
      "execution_count": null,
      "outputs": []
    },
    {
      "cell_type": "code",
      "metadata": {
        "colab": {
          "base_uri": "https://localhost:8080/",
          "height": 132
        },
        "id": "Ii9gAVG0KPBX",
        "outputId": "c07a0679-b6e2-4c3d-941f-c044d85faa97"
      },
      "source": [
        "f8-9 = 'king'\n",
        "f8-9"
      ],
      "execution_count": null,
      "outputs": [
        {
          "output_type": "error",
          "ename": "SyntaxError",
          "evalue": "ignored",
          "traceback": [
            "\u001b[0;36m  File \u001b[0;32m\"<ipython-input-30-d3ce6df272ca>\"\u001b[0;36m, line \u001b[0;32m1\u001b[0m\n\u001b[0;31m    f8-9 = 'king'\u001b[0m\n\u001b[0m                 ^\u001b[0m\n\u001b[0;31mSyntaxError\u001b[0m\u001b[0;31m:\u001b[0m can't assign to operator\n"
          ]
        }
      ]
    },
    {
      "cell_type": "code",
      "metadata": {
        "colab": {
          "base_uri": "https://localhost:8080/",
          "height": 36
        },
        "id": "76ZOyLBGKZqM",
        "outputId": "4e41f7ef-0c6c-49c5-fca1-89cbf3b6e586"
      },
      "source": [
        "f8_9= 'king'\n",
        "f8_9"
      ],
      "execution_count": null,
      "outputs": [
        {
          "output_type": "execute_result",
          "data": {
            "application/vnd.google.colaboratory.intrinsic+json": {
              "type": "string"
            },
            "text/plain": [
              "'king'"
            ]
          },
          "metadata": {
            "tags": []
          },
          "execution_count": 31
        }
      ]
    },
    {
      "cell_type": "markdown",
      "metadata": {
        "id": "3zHvCaLwLTYn"
      },
      "source": [
        "###Let's try making a variable that contains your name then print it !\n",
        "Excercise : 3\n",
        "Create a variable as called age and add your age to it\n",
        "\n",
        "Next print out your age in your notebook !"
      ]
    },
    {
      "cell_type": "code",
      "metadata": {
        "colab": {
          "base_uri": "https://localhost:8080/"
        },
        "id": "acjIOX_3KybZ",
        "outputId": "ded289c6-e639-4304-9611-ac5d7a0c91c1"
      },
      "source": [
        "age = 23\n",
        "age "
      ],
      "execution_count": null,
      "outputs": [
        {
          "output_type": "execute_result",
          "data": {
            "text/plain": [
              "23"
            ]
          },
          "metadata": {
            "tags": []
          },
          "execution_count": 32
        }
      ]
    },
    {
      "cell_type": "code",
      "metadata": {
        "colab": {
          "base_uri": "https://localhost:8080/"
        },
        "id": "w-MjPY_aK30J",
        "outputId": "e13e0094-3b23-4197-be7f-81ca8c22df7e"
      },
      "source": [
        "print(age) # here no need of double or single quotes because we are not printing statement we are printing the variable"
      ],
      "execution_count": null,
      "outputs": [
        {
          "output_type": "stream",
          "text": [
            "23\n"
          ],
          "name": "stdout"
        }
      ]
    },
    {
      "cell_type": "markdown",
      "metadata": {
        "id": "wRPzhf_jK36V"
      },
      "source": [
        "#Simple Program\n",
        "input: uses the input command\n",
        "output: used the print command"
      ]
    },
    {
      "cell_type": "code",
      "metadata": {
        "colab": {
          "base_uri": "https://localhost:8080/"
        },
        "id": "pOFRXpkeLdr5",
        "outputId": "814102e5-627d-45bc-db22-c13edff062c5"
      },
      "source": [
        "name = input(\"what is your  name?\")\n",
        "print(\"welcome to python world,\",name)"
      ],
      "execution_count": null,
      "outputs": [
        {
          "output_type": "stream",
          "text": [
            "what is your  name?lavanya\n",
            "welcome to python world, lavanya\n"
          ],
          "name": "stdout"
        }
      ]
    },
    {
      "cell_type": "markdown",
      "metadata": {
        "id": "xVtTcz1xMILl"
      },
      "source": [
        "#Let's create input function that not only takes the name of the user but also their age and then let's print it\n",
        "Excercise : 4\n",
        "Create two inputs with one taking the name and the other taking the age\n",
        "\n",
        "And then print out Hey <name> I am glad you started learning python at the age of <age>"
      ]
    },
    {
      "cell_type": "code",
      "metadata": {
        "colab": {
          "base_uri": "https://localhost:8080/"
        },
        "id": "A72CaKfyMN8J",
        "outputId": "6935d97c-fd9f-424f-a76a-eac5f08d4177"
      },
      "source": [
        "name = input(\"what is your name?\")\n",
        "age = input(\"what is your age?\")\n",
        "print(\"hey,\",name,\"glad you started learning python at the age of\",age)"
      ],
      "execution_count": null,
      "outputs": [
        {
          "output_type": "stream",
          "text": [
            "what is your name?punya\n",
            "what is your age?18\n",
            "hey, punya glad you started learning python at the age of 18\n"
          ],
          "name": "stdout"
        }
      ]
    },
    {
      "cell_type": "markdown",
      "metadata": {
        "id": "375EmEBtMMkW"
      },
      "source": [
        "###Data Types\n",
        "a particular kind of data entity, defined by the values it can take\n",
        "\n",
        "Python has several built-in data types, some of them are:\n",
        "\n",
        "numeric data types\n",
        "text sequence data type\n",
        "sequence data types\n",
        "mapping data type\n",
        "boolean data type\n",
        "set data type\n",
        "the type() function is used to check the data type of something in Python\n",
        "\n",
        "Numeric Data Types\n",
        "two basic numeric data types\n",
        "int: integers\n",
        "float: decimal numbers"
      ]
    },
    {
      "cell_type": "code",
      "metadata": {
        "colab": {
          "base_uri": "https://localhost:8080/"
        },
        "id": "lbqbb52_NGnS",
        "outputId": "4ff963a1-1338-4146-e9e2-715e122abc30"
      },
      "source": [
        "x = 7 # 7 is an integer \n",
        "type(x)"
      ],
      "execution_count": null,
      "outputs": [
        {
          "output_type": "execute_result",
          "data": {
            "text/plain": [
              "int"
            ]
          },
          "metadata": {
            "tags": []
          },
          "execution_count": 37
        }
      ]
    },
    {
      "cell_type": "code",
      "metadata": {
        "colab": {
          "base_uri": "https://localhost:8080/"
        },
        "id": "w2wbJA05OXyY",
        "outputId": "192c793b-fae4-4e0b-d69b-1342318c7818"
      },
      "source": [
        "y = 7.5\n",
        "type(y)"
      ],
      "execution_count": null,
      "outputs": [
        {
          "output_type": "execute_result",
          "data": {
            "text/plain": [
              "float"
            ]
          },
          "metadata": {
            "tags": []
          },
          "execution_count": 38
        }
      ]
    },
    {
      "cell_type": "markdown",
      "metadata": {
        "id": "Y2zDwfiaOc5I"
      },
      "source": [
        "#Text Sequence Types\n",
        "#strings are a text sequence type\n",
        "#they are a sequence of characters\n",
        "#they are immutable (unable to be changed.)\n",
        "#they are ordered"
      ]
    },
    {
      "cell_type": "code",
      "metadata": {
        "colab": {
          "base_uri": "https://localhost:8080/"
        },
        "id": "dAHCWGbdOpg6",
        "outputId": "0c0a65fb-7647-4833-dbb2-ba2ad0765368"
      },
      "source": [
        "# define a string \n",
        "python_string = 'TECH I.S. is awesome!'\n",
        "\n",
        "# check type \n",
        "type(python_string)"
      ],
      "execution_count": null,
      "outputs": [
        {
          "output_type": "execute_result",
          "data": {
            "text/plain": [
              "str"
            ]
          },
          "metadata": {
            "tags": []
          },
          "execution_count": 39
        }
      ]
    },
    {
      "cell_type": "markdown",
      "metadata": {
        "id": "t_6jFQbSO_L1"
      },
      "source": [
        "#Now that we know how to find out the datatype of variables\n",
        "#Excercise : 5\n",
        "#What is the datatype of these three variables :\n",
        "\n",
        "#discount = 43.8\n",
        "#height = 143\n",
        "#address = '#301, Pelican Street'"
      ]
    },
    {
      "cell_type": "code",
      "metadata": {
        "colab": {
          "base_uri": "https://localhost:8080/"
        },
        "id": "OXr2iCnQPNR-",
        "outputId": "3d9f13ce-f95a-451c-bd2e-c573f2b03baa"
      },
      "source": [
        "discount = 43.8\n",
        "type(discount)"
      ],
      "execution_count": null,
      "outputs": [
        {
          "output_type": "execute_result",
          "data": {
            "text/plain": [
              "float"
            ]
          },
          "metadata": {
            "tags": []
          },
          "execution_count": 40
        }
      ]
    },
    {
      "cell_type": "code",
      "metadata": {
        "colab": {
          "base_uri": "https://localhost:8080/"
        },
        "id": "RleYJXTzPVuU",
        "outputId": "bc4d6894-c055-48b7-d441-322b8ce27332"
      },
      "source": [
        "height = 143\n",
        "type(height)"
      ],
      "execution_count": null,
      "outputs": [
        {
          "output_type": "execute_result",
          "data": {
            "text/plain": [
              "int"
            ]
          },
          "metadata": {
            "tags": []
          },
          "execution_count": 41
        }
      ]
    },
    {
      "cell_type": "code",
      "metadata": {
        "colab": {
          "base_uri": "https://localhost:8080/"
        },
        "id": "fbNocnEePdXy",
        "outputId": "ac6d2dde-c4d6-4640-d38e-8b2470ebc9d2"
      },
      "source": [
        "address = \"#301.pelican street\"\n",
        "type(address)"
      ],
      "execution_count": null,
      "outputs": [
        {
          "output_type": "execute_result",
          "data": {
            "text/plain": [
              "str"
            ]
          },
          "metadata": {
            "tags": []
          },
          "execution_count": 42
        }
      ]
    },
    {
      "cell_type": "markdown",
      "metadata": {
        "id": "7XvhwhAdPpr-"
      },
      "source": [
        "##Sequence Types\n",
        "#there are three kinds of sequence types:\n",
        "#list: mutable sequence\n",
        "#tuple: immutable sequence (unable to be changed)\n",
        "#range: immutable sequence (unable to be changed)\n",
        "### List"
      ]
    },
    {
      "cell_type": "markdown",
      "metadata": {
        "id": "9FDSXXGVTBsM"
      },
      "source": [
        "### LISTS\n",
        "ordered group of comma seperated values in square brackets\to\n",
        "square brackets are mandatory\t\n",
        "mutable\t\n",
        "once created, content changes can be made\t\n",
        "should be chosen if content is not fixed, and keeps changing\t\n",
        "cannot be used as keys for dictionaries\t\n",
        "are not hashable and immutable\n"
      ]
    },
    {
      "cell_type": "code",
      "metadata": {
        "colab": {
          "base_uri": "https://localhost:8080/"
        },
        "id": "epM1mfaTQEy8",
        "outputId": "ef2dde12-ab07-4463-d1dd-a1f2c9121b7a"
      },
      "source": [
        "example_for_list = [3,\"apple\",92,10,\"mango\"]\n",
        "example_for_list"
      ],
      "execution_count": null,
      "outputs": [
        {
          "output_type": "execute_result",
          "data": {
            "text/plain": [
              "[3, 'apple', 92, 10, 'mango']"
            ]
          },
          "metadata": {
            "tags": []
          },
          "execution_count": 45
        }
      ]
    },
    {
      "cell_type": "code",
      "metadata": {
        "colab": {
          "base_uri": "https://localhost:8080/"
        },
        "id": "QbfTOGodQaEd",
        "outputId": "3c69e6b3-7d02-4e9f-f518-07b436257b8e"
      },
      "source": [
        "print(example_for_list)"
      ],
      "execution_count": null,
      "outputs": [
        {
          "output_type": "stream",
          "text": [
            "[3, 'apple', 92, 10, 'mango']\n"
          ],
          "name": "stdout"
        }
      ]
    },
    {
      "cell_type": "code",
      "metadata": {
        "colab": {
          "base_uri": "https://localhost:8080/"
        },
        "id": "wKWwM3RtQfZm",
        "outputId": "71f02d1d-bbff-404d-9ba8-11bdbcb28720"
      },
      "source": [
        "print(len(example_for_list))"
      ],
      "execution_count": null,
      "outputs": [
        {
          "output_type": "stream",
          "text": [
            "5\n"
          ],
          "name": "stdout"
        }
      ]
    },
    {
      "cell_type": "code",
      "metadata": {
        "colab": {
          "base_uri": "https://localhost:8080/"
        },
        "id": "2cp1i6DaQqR5",
        "outputId": "a27b2c77-dd8a-4b34-fb18-347a4b7a727e"
      },
      "source": [
        "print(type(example_for_list))"
      ],
      "execution_count": null,
      "outputs": [
        {
          "output_type": "stream",
          "text": [
            "<class 'list'>\n"
          ],
          "name": "stdout"
        }
      ]
    },
    {
      "cell_type": "code",
      "metadata": {
        "colab": {
          "base_uri": "https://localhost:8080/"
        },
        "id": "llfyhDfPQ1MB",
        "outputId": "081e6728-6f8f-430f-fe83-f3039bf125b7"
      },
      "source": [
        "type(example_for_list)"
      ],
      "execution_count": null,
      "outputs": [
        {
          "output_type": "execute_result",
          "data": {
            "text/plain": [
              "list"
            ]
          },
          "metadata": {
            "tags": []
          },
          "execution_count": 49
        }
      ]
    },
    {
      "cell_type": "code",
      "metadata": {
        "colab": {
          "base_uri": "https://localhost:8080/"
        },
        "id": "C_CDsDEgQ8zH",
        "outputId": "568a86e9-d311-4480-a5c7-993e7f648d30"
      },
      "source": [
        "example_for_list[0]"
      ],
      "execution_count": null,
      "outputs": [
        {
          "output_type": "execute_result",
          "data": {
            "text/plain": [
              "3"
            ]
          },
          "metadata": {
            "tags": []
          },
          "execution_count": 50
        }
      ]
    },
    {
      "cell_type": "code",
      "metadata": {
        "colab": {
          "base_uri": "https://localhost:8080/",
          "height": 36
        },
        "id": "SnKyu7SFRCmW",
        "outputId": "5389e41e-37ea-4edc-8906-a01c363d7c72"
      },
      "source": [
        "example_for_list[1]"
      ],
      "execution_count": null,
      "outputs": [
        {
          "output_type": "execute_result",
          "data": {
            "application/vnd.google.colaboratory.intrinsic+json": {
              "type": "string"
            },
            "text/plain": [
              "'apple'"
            ]
          },
          "metadata": {
            "tags": []
          },
          "execution_count": 51
        }
      ]
    },
    {
      "cell_type": "code",
      "metadata": {
        "colab": {
          "base_uri": "https://localhost:8080/"
        },
        "id": "BdjVcqTPRIIX",
        "outputId": "19931324-3be9-4cee-d330-dce9722ac4b3"
      },
      "source": [
        "example_for_list[2]\n"
      ],
      "execution_count": null,
      "outputs": [
        {
          "output_type": "execute_result",
          "data": {
            "text/plain": [
              "92"
            ]
          },
          "metadata": {
            "tags": []
          },
          "execution_count": 54
        }
      ]
    },
    {
      "cell_type": "code",
      "metadata": {
        "colab": {
          "base_uri": "https://localhost:8080/"
        },
        "id": "1d5vXBDhRaZe",
        "outputId": "f54519b5-9f42-4dbf-fc6e-85434d5fd993"
      },
      "source": [
        "\n",
        "example_for_list[3]\n",
        "\n"
      ],
      "execution_count": null,
      "outputs": [
        {
          "output_type": "execute_result",
          "data": {
            "text/plain": [
              "10"
            ]
          },
          "metadata": {
            "tags": []
          },
          "execution_count": 55
        }
      ]
    },
    {
      "cell_type": "code",
      "metadata": {
        "colab": {
          "base_uri": "https://localhost:8080/",
          "height": 36
        },
        "id": "A61-opWDRgsl",
        "outputId": "9af35219-35a6-4a6e-873d-a534092af3bb"
      },
      "source": [
        "example_for_list[4]"
      ],
      "execution_count": null,
      "outputs": [
        {
          "output_type": "execute_result",
          "data": {
            "application/vnd.google.colaboratory.intrinsic+json": {
              "type": "string"
            },
            "text/plain": [
              "'mango'"
            ]
          },
          "metadata": {
            "tags": []
          },
          "execution_count": 56
        }
      ]
    },
    {
      "cell_type": "markdown",
      "metadata": {
        "id": "qbvaNEzERmzX"
      },
      "source": [
        "\n",
        "### TUPLE\n",
        "## ordered group of comma seperated values in parenthesis\n",
        "\timmutable\n",
        "\tonce created, content cannot be changed\n",
        "\tchosen if content is fixed and never changes\n",
        "\tcan be used as keys for dictionaries\n",
        "\tare hashable and immutable"
      ]
    },
    {
      "cell_type": "code",
      "metadata": {
        "colab": {
          "base_uri": "https://localhost:8080/"
        },
        "id": "wQRoBm_ASj88",
        "outputId": "56ff140d-c13b-44d3-b93f-c73340d71f8c"
      },
      "source": [
        "# define a tuple\n",
        "tuple_example = (5,'11','a',2.86)\n",
        "print(tuple_example)\n",
        "\n"
      ],
      "execution_count": null,
      "outputs": [
        {
          "output_type": "stream",
          "text": [
            "(5, '11', 'a', 2.86)\n"
          ],
          "name": "stdout"
        }
      ]
    },
    {
      "cell_type": "code",
      "metadata": {
        "colab": {
          "base_uri": "https://localhost:8080/"
        },
        "id": "fCXK7vMkSq27",
        "outputId": "fc000fc3-ecef-4ad7-c608-0f0bd89c27a3"
      },
      "source": [
        "\n",
        "\n",
        "# check length of tuple\n",
        "print(len(tuple_example))\n",
        "\n"
      ],
      "execution_count": null,
      "outputs": [
        {
          "output_type": "stream",
          "text": [
            "4\n"
          ],
          "name": "stdout"
        }
      ]
    },
    {
      "cell_type": "code",
      "metadata": {
        "colab": {
          "base_uri": "https://localhost:8080/"
        },
        "id": "mt8ux1ZkSyI-",
        "outputId": "6b054775-d533-411b-d214-f6cf0dcbfa1e"
      },
      "source": [
        "\n",
        "# check type\n",
        "type(tuple_example)"
      ],
      "execution_count": null,
      "outputs": [
        {
          "output_type": "execute_result",
          "data": {
            "text/plain": [
              "tuple"
            ]
          },
          "metadata": {
            "tags": []
          },
          "execution_count": 60
        }
      ]
    },
    {
      "cell_type": "markdown",
      "metadata": {
        "id": "hy4gOaJIS-TW"
      },
      "source": [
        "# Let's make something using lists!\n",
        "# Excercise : 6\n",
        "# Make a list of your favourite colour, food and place and save it in a list called my_favs"
      ]
    },
    {
      "cell_type": "code",
      "metadata": {
        "id": "nKoevA-PTyJ_"
      },
      "source": [
        "my_favs = [\"Blue\",\"Idli\",\"Mysore\"]"
      ],
      "execution_count": null,
      "outputs": []
    },
    {
      "cell_type": "code",
      "metadata": {
        "colab": {
          "base_uri": "https://localhost:8080/"
        },
        "id": "puyaCDrPUCH8",
        "outputId": "c07e324e-5256-467e-b3ef-b7e5894555e7"
      },
      "source": [
        "my_favs"
      ],
      "execution_count": null,
      "outputs": [
        {
          "output_type": "execute_result",
          "data": {
            "text/plain": [
              "['Blue', 'Idli', 'Mysore']"
            ]
          },
          "metadata": {
            "tags": []
          },
          "execution_count": 62
        }
      ]
    },
    {
      "cell_type": "markdown",
      "metadata": {
        "id": "Ktar7LqjUE9f"
      },
      "source": [
        "### Range"
      ]
    },
    {
      "cell_type": "code",
      "metadata": {
        "id": "nXcv3j5OUnYF"
      },
      "source": [
        "range_example = range(7)"
      ],
      "execution_count": null,
      "outputs": []
    },
    {
      "cell_type": "code",
      "metadata": {
        "colab": {
          "base_uri": "https://localhost:8080/"
        },
        "id": "1huGZSdgUzoQ",
        "outputId": "00d0b22a-3815-4358-af79-4eb0a467d7cd"
      },
      "source": [
        "range_example"
      ],
      "execution_count": null,
      "outputs": [
        {
          "output_type": "execute_result",
          "data": {
            "text/plain": [
              "range(0, 7)"
            ]
          },
          "metadata": {
            "tags": []
          },
          "execution_count": 64
        }
      ]
    },
    {
      "cell_type": "code",
      "metadata": {
        "colab": {
          "base_uri": "https://localhost:8080/"
        },
        "id": "St_CI8tWU8Xa",
        "outputId": "51459f00-aa5e-4332-8c42-7bf53350b930"
      },
      "source": [
        "print(len(range_example))"
      ],
      "execution_count": null,
      "outputs": [
        {
          "output_type": "stream",
          "text": [
            "7\n"
          ],
          "name": "stdout"
        }
      ]
    },
    {
      "cell_type": "code",
      "metadata": {
        "colab": {
          "base_uri": "https://localhost:8080/"
        },
        "id": "Uc23IFUdVDi6",
        "outputId": "6e83caab-4760-47dd-fc9c-69b511615b3b"
      },
      "source": [
        "type(range_example)"
      ],
      "execution_count": null,
      "outputs": [
        {
          "output_type": "execute_result",
          "data": {
            "text/plain": [
              "range"
            ]
          },
          "metadata": {
            "tags": []
          },
          "execution_count": 66
        }
      ]
    },
    {
      "cell_type": "code",
      "metadata": {
        "colab": {
          "base_uri": "https://localhost:8080/"
        },
        "id": "4c6GT6rIVTLe",
        "outputId": "cd9023cc-cb0c-4af3-d99b-45e3033d6106"
      },
      "source": [
        "# define range with (start,stop,step)\n",
        "range_example = range(0,20,2)\n",
        "print(range_example)\n"
      ],
      "execution_count": null,
      "outputs": [
        {
          "output_type": "stream",
          "text": [
            "range(0, 20, 2)\n"
          ],
          "name": "stdout"
        }
      ]
    },
    {
      "cell_type": "code",
      "metadata": {
        "colab": {
          "base_uri": "https://localhost:8080/"
        },
        "id": "MhPpQ1ayVVPP",
        "outputId": "2944559c-9072-47b8-ed33-76e10b4b450d"
      },
      "source": [
        "print(len(range_example))"
      ],
      "execution_count": null,
      "outputs": [
        {
          "output_type": "stream",
          "text": [
            "10\n"
          ],
          "name": "stdout"
        }
      ]
    },
    {
      "cell_type": "code",
      "metadata": {
        "colab": {
          "base_uri": "https://localhost:8080/"
        },
        "id": "jpywBGI1Va3N",
        "outputId": "08b4be8d-ff18-4dc6-fec6-9914739a9f0a"
      },
      "source": [
        "type(range_example)"
      ],
      "execution_count": null,
      "outputs": [
        {
          "output_type": "execute_result",
          "data": {
            "text/plain": [
              "range"
            ]
          },
          "metadata": {
            "tags": []
          },
          "execution_count": 69
        }
      ]
    },
    {
      "cell_type": "markdown",
      "metadata": {
        "id": "1LPZ7-ZGVoVp"
      },
      "source": [
        "##Let's get a bit crafty with the range function\n",
        "Excercise : 7\n",
        "Using the range function from 4 to 40 and then check the length"
      ]
    },
    {
      "cell_type": "code",
      "metadata": {
        "id": "YkYnWEU4VySF"
      },
      "source": [
        "r = range(4,40)"
      ],
      "execution_count": null,
      "outputs": []
    },
    {
      "cell_type": "code",
      "metadata": {
        "colab": {
          "base_uri": "https://localhost:8080/"
        },
        "id": "_Pn1opAHV8rE",
        "outputId": "75d88cd9-68b6-4274-adc4-bf7cb4744e5a"
      },
      "source": [
        "print(len(r))"
      ],
      "execution_count": null,
      "outputs": [
        {
          "output_type": "stream",
          "text": [
            "36\n"
          ],
          "name": "stdout"
        }
      ]
    },
    {
      "cell_type": "markdown",
      "metadata": {
        "id": "8j0HyA1zWAp2"
      },
      "source": [
        "##Mapping Types\n",
        "#dictionary is a mapping data type\n",
        "#it is mutable\n",
        "#unordered"
      ]
    },
    {
      "cell_type": "code",
      "metadata": {
        "colab": {
          "base_uri": "https://localhost:8080/"
        },
        "id": "XXtNTLP1WOSe",
        "outputId": "af2caba0-4393-4ec9-fc61-cd18761835c0"
      },
      "source": [
        "# define a dictionary\n",
        "b = {'one': 1, 'two': 2, 'three': 3} ##key = value\n",
        "print(b)\n",
        "\n"
      ],
      "execution_count": null,
      "outputs": [
        {
          "output_type": "stream",
          "text": [
            "{'one': 1, 'two': 2, 'three': 3}\n"
          ],
          "name": "stdout"
        }
      ]
    },
    {
      "cell_type": "code",
      "metadata": {
        "colab": {
          "base_uri": "https://localhost:8080/"
        },
        "id": "fbx6Uc2BWcWo",
        "outputId": "230f1cf7-4cc3-47ed-d50d-b54e6b9fdaac"
      },
      "source": [
        "# check type\n",
        "type(b)"
      ],
      "execution_count": null,
      "outputs": [
        {
          "output_type": "execute_result",
          "data": {
            "text/plain": [
              "dict"
            ]
          },
          "metadata": {
            "tags": []
          },
          "execution_count": 74
        }
      ]
    },
    {
      "cell_type": "code",
      "metadata": {
        "colab": {
          "base_uri": "https://localhost:8080/"
        },
        "id": "3RNBBGRXWeUe",
        "outputId": "d6b66225-d7df-40fb-f9b0-6842247abcd4"
      },
      "source": [
        "b[\"one\"]"
      ],
      "execution_count": null,
      "outputs": [
        {
          "output_type": "execute_result",
          "data": {
            "text/plain": [
              "1"
            ]
          },
          "metadata": {
            "tags": []
          },
          "execution_count": 75
        }
      ]
    },
    {
      "cell_type": "markdown",
      "metadata": {
        "id": "OeynkIegXLfe"
      },
      "source": [
        "##Excercise : 8\n",
        "#Make a dictionary with students name and their scores !\n",
        "\n",
        "#Student : Jake Score : 70\n",
        "#Student : Mako Score : 75\n",
        "#Student : Alex Score : 78.5"
      ]
    },
    {
      "cell_type": "code",
      "metadata": {
        "id": "U9m0rddFXS_T"
      },
      "source": [
        ""
      ],
      "execution_count": null,
      "outputs": []
    },
    {
      "cell_type": "code",
      "metadata": {
        "colab": {
          "base_uri": "https://localhost:8080/"
        },
        "id": "uD9QJSbnWpNs",
        "outputId": "4c03664c-2543-4eb0-a777-8540791fb6d3"
      },
      "source": [
        "student = {\"Jake Score \": 70,\"Mako Score\" : 75,\"Alex Score\" : 78.5}\n",
        "student### alphabet wise recording the rank "
      ],
      "execution_count": null,
      "outputs": [
        {
          "output_type": "execute_result",
          "data": {
            "text/plain": [
              "{'Alex Score': 78.5, 'Jake Score ': 70, 'Mako Score': 75}"
            ]
          },
          "metadata": {
            "tags": []
          },
          "execution_count": 77
        }
      ]
    },
    {
      "cell_type": "markdown",
      "metadata": {
        "id": "d1RQIcksXWmz"
      },
      "source": [
        "#Boolean Types\n",
        "#state of truth\n",
        "### may be True or False"
      ]
    },
    {
      "cell_type": "code",
      "metadata": {
        "colab": {
          "base_uri": "https://localhost:8080/"
        },
        "id": "CjdXW5h8X886",
        "outputId": "bea6e2e6-ea04-4bf5-8072-dd3f4385f676"
      },
      "source": [
        "b = True\n",
        "type(b)"
      ],
      "execution_count": null,
      "outputs": [
        {
          "output_type": "execute_result",
          "data": {
            "text/plain": [
              "bool"
            ]
          },
          "metadata": {
            "tags": []
          },
          "execution_count": 80
        }
      ]
    },
    {
      "cell_type": "code",
      "metadata": {
        "colab": {
          "base_uri": "https://localhost:8080/"
        },
        "id": "RV8_j4cjYM_N",
        "outputId": "9eb67191-4c88-4173-b7cc-ef47c58ef683"
      },
      "source": [
        "f = False\n",
        "type(f)"
      ],
      "execution_count": null,
      "outputs": [
        {
          "output_type": "execute_result",
          "data": {
            "text/plain": [
              "bool"
            ]
          },
          "metadata": {
            "tags": []
          },
          "execution_count": 81
        }
      ]
    },
    {
      "cell_type": "markdown",
      "metadata": {
        "id": "Odn7SxMWYVdv"
      },
      "source": [
        "#Set Types\n",
        "## set is an unordered collection of distinct objects which  are colosed with flower braces"
      ]
    },
    {
      "cell_type": "code",
      "metadata": {
        "colab": {
          "base_uri": "https://localhost:8080/"
        },
        "id": "-2O-z4UVYi63",
        "outputId": "b3ddfda9-c287-471b-9ae7-2e5a6502de2b"
      },
      "source": [
        "set_of_numbers = {0,9,1,5,7}\n",
        "print(set_of_numbers)"
      ],
      "execution_count": null,
      "outputs": [
        {
          "output_type": "stream",
          "text": [
            "{0, 1, 5, 7, 9}\n"
          ],
          "name": "stdout"
        }
      ]
    },
    {
      "cell_type": "code",
      "metadata": {
        "id": "mBcClEEGY20q"
      },
      "source": [
        "names = ['olivia', 'caleb', 'olivia']\n",
        "names_set = set(names)"
      ],
      "execution_count": null,
      "outputs": []
    },
    {
      "cell_type": "code",
      "metadata": {
        "colab": {
          "base_uri": "https://localhost:8080/"
        },
        "id": "knYBo1xYZE_x",
        "outputId": "b69b2972-c7b6-4f5d-c1f6-1944d67804e4"
      },
      "source": [
        "names_set"
      ],
      "execution_count": null,
      "outputs": [
        {
          "output_type": "execute_result",
          "data": {
            "text/plain": [
              "{'caleb', 'olivia'}"
            ]
          },
          "metadata": {
            "tags": []
          },
          "execution_count": 84
        }
      ]
    },
    {
      "cell_type": "code",
      "metadata": {
        "colab": {
          "base_uri": "https://localhost:8080/"
        },
        "id": "HMlRX2-bZI_o",
        "outputId": "002cf4bf-0774-4a3b-a03c-a8bbce8e4d40"
      },
      "source": [
        "unique_names = list(names_set)\n",
        "print(unique_names)"
      ],
      "execution_count": null,
      "outputs": [
        {
          "output_type": "stream",
          "text": [
            "['caleb', 'olivia']\n"
          ],
          "name": "stdout"
        }
      ]
    },
    {
      "cell_type": "markdown",
      "metadata": {
        "id": "bSCam0iFZNSM"
      },
      "source": [
        "### Operators\n",
        "#popular kinds of operators\n",
        "\n",
        "numeric operators\n",
        "comparison operators\n",
        "logical operators\n",
        "assignment operators\n",
        "idenity operators\n",
        "membership operators\n",
        "bitwise operators\n",
        "some are discussed below\n",
        "\n",
        "### Numeric Operators\n",
        "#used with numeric data types to perform mathematical operations\n",
        "#+: addition\n",
        "\n",
        "#-: subtraction\n",
        "#*: multiplication\n",
        "#/: division\n",
        "#//: floor division\n",
        "#%: modulus (remainder)\n",
        "#**: raising to power\n",
        "#abs(): absolute value of number\n",
        "#round(): rounds a number\n",
        "#bin(): get binary version of a number\n",
        "#hex(): get hexadecimal version of a number"
      ]
    },
    {
      "cell_type": "code",
      "metadata": {
        "id": "ED2ejc6IZ24x"
      },
      "source": [
        "\n",
        "# set values of x, y and z for numeric operators exploration\n",
        "x = 5   # integer value\n",
        "y = 2.0 # float value\n",
        "z = -13 # negative integer\n",
        "\n",
        "#(run this cell to initialize values for the next few cells!)"
      ],
      "execution_count": null,
      "outputs": []
    },
    {
      "cell_type": "code",
      "metadata": {
        "colab": {
          "base_uri": "https://localhost:8080/"
        },
        "id": "g5HS4bElbB3B",
        "outputId": "ed9e955c-5673-466f-ef35-db32d97faaf9"
      },
      "source": [
        "# sum of x and y\n",
        "print(x + y)"
      ],
      "execution_count": null,
      "outputs": [
        {
          "output_type": "stream",
          "text": [
            "7.0\n"
          ],
          "name": "stdout"
        }
      ]
    },
    {
      "cell_type": "code",
      "metadata": {
        "colab": {
          "base_uri": "https://localhost:8080/"
        },
        "id": "OwEH7zsmbkJm",
        "outputId": "7dac4c4c-abba-44cd-adca-a128b7f009d7"
      },
      "source": [
        "# difference of x and y\n",
        "print(x - y)"
      ],
      "execution_count": null,
      "outputs": [
        {
          "output_type": "stream",
          "text": [
            "3.0\n"
          ],
          "name": "stdout"
        }
      ]
    },
    {
      "cell_type": "code",
      "metadata": {
        "colab": {
          "base_uri": "https://localhost:8080/"
        },
        "id": "5dYzceQFb7EW",
        "outputId": "93a041a4-128c-4e81-c5c0-d81554859261"
      },
      "source": [
        "# product of x and y\n",
        "print(x * y)"
      ],
      "execution_count": null,
      "outputs": [
        {
          "output_type": "stream",
          "text": [
            "10.0\n"
          ],
          "name": "stdout"
        }
      ]
    },
    {
      "cell_type": "code",
      "metadata": {
        "colab": {
          "base_uri": "https://localhost:8080/"
        },
        "id": "qWSdF-jqb_lq",
        "outputId": "1561db8a-2a93-4c87-9b40-ea9a277c5165"
      },
      "source": [
        "# quotient of x and y\n",
        "print(x / y)"
      ],
      "execution_count": null,
      "outputs": [
        {
          "output_type": "stream",
          "text": [
            "2.5\n"
          ],
          "name": "stdout"
        }
      ]
    },
    {
      "cell_type": "code",
      "metadata": {
        "colab": {
          "base_uri": "https://localhost:8080/"
        },
        "id": "4kRsugV6d_yD",
        "outputId": "5a97ee46-8479-4efc-f9bd-6cc7f4d51c27"
      },
      "source": [
        "# floored quotient of x and y\n",
        "print(x // y)"
      ],
      "execution_count": null,
      "outputs": [
        {
          "output_type": "stream",
          "text": [
            "2.0\n"
          ],
          "name": "stdout"
        }
      ]
    },
    {
      "cell_type": "code",
      "metadata": {
        "colab": {
          "base_uri": "https://localhost:8080/"
        },
        "id": "aKxukI3TeFhR",
        "outputId": "7e3e6ddd-6dff-485d-d2c1-e387274f04d0"
      },
      "source": [
        "# remainder of x / y\n",
        "print(x % y)"
      ],
      "execution_count": null,
      "outputs": [
        {
          "output_type": "stream",
          "text": [
            "1.0\n"
          ],
          "name": "stdout"
        }
      ]
    },
    {
      "cell_type": "code",
      "metadata": {
        "colab": {
          "base_uri": "https://localhost:8080/"
        },
        "id": "sDvImE9eeU0W",
        "outputId": "0aad876f-e3ef-473a-f078-5badc4fb4ebf"
      },
      "source": [
        "# absolute value \n",
        "print(abs(z))"
      ],
      "execution_count": null,
      "outputs": [
        {
          "output_type": "stream",
          "text": [
            "13\n"
          ],
          "name": "stdout"
        }
      ]
    },
    {
      "cell_type": "code",
      "metadata": {
        "colab": {
          "base_uri": "https://localhost:8080/"
        },
        "id": "biCXClWIeiaT",
        "outputId": "3fb53d95-4304-40f4-da15-7b5d5b6bb311"
      },
      "source": [
        "# x raised to power y\n",
        "print(x ** y)"
      ],
      "execution_count": null,
      "outputs": [
        {
          "output_type": "stream",
          "text": [
            "25.0\n"
          ],
          "name": "stdout"
        }
      ]
    },
    {
      "cell_type": "code",
      "metadata": {
        "colab": {
          "base_uri": "https://localhost:8080/"
        },
        "id": "-5F88arYelfh",
        "outputId": "c95c20f9-2f5c-4827-a417-7fb0e97c4c22"
      },
      "source": [
        "# rounding a decimal example - round down\n",
        "print(round(2.1))"
      ],
      "execution_count": null,
      "outputs": [
        {
          "output_type": "stream",
          "text": [
            "2\n"
          ],
          "name": "stdout"
        }
      ]
    },
    {
      "cell_type": "code",
      "metadata": {
        "colab": {
          "base_uri": "https://localhost:8080/"
        },
        "id": "YAti9WXPey6V",
        "outputId": "bd11e6fb-7e00-4ac6-ad16-089c4ee3c68f"
      },
      "source": [
        "# rounding a decimal example - round up\n",
        "print(round(3.7))"
      ],
      "execution_count": null,
      "outputs": [
        {
          "output_type": "stream",
          "text": [
            "4\n"
          ],
          "name": "stdout"
        }
      ]
    },
    {
      "cell_type": "code",
      "metadata": {
        "colab": {
          "base_uri": "https://localhost:8080/"
        },
        "id": "eF-hMZbWe56b",
        "outputId": "bdb55068-3dde-453d-955f-eb1be7e90ba8"
      },
      "source": [
        "# binary version of the number\n",
        "print(bin(37))"
      ],
      "execution_count": null,
      "outputs": [
        {
          "output_type": "stream",
          "text": [
            "0b100101\n"
          ],
          "name": "stdout"
        }
      ]
    },
    {
      "cell_type": "code",
      "metadata": {
        "colab": {
          "base_uri": "https://localhost:8080/"
        },
        "id": "e6SnNYzze7Pk",
        "outputId": "54a83293-bf4a-48ed-8aa4-78e852f6643c"
      },
      "source": [
        "# hexadecimal version of the number\n",
        "print(hex(37))"
      ],
      "execution_count": null,
      "outputs": [
        {
          "output_type": "stream",
          "text": [
            "0x25\n"
          ],
          "name": "stdout"
        }
      ]
    },
    {
      "cell_type": "markdown",
      "metadata": {
        "id": "iwdrdVYgfFkg"
      },
      "source": [
        "Operators are the lifelines of any programming language ,let's put them to good use\n",
        "Excercise : 9\n",
        "Create a variable with the value of pi as 3.14, create a new variable as radius and assign it a float value, this will be the radius of a circle and then output the area of the circle using the formula pi*radius^2\n",
        "\n",
        "Comparison Operators\n",
        "used to compare two values\n",
        "<: less than\n",
        ">: greater than\n",
        "<=: less than or equal to\n",
        ">=: greater than or equal to\n",
        "==: equality\n",
        "!=: inequality"
      ]
    },
    {
      "cell_type": "code",
      "metadata": {
        "colab": {
          "base_uri": "https://localhost:8080/"
        },
        "id": "4yjTAGASffFQ",
        "outputId": "e4ca4204-7dd2-427b-e112-f73314153be9"
      },
      "source": [
        "# Greater Than \n",
        "i = 3 \n",
        "j = 7\n",
        "\n",
        "print(i > j)"
      ],
      "execution_count": null,
      "outputs": [
        {
          "output_type": "stream",
          "text": [
            "False\n"
          ],
          "name": "stdout"
        }
      ]
    },
    {
      "cell_type": "code",
      "metadata": {
        "colab": {
          "base_uri": "https://localhost:8080/"
        },
        "id": "V_Wut1HHfoHC",
        "outputId": "9f0f4edc-c35e-46c9-a628-cd05d1010da2"
      },
      "source": [
        "# Greater Than or Equal\n",
        "i = 3 \n",
        "j = 7\n",
        "\n",
        "print(i >= j)"
      ],
      "execution_count": null,
      "outputs": [
        {
          "output_type": "stream",
          "text": [
            "False\n"
          ],
          "name": "stdout"
        }
      ]
    },
    {
      "cell_type": "code",
      "metadata": {
        "colab": {
          "base_uri": "https://localhost:8080/"
        },
        "id": "hJR8GPL5fveH",
        "outputId": "0e4c6611-3d99-487c-89f8-f50f0f7f66f4"
      },
      "source": [
        "# Less Than \n",
        "i = 3 \n",
        "j = 7\n",
        "\n",
        "print(i < j)"
      ],
      "execution_count": null,
      "outputs": [
        {
          "output_type": "stream",
          "text": [
            "True\n"
          ],
          "name": "stdout"
        }
      ]
    },
    {
      "cell_type": "code",
      "metadata": {
        "colab": {
          "base_uri": "https://localhost:8080/"
        },
        "id": "MnCgLUJrf19E",
        "outputId": "32f879de-3cd3-4a52-a90a-369920cd0533"
      },
      "source": [
        "# Less Than or Equal \n",
        "i = 3 \n",
        "j = 7\n",
        "\n",
        "print(i <= j)"
      ],
      "execution_count": null,
      "outputs": [
        {
          "output_type": "stream",
          "text": [
            "True\n"
          ],
          "name": "stdout"
        }
      ]
    },
    {
      "cell_type": "code",
      "metadata": {
        "colab": {
          "base_uri": "https://localhost:8080/"
        },
        "id": "7ZKYnqk2f7e7",
        "outputId": "f90f9f81-d29c-4958-f345-c56bbbedde41"
      },
      "source": [
        "# Equality Test #1\n",
        "i = 3\n",
        "j = 7\n",
        "\n",
        "print(i == j)"
      ],
      "execution_count": null,
      "outputs": [
        {
          "output_type": "stream",
          "text": [
            "False\n"
          ],
          "name": "stdout"
        }
      ]
    },
    {
      "cell_type": "code",
      "metadata": {
        "colab": {
          "base_uri": "https://localhost:8080/"
        },
        "id": "Vrwcy56dgCx3",
        "outputId": "2d3501c1-c03a-4be3-9f16-22bfed78c16e"
      },
      "source": [
        "# Equality Test #2\n",
        "i = 3\n",
        "j = 3\n",
        "\n",
        "print(i == j)"
      ],
      "execution_count": null,
      "outputs": [
        {
          "output_type": "stream",
          "text": [
            "True\n"
          ],
          "name": "stdout"
        }
      ]
    },
    {
      "cell_type": "code",
      "metadata": {
        "colab": {
          "base_uri": "https://localhost:8080/"
        },
        "id": "8u8ibS0EgI1R",
        "outputId": "a77fb879-58fa-483b-ccf5-7662a418210d"
      },
      "source": [
        "# Inequality Test #1\n",
        "i = 3\n",
        "j = 7\n",
        "\n",
        "print(i != j)"
      ],
      "execution_count": null,
      "outputs": [
        {
          "output_type": "stream",
          "text": [
            "True\n"
          ],
          "name": "stdout"
        }
      ]
    },
    {
      "cell_type": "code",
      "metadata": {
        "colab": {
          "base_uri": "https://localhost:8080/"
        },
        "id": "RjpjR9yugNbv",
        "outputId": "3c3a9e0a-288e-45eb-cd1e-6ad1cb5b6aa4"
      },
      "source": [
        "# Inequality Test #2\n",
        "i = 3\n",
        "j = 3\n",
        "\n",
        "print(i != j)"
      ],
      "execution_count": null,
      "outputs": [
        {
          "output_type": "stream",
          "text": [
            "False\n"
          ],
          "name": "stdout"
        }
      ]
    },
    {
      "cell_type": "markdown",
      "metadata": {
        "id": "7si3ePT7gb9X"
      },
      "source": [
        "##Let's see what comparison operator can do for us\n",
        "##Excercise : 10\n",
        "In the last excercise you created a program to get the area of a circle , create a print function that checks if the area that your program created is bigger than 50 or not\n",
        "\n",
        "Logic Operators\n",
        "used to combine conditional statements\n",
        "and\n",
        "or\n",
        "not"
      ]
    },
    {
      "cell_type": "code",
      "metadata": {
        "id": "BmfntH87gyMV"
      },
      "source": [
        "## and Operator"
      ],
      "execution_count": null,
      "outputs": []
    },
    {
      "cell_type": "code",
      "metadata": {
        "colab": {
          "base_uri": "https://localhost:8080/"
        },
        "id": "SNPrCZgSgUUK",
        "outputId": "02f72dcc-3108-4283-8fc2-657098992688"
      },
      "source": [
        "#  'not' operator \n",
        "a = True\n",
        "\n",
        "print(not a)"
      ],
      "execution_count": null,
      "outputs": [
        {
          "output_type": "stream",
          "text": [
            "False\n"
          ],
          "name": "stdout"
        }
      ]
    },
    {
      "cell_type": "code",
      "metadata": {
        "colab": {
          "base_uri": "https://localhost:8080/"
        },
        "id": "V6MtamBZha59",
        "outputId": "08075e8a-6b82-4669-cf09-eba66556aa0a"
      },
      "source": [
        "# a and b are true\n",
        "a = True \n",
        "b = True\n",
        "\n",
        "print(a and b)"
      ],
      "execution_count": null,
      "outputs": [
        {
          "output_type": "stream",
          "text": [
            "True\n"
          ],
          "name": "stdout"
        }
      ]
    },
    {
      "cell_type": "code",
      "metadata": {
        "colab": {
          "base_uri": "https://localhost:8080/"
        },
        "id": "oL4duCerhc1T",
        "outputId": "1ffee2d8-bcaf-46eb-fe2b-c85694846319"
      },
      "source": [
        "# only b is true \n",
        "a = False \n",
        "b = True\n",
        "\n",
        "print(a and b)"
      ],
      "execution_count": null,
      "outputs": [
        {
          "output_type": "stream",
          "text": [
            "False\n"
          ],
          "name": "stdout"
        }
      ]
    },
    {
      "cell_type": "code",
      "metadata": {
        "colab": {
          "base_uri": "https://localhost:8080/"
        },
        "id": "L6gOGZ9yhl16",
        "outputId": "a1913d47-943c-4038-de04-d4fdc7fe5bda"
      },
      "source": [
        "# a and b are both false\n",
        "a = False \n",
        "b = False\n",
        "\n",
        "print(a and b)"
      ],
      "execution_count": null,
      "outputs": [
        {
          "output_type": "stream",
          "text": [
            "False\n"
          ],
          "name": "stdout"
        }
      ]
    },
    {
      "cell_type": "markdown",
      "metadata": {
        "id": "tW6TU5u-hxLe"
      },
      "source": [
        "OR OPERATOR"
      ]
    },
    {
      "cell_type": "code",
      "metadata": {
        "colab": {
          "base_uri": "https://localhost:8080/"
        },
        "id": "zD_qjpsrhxcc",
        "outputId": "e5e00c0f-812e-447f-8389-df5f1176aad2"
      },
      "source": [
        "## 'or' operator \n",
        "\n",
        "# a and b are true\n",
        "a = True \n",
        "b = True\n",
        "\n",
        "print(a or b)\n"
      ],
      "execution_count": null,
      "outputs": [
        {
          "output_type": "stream",
          "text": [
            "True\n"
          ],
          "name": "stdout"
        }
      ]
    },
    {
      "cell_type": "code",
      "metadata": {
        "colab": {
          "base_uri": "https://localhost:8080/"
        },
        "id": "VhONXRHViCpO",
        "outputId": "fce79e3a-7f85-4069-a64b-06c77e41bd21"
      },
      "source": [
        "# only a is true \n",
        "a = True \n",
        "b = False\n",
        "\n",
        "print(a or b)"
      ],
      "execution_count": null,
      "outputs": [
        {
          "output_type": "stream",
          "text": [
            "True\n"
          ],
          "name": "stdout"
        }
      ]
    },
    {
      "cell_type": "code",
      "metadata": {
        "colab": {
          "base_uri": "https://localhost:8080/"
        },
        "id": "16W_MqbqiFIR",
        "outputId": "73c70c68-5e36-4aea-94ec-c1deccc579dc"
      },
      "source": [
        "# only b is true \n",
        "a = False \n",
        "b = True\n",
        "\n",
        "print(a or b)"
      ],
      "execution_count": null,
      "outputs": [
        {
          "output_type": "stream",
          "text": [
            "True\n"
          ],
          "name": "stdout"
        }
      ]
    },
    {
      "cell_type": "code",
      "metadata": {
        "colab": {
          "base_uri": "https://localhost:8080/"
        },
        "id": "qj6Vg03diJgD",
        "outputId": "22023e63-f7eb-4fe7-e6c6-540222245e2b"
      },
      "source": [
        "# a and b are both false\n",
        "a = False \n",
        "b = False\n",
        "\n",
        "print(a or b)"
      ],
      "execution_count": null,
      "outputs": [
        {
          "output_type": "stream",
          "text": [
            "False\n"
          ],
          "name": "stdout"
        }
      ]
    },
    {
      "cell_type": "markdown",
      "metadata": {
        "id": "UmVog-CtiQ2y"
      },
      "source": [
        "To be OR not to be ? Let's explore what we can get done using logical operators\n",
        "Excercise : 11\n",
        "Create a print function for our circle area generator to check if the area is between 20 AND 50"
      ]
    },
    {
      "cell_type": "code",
      "metadata": {
        "id": "uP7Urd0iiYnf"
      },
      "source": [
        ""
      ],
      "execution_count": null,
      "outputs": []
    },
    {
      "cell_type": "markdown",
      "metadata": {
        "id": "bwEnzwxbiY4K"
      },
      "source": [
        "Assignment Operators\n",
        "used to assign values to variables\n",
        "\n",
        "=\n",
        "following operators combine numerical operations at the same time as assignment\n",
        "\n",
        "+=\n",
        "-=\n",
        "*=\n",
        "/=\n",
        "//=\n",
        "%=\n",
        "**="
      ]
    },
    {
      "cell_type": "code",
      "metadata": {
        "colab": {
          "base_uri": "https://localhost:8080/"
        },
        "id": "eo2LzmfdihV7",
        "outputId": "fb33c936-38fc-4147-a96b-d56d02f2ff9d"
      },
      "source": [
        "# assignment operator \n",
        "\n",
        "x = 21\n",
        "print(x)"
      ],
      "execution_count": null,
      "outputs": [
        {
          "output_type": "stream",
          "text": [
            "21\n"
          ],
          "name": "stdout"
        }
      ]
    },
    {
      "cell_type": "code",
      "metadata": {
        "colab": {
          "base_uri": "https://localhost:8080/"
        },
        "id": "82InvIoVim2p",
        "outputId": "64c10cca-7dd7-4b18-a391-5d4933cda0ea"
      },
      "source": [
        "# += operator\n",
        "\n",
        "x += 3\n",
        "print(x)"
      ],
      "execution_count": null,
      "outputs": [
        {
          "output_type": "stream",
          "text": [
            "24\n"
          ],
          "name": "stdout"
        }
      ]
    },
    {
      "cell_type": "code",
      "metadata": {
        "colab": {
          "base_uri": "https://localhost:8080/"
        },
        "id": "IV11wY3iim4h",
        "outputId": "8c2e3815-7643-451e-ad74-b736e41c81ee"
      },
      "source": [
        "# -= operator\n",
        "\n",
        "x -= 3\n",
        "print(x)"
      ],
      "execution_count": null,
      "outputs": [
        {
          "output_type": "stream",
          "text": [
            "21\n"
          ],
          "name": "stdout"
        }
      ]
    },
    {
      "cell_type": "code",
      "metadata": {
        "colab": {
          "base_uri": "https://localhost:8080/"
        },
        "id": "qFYxQ_zQim8m",
        "outputId": "3a7eadc3-4835-4667-e02c-9aca3b33f3ed"
      },
      "source": [
        "# *= operator\n",
        "\n",
        "x *= 3\n",
        "print(x)"
      ],
      "execution_count": null,
      "outputs": [
        {
          "output_type": "stream",
          "text": [
            "63\n"
          ],
          "name": "stdout"
        }
      ]
    },
    {
      "cell_type": "code",
      "metadata": {
        "colab": {
          "base_uri": "https://localhost:8080/"
        },
        "id": "lKVEkqIiim-r",
        "outputId": "30ff4e44-62dc-4a91-b982-7998843e9442"
      },
      "source": [
        "# /= operator\n",
        "\n",
        "x /= 3\n",
        "print(x)"
      ],
      "execution_count": null,
      "outputs": [
        {
          "output_type": "stream",
          "text": [
            "21.0\n"
          ],
          "name": "stdout"
        }
      ]
    },
    {
      "cell_type": "code",
      "metadata": {
        "colab": {
          "base_uri": "https://localhost:8080/"
        },
        "id": "TtzHyA7CinCZ",
        "outputId": "2ec314c4-c42a-4cc2-dd0d-7130f0cd9c7f"
      },
      "source": [
        "# //= operator\n",
        "\n",
        "x //= 3\n",
        "print(x)"
      ],
      "execution_count": null,
      "outputs": [
        {
          "output_type": "stream",
          "text": [
            "7.0\n"
          ],
          "name": "stdout"
        }
      ]
    },
    {
      "cell_type": "code",
      "metadata": {
        "colab": {
          "base_uri": "https://localhost:8080/"
        },
        "id": "MzpB1b1LinEt",
        "outputId": "795adff0-e0e2-444f-b328-8e80fc856bef"
      },
      "source": [
        "# %= operator\n",
        "\n",
        "x %= 3\n",
        "print(x)"
      ],
      "execution_count": null,
      "outputs": [
        {
          "output_type": "stream",
          "text": [
            "1.0\n"
          ],
          "name": "stdout"
        }
      ]
    },
    {
      "cell_type": "markdown",
      "metadata": {
        "id": "1t_vC9vmCXJ4"
      },
      "source": [
        "### ASSIGNMENT 1"
      ]
    },
    {
      "cell_type": "markdown",
      "metadata": {
        "id": "NdUaQ3rAZnx3"
      },
      "source": [
        "### SIMPLE CALCULATOR "
      ]
    },
    {
      "cell_type": "code",
      "metadata": {
        "colab": {
          "base_uri": "https://localhost:8080/"
        },
        "id": "owwV75sbjdAh",
        "outputId": "49f59c43-ce01-4955-a84f-4ae20985d26f"
      },
      "source": [
        "\n",
        "\n",
        "\n",
        "print(\"1 Addition\")\n",
        "print(\"2 Subtraction\")\n",
        "print(\"3 Multiplication\")\n",
        "print(\"4 Division\")\n",
        "choice = input(\"Enter your choice : \")\n",
        "num1 = float(input(\"Enter first number: \"))\n",
        "num2 = float(input(\"Enter second number: \"))\n",
        "\n",
        "if choice == '1':\n",
        "   print(num1, \"+\", num2, \"=\", (num1+num2))\n",
        "\n",
        "elif choice == '2':\n",
        "      print(num1, \"-\", num2, \"=\",(num1-num2))\n",
        "\n",
        "elif choice == '3':\n",
        "      print(num1, \"*\", num2, \"=\",(num1*num2))\n",
        "\n",
        "elif choice == '4':\n",
        "     if num2 == 0.0:\n",
        "        print(\"divide by 0 is error\")\n",
        "     else:  \n",
        "        print(num1, \"/\", num2, \"=\", (num1/num2))\n",
        "\n",
        "else:\n",
        "  print(\"Invalid Input\")\n",
        "\n",
        "\n"
      ],
      "execution_count": null,
      "outputs": [
        {
          "output_type": "stream",
          "text": [
            "1 Addition\n",
            "2 Subtraction\n",
            "3 Multiplication\n",
            "4 Division\n",
            "Enter your choice : 3\n",
            "Enter first number: 3\n",
            "Enter second number: 4\n",
            "3.0 * 4.0 = 12.0\n"
          ],
          "name": "stdout"
        }
      ]
    },
    {
      "cell_type": "markdown",
      "metadata": {
        "id": "ppYWXJ91inIc"
      },
      "source": [
        "### PERIMETER OF THE CIRCLE"
      ]
    },
    {
      "cell_type": "code",
      "metadata": {
        "colab": {
          "base_uri": "https://localhost:8080/"
        },
        "id": "ZV4CyBUQeo6J",
        "outputId": "10306879-59ed-4be0-e945-0c7cf74f61d7"
      },
      "source": [
        "radius = float(input(\"enter the radius of the circle:\"))\n",
        "perimeter = 2*3.1415*radius\n",
        "print(\"perimeter of the circle is\",perimeter)"
      ],
      "execution_count": null,
      "outputs": [
        {
          "output_type": "stream",
          "text": [
            "enter the radius of the circle:6\n",
            "perimeter of the circle is 37.698\n"
          ],
          "name": "stdout"
        }
      ]
    },
    {
      "cell_type": "code",
      "metadata": {
        "id": "QIgccedcbbx_"
      },
      "source": [
        "import math\n"
      ],
      "execution_count": null,
      "outputs": []
    },
    {
      "cell_type": "code",
      "metadata": {
        "colab": {
          "base_uri": "https://localhost:8080/"
        },
        "id": "GMZn1Z9DcV01",
        "outputId": "53d6cb34-62e9-4fbe-8b21-243d7825131a"
      },
      "source": [
        "radius = float(input(\"enter the radius of the circle:\"))\n",
        "perimeter = 2*math.pi*radius\n",
        "print(\"perimeter of the circle is\",perimeter)"
      ],
      "execution_count": null,
      "outputs": [
        {
          "output_type": "stream",
          "text": [
            "enter the radius of the circle:6\n",
            "perimeter of the circle is 37.69911184307752\n"
          ],
          "name": "stdout"
        }
      ]
    },
    {
      "cell_type": "markdown",
      "metadata": {
        "id": "DFTpDEyufHPF"
      },
      "source": [
        "### AREA OF THE CIRCLE \n"
      ]
    },
    {
      "cell_type": "code",
      "metadata": {
        "colab": {
          "base_uri": "https://localhost:8080/"
        },
        "id": "0f0a-XgufRRC",
        "outputId": "b9e57fd4-db14-4417-f277-367994f5e24c"
      },
      "source": [
        "radius = float(input(\"enter the radius of the circle:\"))\n",
        "area = math.pi*radius*radius\n",
        "print(\"perimeter of the circle is\",area)"
      ],
      "execution_count": null,
      "outputs": [
        {
          "output_type": "stream",
          "text": [
            "enter the radius of the circle:6\n",
            "perimeter of the circle is 113.09733552923255\n"
          ],
          "name": "stdout"
        }
      ]
    },
    {
      "cell_type": "code",
      "metadata": {
        "colab": {
          "base_uri": "https://localhost:8080/"
        },
        "id": "Cg44nUi_f0IE",
        "outputId": "3cb43c87-c94f-4f80-935f-ccf9652add39"
      },
      "source": [
        "Fruits = [\"Apple\",\"pineapple\",\"litchi\"]\n",
        "Fruits"
      ],
      "execution_count": null,
      "outputs": [
        {
          "output_type": "execute_result",
          "data": {
            "text/plain": [
              "['Apple', 'pineapple', 'litchi']"
            ]
          },
          "metadata": {
            "tags": []
          },
          "execution_count": 21
        }
      ]
    },
    {
      "cell_type": "code",
      "metadata": {
        "colab": {
          "base_uri": "https://localhost:8080/"
        },
        "id": "NK4zdN4Dgk4l",
        "outputId": "dfdfcc48-8037-49fa-b863-7939579e6e64"
      },
      "source": [
        "type(Fruits)"
      ],
      "execution_count": null,
      "outputs": [
        {
          "output_type": "execute_result",
          "data": {
            "text/plain": [
              "list"
            ]
          },
          "metadata": {
            "tags": []
          },
          "execution_count": 22
        }
      ]
    },
    {
      "cell_type": "code",
      "metadata": {
        "id": "G26YFV90gq6g"
      },
      "source": [
        "Fruits.append(\"jackfruit\")"
      ],
      "execution_count": null,
      "outputs": []
    },
    {
      "cell_type": "code",
      "metadata": {
        "colab": {
          "base_uri": "https://localhost:8080/"
        },
        "id": "M23umnO_gxvD",
        "outputId": "452cf494-a17c-4309-9b43-07dce97b3e03"
      },
      "source": [
        "Fruits"
      ],
      "execution_count": null,
      "outputs": [
        {
          "output_type": "execute_result",
          "data": {
            "text/plain": [
              "['Apple', 'pineapple', 'litchi', 'jackfruit']"
            ]
          },
          "metadata": {
            "tags": []
          },
          "execution_count": 24
        }
      ]
    },
    {
      "cell_type": "code",
      "metadata": {
        "colab": {
          "base_uri": "https://localhost:8080/"
        },
        "id": "ZKvAmZRdg1eP",
        "outputId": "89750554-3611-40b5-aa30-9f1e7e2e745b"
      },
      "source": [
        "Fruits = (\"Apple\",\"pineapple\",\"litchi\")\n",
        "Fruits"
      ],
      "execution_count": null,
      "outputs": [
        {
          "output_type": "execute_result",
          "data": {
            "text/plain": [
              "('Apple', 'pineapple', 'litchi')"
            ]
          },
          "metadata": {
            "tags": []
          },
          "execution_count": 25
        }
      ]
    },
    {
      "cell_type": "code",
      "metadata": {
        "colab": {
          "base_uri": "https://localhost:8080/"
        },
        "id": "RdD5pu_Jg9Av",
        "outputId": "59bec4f0-fd00-4471-9b69-aeaef616ef8e"
      },
      "source": [
        "type(Fruits)"
      ],
      "execution_count": null,
      "outputs": [
        {
          "output_type": "execute_result",
          "data": {
            "text/plain": [
              "tuple"
            ]
          },
          "metadata": {
            "tags": []
          },
          "execution_count": 26
        }
      ]
    },
    {
      "cell_type": "code",
      "metadata": {
        "colab": {
          "base_uri": "https://localhost:8080/",
          "height": 168
        },
        "id": "DqJl9ojBhDF3",
        "outputId": "9768e58d-8640-4bd8-e7e0-ad639e6d3d9b"
      },
      "source": [
        "Fruits.append(\"mango\")"
      ],
      "execution_count": null,
      "outputs": [
        {
          "output_type": "error",
          "ename": "AttributeError",
          "evalue": "ignored",
          "traceback": [
            "\u001b[0;31m---------------------------------------------------------------------------\u001b[0m",
            "\u001b[0;31mAttributeError\u001b[0m                            Traceback (most recent call last)",
            "\u001b[0;32m<ipython-input-27-24e9f22629b2>\u001b[0m in \u001b[0;36m<module>\u001b[0;34m()\u001b[0m\n\u001b[0;32m----> 1\u001b[0;31m \u001b[0mFruits\u001b[0m\u001b[0;34m.\u001b[0m\u001b[0mappend\u001b[0m\u001b[0;34m(\u001b[0m\u001b[0;34m\"mango\"\u001b[0m\u001b[0;34m)\u001b[0m\u001b[0;34m\u001b[0m\u001b[0;34m\u001b[0m\u001b[0m\n\u001b[0m",
            "\u001b[0;31mAttributeError\u001b[0m: 'tuple' object has no attribute 'append'"
          ]
        }
      ]
    },
    {
      "cell_type": "markdown",
      "metadata": {
        "id": "4rhXHfrthKHL"
      },
      "source": [
        "### FOUNDATIONS 2"
      ]
    },
    {
      "cell_type": "markdown",
      "metadata": {
        "id": "84BPzOY6DdVp"
      },
      "source": [
        "## Strings\n",
        "## strings are ordered sequence of characters\n",
        "## strings are immutable\n",
        "## i.e. cannot be modified after being created"
      ]
    },
    {
      "cell_type": "code",
      "metadata": {
        "colab": {
          "base_uri": "https://localhost:8080/"
        },
        "id": "fyLAkRIQDsAS",
        "outputId": "35773ed8-c3ab-4078-b78d-ea335e000df8"
      },
      "source": [
        "#DEFINING A STRINGS\n",
        "# STRINGS ARE DEFINED WITH A SINGLE QUOTES OR DOUBLE QUOTES\n",
        "name_one = 'TECH I.S.'\n",
        "print(name_one)"
      ],
      "execution_count": null,
      "outputs": [
        {
          "output_type": "stream",
          "text": [
            "TECH I.S.\n"
          ],
          "name": "stdout"
        }
      ]
    },
    {
      "cell_type": "code",
      "metadata": {
        "colab": {
          "base_uri": "https://localhost:8080/"
        },
        "id": "XJ2C2PyJEOFW",
        "outputId": "0012493e-0c9c-4f6f-f2c2-b0ded58f5e6d"
      },
      "source": [
        "name_one = \"TECH I.S.\"\n",
        "print(name_one)"
      ],
      "execution_count": null,
      "outputs": [
        {
          "output_type": "stream",
          "text": [
            "TECH I.S.\n"
          ],
          "name": "stdout"
        }
      ]
    },
    {
      "cell_type": "code",
      "metadata": {
        "colab": {
          "base_uri": "https://localhost:8080/"
        },
        "id": "T8GA2qX8ETF-",
        "outputId": "67162b03-cc3a-43fc-d736-7cfe8017ce71"
      },
      "source": [
        "# string defined with triple single quotes\n",
        "name_three = '''This is a long string and supports \n",
        "                multiline statements as well\n",
        "             '''\n",
        "print(name_three)"
      ],
      "execution_count": null,
      "outputs": [
        {
          "output_type": "stream",
          "text": [
            "This is a long string and supports \n",
            "                multiline statements as well\n",
            "             \n"
          ],
          "name": "stdout"
        }
      ]
    },
    {
      "cell_type": "code",
      "metadata": {
        "colab": {
          "base_uri": "https://localhost:8080/"
        },
        "id": "gLc6z7YqEblF",
        "outputId": "bb1e6c5d-523e-4c42-d5ef-c819d91fb050"
      },
      "source": [
        "# string defined with double quotes inside the single quotes\n",
        "name_four = 'Hello, \"TECH I.S. Student\"'\n",
        "print(name_four)"
      ],
      "execution_count": null,
      "outputs": [
        {
          "output_type": "stream",
          "text": [
            "Hello, \"TECH I.S. Student\"\n"
          ],
          "name": "stdout"
        }
      ]
    },
    {
      "cell_type": "markdown",
      "metadata": {
        "id": "BT6b3KZvEi91"
      },
      "source": [
        "##Welcome to the second chapter !\n",
        "##Excercise : 1\n",
        "##Make two strings ,first_name and last_name and add your name in those strings and then print them"
      ]
    },
    {
      "cell_type": "code",
      "metadata": {
        "colab": {
          "base_uri": "https://localhost:8080/"
        },
        "id": "cKIWJz83EzJJ",
        "outputId": "2f7c9fe7-19c4-496b-acfc-6abba15607b3"
      },
      "source": [
        "first_name = \"lavanya\"\n",
        "last_name = \" gowda\"\n",
        "print(first_name + last_name)"
      ],
      "execution_count": null,
      "outputs": [
        {
          "output_type": "stream",
          "text": [
            "lavanya gowda\n"
          ],
          "name": "stdout"
        }
      ]
    },
    {
      "cell_type": "markdown",
      "metadata": {
        "id": "e149-8IzFejK"
      },
      "source": [
        "##String Immutability Test"
      ]
    },
    {
      "cell_type": "code",
      "metadata": {
        "colab": {
          "base_uri": "https://localhost:8080/",
          "height": 204
        },
        "id": "zG-aFk9eFqO6",
        "outputId": "3eea1fcb-afaa-4dd8-c14d-59468f52f6a2"
      },
      "source": [
        "# define string\n",
        "s = \"hello\"\n",
        "\n",
        "# attempt assigment\n",
        "s[0] = 'y' #throws error - hence strings are immutable"
      ],
      "execution_count": null,
      "outputs": [
        {
          "output_type": "error",
          "ename": "TypeError",
          "evalue": "ignored",
          "traceback": [
            "\u001b[0;31m---------------------------------------------------------------------------\u001b[0m",
            "\u001b[0;31mTypeError\u001b[0m                                 Traceback (most recent call last)",
            "\u001b[0;32m<ipython-input-16-04e35a7fd8f6>\u001b[0m in \u001b[0;36m<module>\u001b[0;34m()\u001b[0m\n\u001b[1;32m      3\u001b[0m \u001b[0;34m\u001b[0m\u001b[0m\n\u001b[1;32m      4\u001b[0m \u001b[0;31m# attempt assigment\u001b[0m\u001b[0;34m\u001b[0m\u001b[0;34m\u001b[0m\u001b[0;34m\u001b[0m\u001b[0m\n\u001b[0;32m----> 5\u001b[0;31m \u001b[0ms\u001b[0m\u001b[0;34m[\u001b[0m\u001b[0;36m0\u001b[0m\u001b[0;34m]\u001b[0m \u001b[0;34m=\u001b[0m \u001b[0;34m'y'\u001b[0m \u001b[0;31m#throws error - hence strings are immutable\u001b[0m\u001b[0;34m\u001b[0m\u001b[0;34m\u001b[0m\u001b[0m\n\u001b[0m",
            "\u001b[0;31mTypeError\u001b[0m: 'str' object does not support item assignment"
          ]
        }
      ]
    },
    {
      "cell_type": "markdown",
      "metadata": {
        "id": "Nq7lV6LaGE7K"
      },
      "source": [
        "### quite interseting"
      ]
    },
    {
      "cell_type": "code",
      "metadata": {
        "colab": {
          "base_uri": "https://localhost:8080/"
        },
        "id": "v8fyHfGVFx-W",
        "outputId": "442935ea-94de-4f17-9a76-9da35011f58c"
      },
      "source": [
        "# however, rebinding works \n",
        "# reassigning s with 'y' concatenated with 'ello' extracted from s\n",
        "s = 'y' + s[1:len(s)]\n",
        "\n",
        "print(s)"
      ],
      "execution_count": null,
      "outputs": [
        {
          "output_type": "stream",
          "text": [
            "yello\n"
          ],
          "name": "stdout"
        }
      ]
    },
    {
      "cell_type": "code",
      "metadata": {
        "colab": {
          "base_uri": "https://localhost:8080/",
          "height": 36
        },
        "id": "TQgjzq0NGMHu",
        "outputId": "c5047b60-5de4-4f46-f25b-a43f0e661a71"
      },
      "source": [
        "s[1:len(s)]"
      ],
      "execution_count": null,
      "outputs": [
        {
          "output_type": "execute_result",
          "data": {
            "application/vnd.google.colaboratory.intrinsic+json": {
              "type": "string"
            },
            "text/plain": [
              "'ello'"
            ]
          },
          "metadata": {
            "tags": []
          },
          "execution_count": 18
        }
      ]
    },
    {
      "cell_type": "markdown",
      "metadata": {
        "id": "STtbiePAGir6"
      },
      "source": [
        "###Now that we know strings are immutable\n",
        "#Excercise : 2\n",
        "#In the above string where we are replacing the h of hello to y ,write a command which adds w at the end of yello to make yellow !"
      ]
    },
    {
      "cell_type": "code",
      "metadata": {
        "id": "AwT-J01tHH3r"
      },
      "source": [
        "s=\"yello\""
      ],
      "execution_count": null,
      "outputs": []
    },
    {
      "cell_type": "code",
      "metadata": {
        "colab": {
          "base_uri": "https://localhost:8080/"
        },
        "id": "KuokhVRtGssE",
        "outputId": "d1493ce3-5161-4841-e7cf-51ff0df9781a"
      },
      "source": [
        "# reassigning s with 'y' concatenated with 'ello' extracted from s\n",
        "s =  s[0:len(s)]+\"w\"\n",
        "\n",
        "print(s)"
      ],
      "execution_count": null,
      "outputs": [
        {
          "output_type": "stream",
          "text": [
            "yellow\n"
          ],
          "name": "stdout"
        }
      ]
    },
    {
      "cell_type": "markdown",
      "metadata": {
        "id": "FRLnYzDIHiWw"
      },
      "source": [
        "### String Concatenation¶"
      ]
    },
    {
      "cell_type": "code",
      "metadata": {
        "colab": {
          "base_uri": "https://localhost:8080/"
        },
        "id": "sWHx2mqEHuQD",
        "outputId": "e33c99f9-edd7-441b-d774-49e32e044895"
      },
      "source": [
        "first_name = \"TECH\"\n",
        "last_name = \"I.S.\"\n",
        "full_name = first_name + ' ' + last_name\n",
        "print(full_name)"
      ],
      "execution_count": null,
      "outputs": [
        {
          "output_type": "stream",
          "text": [
            "TECH I.S.\n"
          ],
          "name": "stdout"
        }
      ]
    },
    {
      "cell_type": "markdown",
      "metadata": {
        "id": "oDfUr9CkH321"
      },
      "source": [
        "###What are the practical way of using string concatenation ?\n",
        "##Excercise : 3\n",
        "##In Excercise : 1 we had created two strings ,first_name and last_name , write a command to print these two variables in the same line by concatenating them !"
      ]
    },
    {
      "cell_type": "code",
      "metadata": {
        "colab": {
          "base_uri": "https://localhost:8080/"
        },
        "id": "8ViSoPj8IQHS",
        "outputId": "de77e0d7-bff8-443f-81ee-d27312c78809"
      },
      "source": [
        "musubi = \"kai\"\n",
        "mangement = \"zen\"\n",
        "print(musubi + mangement)"
      ],
      "execution_count": null,
      "outputs": [
        {
          "output_type": "stream",
          "text": [
            "kaizen\n"
          ],
          "name": "stdout"
        }
      ]
    },
    {
      "cell_type": "markdown",
      "metadata": {
        "id": "U0iHXsTxIkzw"
      },
      "source": [
        "### String Multiplication"
      ]
    },
    {
      "cell_type": "code",
      "metadata": {
        "colab": {
          "base_uri": "https://localhost:8080/"
        },
        "id": "F4LI0D1YIvIJ",
        "outputId": "ecb23cc5-c757-453e-e523-29cb81abd191"
      },
      "source": [
        "name = 'Hayato '\n",
        "print(name)\n",
        "name_thrice = name * 3\n",
        "print(name_thrice)\n",
        "print(name*4)\n",
        "print(name*10)"
      ],
      "execution_count": null,
      "outputs": [
        {
          "output_type": "stream",
          "text": [
            "Hayato \n",
            "Hayato Hayato Hayato \n",
            "Hayato Hayato Hayato Hayato \n",
            "Hayato Hayato Hayato Hayato Hayato Hayato Hayato Hayato Hayato Hayato \n"
          ],
          "name": "stdout"
        }
      ]
    },
    {
      "cell_type": "markdown",
      "metadata": {
        "id": "Lu_zJVwGI9pZ"
      },
      "source": [
        "###Printing the same string can be time consuming !\n",
        "###Excercise : 4\n",
        "###Print your first_name six times using string multiplication, do you find it easier compared to writting 6 individual prints?\n",
        "\n",
        "###String Length"
      ]
    },
    {
      "cell_type": "code",
      "metadata": {
        "colab": {
          "base_uri": "https://localhost:8080/"
        },
        "id": "I-LiwdEDJKuV",
        "outputId": "57339e31-1979-43fb-e546-a971c528436c"
      },
      "source": [
        "first_name = \"lavanya \"\n",
        "print(name*6)"
      ],
      "execution_count": null,
      "outputs": [
        {
          "output_type": "stream",
          "text": [
            "lavanya lavanya lavanya lavanya lavanya lavanya \n"
          ],
          "name": "stdout"
        }
      ]
    },
    {
      "cell_type": "markdown",
      "metadata": {
        "id": "ecm_qbT9JccB"
      },
      "source": [
        "### String Length"
      ]
    },
    {
      "cell_type": "code",
      "metadata": {
        "colab": {
          "base_uri": "https://localhost:8080/"
        },
        "id": "dLzep9lrJk2g",
        "outputId": "29a08a97-a0c2-481b-a4d5-bbcda9adf157"
      },
      "source": [
        "# check length of string\n",
        "name = \"TECH I.S.\"\n",
        "len(name)"
      ],
      "execution_count": null,
      "outputs": [
        {
          "output_type": "execute_result",
          "data": {
            "text/plain": [
              "9"
            ]
          },
          "metadata": {
            "tags": []
          },
          "execution_count": 38
        }
      ]
    },
    {
      "cell_type": "markdown",
      "metadata": {
        "id": "8nxgExI9Jw45"
      },
      "source": [
        "## string indexing \n",
        "## in Python,\n",
        "## indexing of sequences starts from 0\n",
        "## string is a text sequence,\n",
        "## so indexing for strings starts from 0\n"
      ]
    },
    {
      "cell_type": "code",
      "metadata": {
        "id": "OspUFE9GKGHz",
        "colab": {
          "base_uri": "https://localhost:8080/"
        },
        "outputId": "a056680d-3ba6-4378-f14a-744fea53b3b8"
      },
      "source": [
        "# define a string \n",
        "s = \"abc\"\n",
        "#abc\n",
        "#a -> 0\n",
        "#b -> 1\n",
        "#c -> 2\n",
        "# indexing starts from 0 in Python\n",
        "\n",
        "# use square brackets and the index number to access data\n",
        "print(s[0]) # output: a"
      ],
      "execution_count": null,
      "outputs": [
        {
          "output_type": "stream",
          "text": [
            "a\n"
          ],
          "name": "stdout"
        }
      ]
    },
    {
      "cell_type": "code",
      "metadata": {
        "colab": {
          "base_uri": "https://localhost:8080/"
        },
        "id": "5dUpNr5qLJ2J",
        "outputId": "68b687ac-b297-4a27-e72b-aad2fe6af1fc"
      },
      "source": [
        "print(s[1]) # output: b"
      ],
      "execution_count": null,
      "outputs": [
        {
          "output_type": "stream",
          "text": [
            "b\n"
          ],
          "name": "stdout"
        }
      ]
    },
    {
      "cell_type": "code",
      "metadata": {
        "colab": {
          "base_uri": "https://localhost:8080/"
        },
        "id": "GX_wpqw-LONd",
        "outputId": "d081a967-530a-4942-f838-13ae84639bd3"
      },
      "source": [
        "print(s[2]) #output: c"
      ],
      "execution_count": null,
      "outputs": [
        {
          "output_type": "stream",
          "text": [
            "c\n"
          ],
          "name": "stdout"
        }
      ]
    },
    {
      "cell_type": "code",
      "metadata": {
        "colab": {
          "base_uri": "https://localhost:8080/"
        },
        "id": "4AhYAy9GLciv",
        "outputId": "3aea3644-a7ac-46a9-ee5e-f8fb9a994748"
      },
      "source": [
        "print(s[-1]) # output: c"
      ],
      "execution_count": null,
      "outputs": [
        {
          "output_type": "stream",
          "text": [
            "c\n"
          ],
          "name": "stdout"
        }
      ]
    },
    {
      "cell_type": "code",
      "metadata": {
        "colab": {
          "base_uri": "https://localhost:8080/"
        },
        "id": "2uCn_fKrLjVv",
        "outputId": "c0b30561-4cd4-48cf-870a-edb761f6ae89"
      },
      "source": [
        "print(s[-2]) # output: b"
      ],
      "execution_count": null,
      "outputs": [
        {
          "output_type": "stream",
          "text": [
            "b\n"
          ],
          "name": "stdout"
        }
      ]
    },
    {
      "cell_type": "code",
      "metadata": {
        "colab": {
          "base_uri": "https://localhost:8080/"
        },
        "id": "1MGNn6gWK9k0",
        "outputId": "cfdf19a3-671b-49d3-ff65-62b755f2a90f"
      },
      "source": [
        "print(s[-3]) # output: a"
      ],
      "execution_count": null,
      "outputs": [
        {
          "output_type": "stream",
          "text": [
            "a\n"
          ],
          "name": "stdout"
        }
      ]
    },
    {
      "cell_type": "code",
      "metadata": {
        "colab": {
          "base_uri": "https://localhost:8080/",
          "height": 168
        },
        "id": "foYGOHJMLtc5",
        "outputId": "c60d247f-e52b-4d83-c93f-5da6308ffbe0"
      },
      "source": [
        "print(s[3]) # output: index error"
      ],
      "execution_count": null,
      "outputs": [
        {
          "output_type": "error",
          "ename": "IndexError",
          "evalue": "ignored",
          "traceback": [
            "\u001b[0;31m---------------------------------------------------------------------------\u001b[0m",
            "\u001b[0;31mIndexError\u001b[0m                                Traceback (most recent call last)",
            "\u001b[0;32m<ipython-input-45-cca772d82a3e>\u001b[0m in \u001b[0;36m<module>\u001b[0;34m()\u001b[0m\n\u001b[0;32m----> 1\u001b[0;31m \u001b[0mprint\u001b[0m\u001b[0;34m(\u001b[0m\u001b[0ms\u001b[0m\u001b[0;34m[\u001b[0m\u001b[0;36m3\u001b[0m\u001b[0;34m]\u001b[0m\u001b[0;34m)\u001b[0m \u001b[0;31m# output: index error\u001b[0m\u001b[0;34m\u001b[0m\u001b[0;34m\u001b[0m\u001b[0m\n\u001b[0m",
            "\u001b[0;31mIndexError\u001b[0m: string index out of range"
          ]
        }
      ]
    },
    {
      "cell_type": "markdown",
      "metadata": {
        "id": "CFQAhy4aLwf6"
      },
      "source": [
        "## Let's see if we can get the letter out of the string using the index value !\n",
        "## Excercise : 5\n",
        "## Create a variable with the string value This is one sentence!, print out the index of the o"
      ]
    },
    {
      "cell_type": "code",
      "metadata": {
        "colab": {
          "base_uri": "https://localhost:8080/",
          "height": 36
        },
        "id": "DAVRY8PJL8Dx",
        "outputId": "d3fa0102-6f94-457b-d95b-a4c21614486b"
      },
      "source": [
        "musubi = (\"This is one sentence!\")\n",
        "musubi[0]"
      ],
      "execution_count": null,
      "outputs": [
        {
          "output_type": "execute_result",
          "data": {
            "application/vnd.google.colaboratory.intrinsic+json": {
              "type": "string"
            },
            "text/plain": [
              "'T'"
            ]
          },
          "metadata": {
            "tags": []
          },
          "execution_count": 46
        }
      ]
    },
    {
      "cell_type": "markdown",
      "metadata": {
        "id": "x5oczFYUMR9Q"
      },
      "source": [
        "# String Slicing\n",
        "# extract sub-sections of a string\n",
        "# slice strings using format [start:stop:step]\n",
        "# step = 1 by default\n",
        "# you may also omit numbers and use only colons (:)"
      ]
    },
    {
      "cell_type": "code",
      "metadata": {
        "colab": {
          "base_uri": "https://localhost:8080/"
        },
        "id": "jVYh2vg8Mf1K",
        "outputId": "972fe062-50b1-423f-f679-b09b3b9b52cb"
      },
      "source": [
        "# define a new string \n",
        "s = 'abcdefgh'\n",
        "\n",
        "print(s[3:6])     #output: def"
      ],
      "execution_count": null,
      "outputs": [
        {
          "output_type": "stream",
          "text": [
            "def\n"
          ],
          "name": "stdout"
        }
      ]
    },
    {
      "cell_type": "markdown",
      "metadata": {
        "id": "WTTQd7RtND_R"
      },
      "source": [
        "### slice strings using format [start:stop:step]"
      ]
    },
    {
      "cell_type": "code",
      "metadata": {
        "colab": {
          "base_uri": "https://localhost:8080/"
        },
        "id": "e_Z2FqtnNVbZ",
        "outputId": "ca75509e-0d1c-4f33-d7de-94883f8f62db"
      },
      "source": [
        "print(s[3:6:1])   #output: def step = 1 by default"
      ],
      "execution_count": null,
      "outputs": [
        {
          "output_type": "stream",
          "text": [
            "def\n"
          ],
          "name": "stdout"
        }
      ]
    },
    {
      "cell_type": "code",
      "metadata": {
        "colab": {
          "base_uri": "https://localhost:8080/"
        },
        "id": "H9xRTrM2NeZc",
        "outputId": "9869ff70-b596-42e1-9cc5-f6d471d11ba6"
      },
      "source": [
        "print(s[3:6:2])   #output: def step = 1 by default"
      ],
      "execution_count": null,
      "outputs": [
        {
          "output_type": "stream",
          "text": [
            "df\n"
          ],
          "name": "stdout"
        }
      ]
    },
    {
      "cell_type": "code",
      "metadata": {
        "colab": {
          "base_uri": "https://localhost:8080/"
        },
        "id": "uv_aQ-hMNpcX",
        "outputId": "ca734574-df4a-41d8-b815-dac059f4f44f"
      },
      "source": [
        "print(s[3:6:3]) "
      ],
      "execution_count": null,
      "outputs": [
        {
          "output_type": "stream",
          "text": [
            "d\n"
          ],
          "name": "stdout"
        }
      ]
    },
    {
      "cell_type": "code",
      "metadata": {
        "colab": {
          "base_uri": "https://localhost:8080/"
        },
        "id": "609D4Oo2NwEb",
        "outputId": "7de9c6c6-bf2d-4276-88ab-d0983a553942"
      },
      "source": [
        "print(s[::])    #output: abcdefgh (useful for copying string content into new memory location)   "
      ],
      "execution_count": null,
      "outputs": [
        {
          "output_type": "stream",
          "text": [
            "abcdefgh\n"
          ],
          "name": "stdout"
        }
      ]
    },
    {
      "cell_type": "code",
      "metadata": {
        "colab": {
          "base_uri": "https://localhost:8080/"
        },
        "id": "0zmnd5FTN8Xo",
        "outputId": "57d755ef-0d31-46ff-9cc3-c7d119421c92"
      },
      "source": [
        "print(s[::-1])    #output: hgfedbca (reverse string command)"
      ],
      "execution_count": null,
      "outputs": [
        {
          "output_type": "stream",
          "text": [
            "hgfedcba\n"
          ],
          "name": "stdout"
        }
      ]
    },
    {
      "cell_type": "code",
      "metadata": {
        "colab": {
          "base_uri": "https://localhost:8080/"
        },
        "id": "Go0WoLuBOBDn",
        "outputId": "940f9914-5b8e-4218-9893-51b08192dc01"
      },
      "source": [
        "print(s[4:1:-2])  #output: ec"
      ],
      "execution_count": null,
      "outputs": [
        {
          "output_type": "stream",
          "text": [
            "ec\n"
          ],
          "name": "stdout"
        }
      ]
    },
    {
      "cell_type": "markdown",
      "metadata": {
        "id": "jfM3jSLSOGjz"
      },
      "source": [
        "### his time let's get a word out of our string\n",
        "### Excercise : 6\n",
        "### From the variable you created in Excercise : 5 by using string slicing, print out one"
      ]
    },
    {
      "cell_type": "markdown",
      "metadata": {
        "id": "Q2PPx5KHOYw4"
      },
      "source": [
        "### Lists\n",
        "### lists are ordered sequences of objects\n",
        "### they are mutable"
      ]
    },
    {
      "cell_type": "code",
      "metadata": {
        "colab": {
          "base_uri": "https://localhost:8080/"
        },
        "id": "unr9kZGrOiB_",
        "outputId": "90109258-2804-4a47-ab6e-1101a690cdaa"
      },
      "source": [
        "# define a list\n",
        "new_list = [3,7,20,'@','TECH I.S.', 'makes learning fun!'] ## characters ,letters or sentences always enclosed with quotes\n",
        "\n",
        "# view list \n",
        "print(new_list)"
      ],
      "execution_count": null,
      "outputs": [
        {
          "output_type": "stream",
          "text": [
            "[3, 7, 20, '@', 'TECH I.S.', 'makes learning fun!']\n"
          ],
          "name": "stdout"
        }
      ]
    },
    {
      "cell_type": "markdown",
      "metadata": {
        "id": "QdieyQ29O8h6"
      },
      "source": [
        "## Let's build our own lists now\n",
        "## Excercise : 7\n",
        "## Create grocery list in form of a python script ,you can add items such as banana,milk etc !\n",
        "\n",
        "## Accessing List Elements\n",
        "## indexing in lists works just like strings\n",
        "## indexing starts from zero"
      ]
    },
    {
      "cell_type": "code",
      "metadata": {
        "id": "CnyzBIsPPN4Y"
      },
      "source": [
        "grocery = [\"soap\",\"biscuit\",\"rice\",\"honey\",\"spices\",\"banana\",\"milk\"]\n",
        "#soap -> 0,biscuit -> 1,rice -> 2,honey -> 3,spices ->4,banana -> 5,milk ->6\n",
        "\n",
        "\n"
      ],
      "execution_count": null,
      "outputs": []
    },
    {
      "cell_type": "code",
      "metadata": {
        "colab": {
          "base_uri": "https://localhost:8080/",
          "height": 36
        },
        "id": "kUnte-_-Pldr",
        "outputId": "01e1ee03-1b4d-4021-d9a8-72054963db9f"
      },
      "source": [
        "grocery[0]"
      ],
      "execution_count": null,
      "outputs": [
        {
          "output_type": "execute_result",
          "data": {
            "application/vnd.google.colaboratory.intrinsic+json": {
              "type": "string"
            },
            "text/plain": [
              "'soap'"
            ]
          },
          "metadata": {
            "tags": []
          },
          "execution_count": 68
        }
      ]
    },
    {
      "cell_type": "markdown",
      "metadata": {
        "id": "UoiTQQR8Pphc"
      },
      "source": [
        "# Nested Lists\n",
        "# lists can be embedded inside lists\n",
        "# multiple nesting is also supported"
      ]
    },
    {
      "cell_type": "code",
      "metadata": {
        "colab": {
          "base_uri": "https://localhost:8080/"
        },
        "id": "GslYavmrUcUj",
        "outputId": "2dc2dd0b-a043-4941-8a8b-ba842cb7208f"
      },
      "source": [
        "# define nested lists \n",
        "nested_list = [\n",
        "               [1,2,3],\n",
        "               ['a','b','c'],\n",
        "               [True,False,7],\n",
        "              ]\n",
        "\n",
        "# check nested list\n",
        "print(nested_list)"
      ],
      "execution_count": null,
      "outputs": [
        {
          "output_type": "stream",
          "text": [
            "[[1, 2, 3], ['a', 'b', 'c'], [True, False, 7]]\n"
          ],
          "name": "stdout"
        }
      ]
    },
    {
      "cell_type": "markdown",
      "metadata": {
        "id": "W1kZJ91jUiXa"
      },
      "source": [
        "# Let's build our own nested lists !\n",
        "# Excercise : 9\n",
        "# Make a nested list of various your favorite animals ,colours and songs and then print it"
      ]
    },
    {
      "cell_type": "code",
      "metadata": {
        "colab": {
          "base_uri": "https://localhost:8080/"
        },
        "id": "Zq9oVls1U8j5",
        "outputId": "439b92eb-6d1e-4f9b-e7a9-1abee7ccddd4"
      },
      "source": [
        "nested_list = [[ \"lion\",\"cat\",\"dog\"],[\"red\",\"peach\",\"blue\",\"white\"],[\"jai ho\",\"senorita\",\"cheap thrills\"]]\n",
        "nested_list\n"
      ],
      "execution_count": null,
      "outputs": [
        {
          "output_type": "execute_result",
          "data": {
            "text/plain": [
              "[['lion', 'cat', 'dog'],\n",
              " ['red', 'peach', 'blue', 'white'],\n",
              " ['jai ho', 'senorita', 'cheap thrills']]"
            ]
          },
          "metadata": {
            "tags": []
          },
          "execution_count": 70
        }
      ]
    },
    {
      "cell_type": "markdown",
      "metadata": {
        "id": "gGM0lDEqleY1"
      },
      "source": [
        "##List Mutability Test"
      ]
    },
    {
      "cell_type": "code",
      "metadata": {
        "id": "yoKDSdLZlmwE"
      },
      "source": [
        "# define list\n",
        "new_list = [3,7,20,'@','TECH I.S.', 'makes learning fun!']\n",
        "\n",
        "# try changing content in list\n",
        "new_list[2] = 'one' # accepts change\n",
        "\n",
        "# check list\n",
        "print(new_list)"
      ],
      "execution_count": null,
      "outputs": []
    },
    {
      "cell_type": "markdown",
      "metadata": {
        "id": "7AuaG1c0l5Y1"
      },
      "source": [
        "## Append to List\n",
        "## append can add only one element at the end of a list at a time"
      ]
    },
    {
      "cell_type": "code",
      "metadata": {
        "colab": {
          "base_uri": "https://localhost:8080/"
        },
        "id": "4HgrS8PSmQDB",
        "outputId": "6b29100c-fd44-4d24-840f-5759c751cffc"
      },
      "source": [
        "# define a list\n",
        "new_list = [3,7,20,'@','TECH I.S.', 'makes learning fun!']\n",
        "\n",
        "# print new list\n",
        "print(new_list)\n",
        "\n",
        "# append 'wohoo' to new_list\n",
        "new_list.append('wohoo!')\n",
        "\n",
        "# check apended value\n",
        "print(new_list)\n",
        "\n"
      ],
      "execution_count": null,
      "outputs": [
        {
          "output_type": "stream",
          "text": [
            "[3, 7, 20, '@', 'TECH I.S.', 'makes learning fun!']\n",
            "[3, 7, 20, '@', 'TECH I.S.', 'makes learning fun!', 'wohoo!']\n"
          ],
          "name": "stdout"
        }
      ]
    },
    {
      "cell_type": "code",
      "metadata": {
        "colab": {
          "base_uri": "https://localhost:8080/",
          "height": 168
        },
        "id": "tonoafajmxpd",
        "outputId": "b2a03b16-7aaa-4526-a740-38e5cd3e71b8"
      },
      "source": [
        "new_list.append('wohoo!',\"covid 19\") ### only one element can add to append "
      ],
      "execution_count": null,
      "outputs": [
        {
          "output_type": "error",
          "ename": "TypeError",
          "evalue": "ignored",
          "traceback": [
            "\u001b[0;31m---------------------------------------------------------------------------\u001b[0m",
            "\u001b[0;31mTypeError\u001b[0m                                 Traceback (most recent call last)",
            "\u001b[0;32m<ipython-input-75-0e565380ba62>\u001b[0m in \u001b[0;36m<module>\u001b[0;34m()\u001b[0m\n\u001b[0;32m----> 1\u001b[0;31m \u001b[0mnew_list\u001b[0m\u001b[0;34m.\u001b[0m\u001b[0mappend\u001b[0m\u001b[0;34m(\u001b[0m\u001b[0;34m'wohoo!'\u001b[0m\u001b[0;34m,\u001b[0m\u001b[0;34m\"covid 19\"\u001b[0m\u001b[0;34m)\u001b[0m\u001b[0;34m\u001b[0m\u001b[0;34m\u001b[0m\u001b[0m\n\u001b[0m",
            "\u001b[0;31mTypeError\u001b[0m: append() takes exactly one argument (2 given)"
          ]
        }
      ]
    },
    {
      "cell_type": "markdown",
      "metadata": {
        "id": "BCgSMw6xmVIg"
      },
      "source": [
        "## Extend List\n",
        "## used to add multiple elements at the end of the list"
      ]
    },
    {
      "cell_type": "code",
      "metadata": {
        "colab": {
          "base_uri": "https://localhost:8080/"
        },
        "id": "QvN4HhCfmfNL",
        "outputId": "48e9b225-1eb0-4ad5-cc52-9c9e904f7734"
      },
      "source": [
        "# define a list\n",
        "new_list = [3,7,20,'@','TECH I.S.', 'makes learning fun!']\n",
        "\n",
        "# print new list\n",
        "print(new_list)\n",
        "\n",
        "# extend new_list with multiple elements in an array\n",
        "new_list.extend([\"Let's\", \"do\", \"this\",\"!\"])\n",
        "# NOTE: multiple elements have to be input in array\n",
        "\n",
        "print(new_list)"
      ],
      "execution_count": null,
      "outputs": [
        {
          "output_type": "stream",
          "text": [
            "[3, 7, 20, '@', 'TECH I.S.', 'makes learning fun!']\n",
            "[3, 7, 20, '@', 'TECH I.S.', 'makes learning fun!', \"Let's\", 'do', 'this', '!']\n"
          ],
          "name": "stdout"
        }
      ]
    },
    {
      "cell_type": "markdown",
      "metadata": {
        "id": "fNmEdX46m9kI"
      },
      "source": [
        "## Insert to List\n",
        "## can add an element at a given position in the list\n",
        "## can add only one element at a time\n",
        "## two arguments:\n",
        "## first argument specifies the position\n",
        "## second argument specifies the element to be inserted"
      ]
    },
    {
      "cell_type": "code",
      "metadata": {
        "colab": {
          "base_uri": "https://localhost:8080/"
        },
        "id": "HyIIfSnmnPRs",
        "outputId": "9451f680-bbe1-4bdd-c7fb-2852b2793e24"
      },
      "source": [
        "# define list\n",
        "new_list = [3,7,20,'@','TECH I.S.', 'makes learning fun!']\n",
        "\n",
        "# insert element 'Chocolate' at spot 3 in new_list\n",
        "new_list.insert(3,'Chocolate')\n",
        "\n",
        "# check insertion\n",
        "print(new_list)"
      ],
      "execution_count": null,
      "outputs": [
        {
          "output_type": "stream",
          "text": [
            "[3, 7, 20, 'Chocolate', '@', 'TECH I.S.', 'makes learning fun!']\n"
          ],
          "name": "stdout"
        }
      ]
    },
    {
      "cell_type": "markdown",
      "metadata": {
        "id": "rFiEbJVUnbcc"
      },
      "source": [
        "## Now that we know how to insert into a list ,\n",
        "## Excercise : 10\n",
        "## In the list that you created in Excercise : 5 append almonds into it !"
      ]
    },
    {
      "cell_type": "code",
      "metadata": {
        "id": "hg5VxOcfni_L"
      },
      "source": [
        "musubi = [\"This is one sentence!\"]\n",
        "musubi.append(\"almonds\")"
      ],
      "execution_count": null,
      "outputs": []
    },
    {
      "cell_type": "code",
      "metadata": {
        "colab": {
          "base_uri": "https://localhost:8080/"
        },
        "id": "Cj1r8goaoMCT",
        "outputId": "8f5fdb85-a97d-4269-a1b2-bd831f48d7ac"
      },
      "source": [
        "musubi"
      ],
      "execution_count": null,
      "outputs": [
        {
          "output_type": "execute_result",
          "data": {
            "text/plain": [
              "['This is one sentence!', 'almonds']"
            ]
          },
          "metadata": {
            "tags": []
          },
          "execution_count": 79
        }
      ]
    },
    {
      "cell_type": "markdown",
      "metadata": {
        "id": "nr-5VUEKoOa9"
      },
      "source": [
        "## Remove from List\n",
        "## used to remove an element from the list\n",
        "## in the case of multiple occurrences, only the first is removed"
      ]
    },
    {
      "cell_type": "code",
      "metadata": {
        "colab": {
          "base_uri": "https://localhost:8080/"
        },
        "id": "l1KozwD3oZKB",
        "outputId": "53fc1607-21e9-457d-e4fb-2e1e6efbac10"
      },
      "source": [
        "# define list\n",
        "new_list = [3,7,20,'@','TECH I.S.', 'makes learning fun!']\n",
        "\n",
        "# remove 20 from new_list\n",
        "new_list.remove(20)\n",
        "\n",
        "# check removal\n",
        "print(new_list)"
      ],
      "execution_count": null,
      "outputs": [
        {
          "output_type": "stream",
          "text": [
            "[3, 7, '@', 'TECH I.S.', 'makes learning fun!']\n"
          ],
          "name": "stdout"
        }
      ]
    },
    {
      "cell_type": "markdown",
      "metadata": {
        "id": "sGNO2Y1zohmn"
      },
      "source": [
        "### Maybe almonds was not a good idea ,\n",
        "Excercise : 11\n",
        "Perform a removal operation almonds from your list which you just added to\n",
        "\n"
      ]
    },
    {
      "cell_type": "code",
      "metadata": {
        "colab": {
          "base_uri": "https://localhost:8080/"
        },
        "id": "USrVUw1IomPp",
        "outputId": "ac9f771c-27f0-4a7f-8ef1-c703446e7cf3"
      },
      "source": [
        "musubi.remove(\"almonds\")\n",
        "musubi"
      ],
      "execution_count": null,
      "outputs": [
        {
          "output_type": "execute_result",
          "data": {
            "text/plain": [
              "['This is one sentence!']"
            ]
          },
          "metadata": {
            "tags": []
          },
          "execution_count": 84
        }
      ]
    },
    {
      "cell_type": "markdown",
      "metadata": {
        "id": "JiRWQIa4pJQJ"
      },
      "source": [
        "## Pop from List\n",
        "## can remove an element from any position in the list\n",
        "## removes index item\n",
        "## element is not specified like in remove() method, only the index position"
      ]
    },
    {
      "cell_type": "code",
      "metadata": {
        "colab": {
          "base_uri": "https://localhost:8080/"
        },
        "id": "j234yLNipZS4",
        "outputId": "57969a3d-1c2d-484d-8ad8-bf472672a4df"
      },
      "source": [
        "# define list\n",
        "new_list = [3,7,20,'@','TECH I.S.', 'makes learning fun!']\n",
        "\n",
        "# pop spot 2 from list\n",
        "new_list.pop(2)\n",
        "\n",
        "# check list \n",
        "print(new_list)"
      ],
      "execution_count": null,
      "outputs": [
        {
          "output_type": "stream",
          "text": [
            "[3, 7, '@', 'TECH I.S.', 'makes learning fun!']\n"
          ],
          "name": "stdout"
        }
      ]
    },
    {
      "cell_type": "code",
      "metadata": {
        "colab": {
          "base_uri": "https://localhost:8080/"
        },
        "id": "nvuE8RWZpk6m",
        "outputId": "ecd2887e-7f08-45ac-b2da-46de9e426aa4"
      },
      "source": [
        "grocery"
      ],
      "execution_count": null,
      "outputs": [
        {
          "output_type": "execute_result",
          "data": {
            "text/plain": [
              "['soap', 'biscuit', 'rice', 'honey', 'spices', 'banana', 'milk']"
            ]
          },
          "metadata": {
            "tags": []
          },
          "execution_count": 86
        }
      ]
    },
    {
      "cell_type": "code",
      "metadata": {
        "colab": {
          "base_uri": "https://localhost:8080/",
          "height": 36
        },
        "id": "KwXIMLDNptnJ",
        "outputId": "a4255a2f-d001-4b0f-90f0-9743bb0d3b81"
      },
      "source": [
        "grocery.pop(-1)"
      ],
      "execution_count": null,
      "outputs": [
        {
          "output_type": "execute_result",
          "data": {
            "application/vnd.google.colaboratory.intrinsic+json": {
              "type": "string"
            },
            "text/plain": [
              "'milk'"
            ]
          },
          "metadata": {
            "tags": []
          },
          "execution_count": 87
        }
      ]
    },
    {
      "cell_type": "code",
      "metadata": {
        "colab": {
          "base_uri": "https://localhost:8080/"
        },
        "id": "sR-RA-85p2Kj",
        "outputId": "2ed63fcc-4c74-4874-8f25-896bd14ebc95"
      },
      "source": [
        "grocery"
      ],
      "execution_count": null,
      "outputs": [
        {
          "output_type": "execute_result",
          "data": {
            "text/plain": [
              "['soap', 'biscuit', 'rice', 'honey', 'spices', 'banana']"
            ]
          },
          "metadata": {
            "tags": []
          },
          "execution_count": 88
        }
      ]
    },
    {
      "cell_type": "markdown",
      "metadata": {
        "id": "-79hEQJZp42p"
      },
      "source": [
        "###Excercise : 12\n",
        "### From the list from which you just removed almonds perform a .pop() function on it"
      ]
    },
    {
      "cell_type": "code",
      "metadata": {
        "colab": {
          "base_uri": "https://localhost:8080/",
          "height": 36
        },
        "id": "tF8XieOPqAfu",
        "outputId": "c04e5cb1-934c-4fc3-f1aa-1c338c0a2c5d"
      },
      "source": [
        "musubi.pop(-1)"
      ],
      "execution_count": null,
      "outputs": [
        {
          "output_type": "execute_result",
          "data": {
            "application/vnd.google.colaboratory.intrinsic+json": {
              "type": "string"
            },
            "text/plain": [
              "'This is one sentence!'"
            ]
          },
          "metadata": {
            "tags": []
          },
          "execution_count": 90
        }
      ]
    },
    {
      "cell_type": "markdown",
      "metadata": {
        "id": "EwrlfCaNqIPO"
      },
      "source": [
        "## remove() vs. pop()\n",
        "## remove()                        \t       pop()\n",
        "## removes element by identification\t    removes by index\n",
        "## new_list.remove(element_to_remove)\t     new_list.pop(index_number_to_remove)\n"
      ]
    },
    {
      "cell_type": "markdown",
      "metadata": {
        "id": "7D3X4QY8qWgo"
      },
      "source": [
        "## List Slicing\n",
        "## used to extract a sub-section of the list\n",
        "## index access works like string indexing and slicing"
      ]
    },
    {
      "cell_type": "code",
      "metadata": {
        "colab": {
          "base_uri": "https://localhost:8080/"
        },
        "id": "Zd1vffUVqvIu",
        "outputId": "d246f387-8c5f-4c86-9397-d6bb3356bb82"
      },
      "source": [
        "# define list\n",
        "new_list = [3,7,20,'@','TECH I.S.', 'makes learning fun!']\n",
        "\n",
        "# extract combinations of new_list extracts\n",
        "print(new_list[:4])\n",
        "print(new_list[2:])\n",
        "print(new_list[1:5])\n",
        "print(new_list[:])"
      ],
      "execution_count": null,
      "outputs": [
        {
          "output_type": "stream",
          "text": [
            "[3, 7, 20, '@']\n",
            "[20, '@', 'TECH I.S.', 'makes learning fun!']\n",
            "[7, 20, '@', 'TECH I.S.']\n",
            "[3, 7, 20, '@', 'TECH I.S.', 'makes learning fun!']\n"
          ],
          "name": "stdout"
        }
      ]
    },
    {
      "cell_type": "markdown",
      "metadata": {
        "id": "qAWrOiqmrHGl"
      },
      "source": [
        "## Reverse a List\n",
        "## used to reverse the elements of a list\n",
        "\n",
        "## can be done in two ways\n",
        "\n",
        "## modify the original list\n",
        "## without modifying the original list"
      ]
    },
    {
      "cell_type": "code",
      "metadata": {
        "colab": {
          "base_uri": "https://localhost:8080/"
        },
        "id": "XjS6DForrVk2",
        "outputId": "5cdab5ce-1b8b-4063-f0f6-e1f347e78bdd"
      },
      "source": [
        "# define list\n",
        "new_list = [3,7,20,'@','TECH I.S.', 'makes learning fun!']\n",
        "\n",
        "# without modifying the original list\n",
        "print(new_list[::-1])\n",
        "print(new_list) # unmodified original list\n",
        "\n",
        "# modify the original list\n",
        "new_list.reverse() # modify original list\n",
        "print(new_list)"
      ],
      "execution_count": null,
      "outputs": [
        {
          "output_type": "stream",
          "text": [
            "['makes learning fun!', 'TECH I.S.', '@', 20, 7, 3]\n",
            "[3, 7, 20, '@', 'TECH I.S.', 'makes learning fun!']\n",
            "['makes learning fun!', 'TECH I.S.', '@', 20, 7, 3]\n"
          ],
          "name": "stdout"
        }
      ]
    },
    {
      "cell_type": "markdown",
      "metadata": {
        "id": "9xTzFajQriHx"
      },
      "source": [
        "## Length of a List\n",
        "## returns the number of elements in the list"
      ]
    },
    {
      "cell_type": "code",
      "metadata": {
        "colab": {
          "base_uri": "https://localhost:8080/"
        },
        "id": "GCKFCPBRrn1B",
        "outputId": "e3d34827-013a-4278-ece6-f5bfa9114a17"
      },
      "source": [
        "# define list\n",
        "new_list = [3,7,20,'@','TECH I.S.', 'makes learning fun!']\n",
        "\n",
        "# print length of new_list\n",
        "len(new_list)"
      ],
      "execution_count": null,
      "outputs": [
        {
          "output_type": "execute_result",
          "data": {
            "text/plain": [
              "6"
            ]
          },
          "metadata": {
            "tags": []
          },
          "execution_count": 94
        }
      ]
    },
    {
      "cell_type": "markdown",
      "metadata": {
        "id": "WzCbcGGirn4B"
      },
      "source": [
        "Min & Max Values of a List\n",
        "min() returns the minimum value in the list\n",
        "max() returns the maximum value in the list\n",
        "\n",
        "NOTE: both methods accept only homogeneous lists\n",
        "\n",
        "i.e. list having elements of similar data type"
      ]
    },
    {
      "cell_type": "code",
      "metadata": {
        "colab": {
          "base_uri": "https://localhost:8080/"
        },
        "id": "5n27Bqj-sDPp",
        "outputId": "3554654d-5b9c-4a61-c692-9ba7b64f4af4"
      },
      "source": [
        "# define list\n",
        "new_list = [8,12,7,10,52,33,21,99]\n",
        "\n",
        "# check min and max of new_list\n",
        "print(min(new_list))\n",
        "print(max(new_list))\n",
        "\n"
      ],
      "execution_count": null,
      "outputs": [
        {
          "output_type": "stream",
          "text": [
            "7\n",
            "99\n"
          ],
          "name": "stdout"
        }
      ]
    },
    {
      "cell_type": "code",
      "metadata": {
        "colab": {
          "base_uri": "https://localhost:8080/"
        },
        "id": "10jgm7AasLpt",
        "outputId": "1a790e6d-c2b6-4416-d966-01c5565e9736"
      },
      "source": [
        "\n",
        "# define list\n",
        "new_list = ['x','10','99','twenty','%$','--']\n",
        "\n",
        "# check min and max of new_list\n",
        "print(min(new_list))\n",
        "print(max(new_list))"
      ],
      "execution_count": null,
      "outputs": [
        {
          "output_type": "stream",
          "text": [
            "%$\n",
            "x\n"
          ],
          "name": "stdout"
        }
      ]
    },
    {
      "cell_type": "code",
      "metadata": {
        "colab": {
          "base_uri": "https://localhost:8080/"
        },
        "id": "TsAGQbuYsTdr",
        "outputId": "d148aa19-5abc-470c-ea01-a488f151951c"
      },
      "source": [
        "# define list\n",
        "new_list = [8,12,7,10,7,33,21,7]\n",
        "\n",
        "# count the number of occurences of 7\n",
        "print(new_list.count(7))\n"
      ],
      "execution_count": null,
      "outputs": [
        {
          "output_type": "stream",
          "text": [
            "3\n"
          ],
          "name": "stdout"
        }
      ]
    },
    {
      "cell_type": "code",
      "metadata": {
        "colab": {
          "base_uri": "https://localhost:8080/"
        },
        "id": "UEx39a2OsXgQ",
        "outputId": "c0c4b3dc-e583-4ab0-8ee3-87f5f873ba5b"
      },
      "source": [
        "len(new_list)"
      ],
      "execution_count": null,
      "outputs": [
        {
          "output_type": "execute_result",
          "data": {
            "text/plain": [
              "8"
            ]
          },
          "metadata": {
            "tags": []
          },
          "execution_count": 99
        }
      ]
    },
    {
      "cell_type": "code",
      "metadata": {
        "colab": {
          "base_uri": "https://localhost:8080/"
        },
        "id": "dKvtvVhrskMw",
        "outputId": "2ac8bf51-b23c-421d-9e4f-b294219ce7de"
      },
      "source": [
        "new_list.count(10)"
      ],
      "execution_count": null,
      "outputs": [
        {
          "output_type": "execute_result",
          "data": {
            "text/plain": [
              "1"
            ]
          },
          "metadata": {
            "tags": []
          },
          "execution_count": 100
        }
      ]
    },
    {
      "cell_type": "markdown",
      "metadata": {
        "id": "IXlcXH6wsozg"
      },
      "source": [
        "###How many items do we have in our grocery list"
      ]
    },
    {
      "cell_type": "code",
      "metadata": {
        "colab": {
          "base_uri": "https://localhost:8080/"
        },
        "id": "77JcinwqswI0",
        "outputId": "c734691b-ec79-400b-d904-2abdd641a800"
      },
      "source": [
        "len(grocery)"
      ],
      "execution_count": null,
      "outputs": [
        {
          "output_type": "execute_result",
          "data": {
            "text/plain": [
              "6"
            ]
          },
          "metadata": {
            "tags": []
          },
          "execution_count": 101
        }
      ]
    },
    {
      "cell_type": "markdown",
      "metadata": {
        "id": "0eUv5hFQs0zC"
      },
      "source": [
        "##Excercise : 13\n",
        "## On the list on which we performed pop run the len function and make a note of how many items we have !"
      ]
    },
    {
      "cell_type": "code",
      "metadata": {
        "colab": {
          "base_uri": "https://localhost:8080/"
        },
        "id": "_HrOWnmUtK8E",
        "outputId": "79a81376-6e53-425d-9947-9601fa46d176"
      },
      "source": [
        "len(musubi)"
      ],
      "execution_count": null,
      "outputs": [
        {
          "output_type": "execute_result",
          "data": {
            "text/plain": [
              "0"
            ]
          },
          "metadata": {
            "tags": []
          },
          "execution_count": 104
        }
      ]
    },
    {
      "cell_type": "code",
      "metadata": {
        "colab": {
          "base_uri": "https://localhost:8080/"
        },
        "id": "QD46vlUhtaJC",
        "outputId": "6e7b962d-7ee0-4cb6-b10c-27e6ddac7e74"
      },
      "source": [
        "musubi"
      ],
      "execution_count": null,
      "outputs": [
        {
          "output_type": "execute_result",
          "data": {
            "text/plain": [
              "[]"
            ]
          },
          "metadata": {
            "tags": []
          },
          "execution_count": 105
        }
      ]
    },
    {
      "cell_type": "markdown",
      "metadata": {
        "id": "iFGrRDQqtfA7"
      },
      "source": [
        "##Concatenate Lists\n",
        "##used to merge two lists and return a single list"
      ]
    },
    {
      "cell_type": "code",
      "metadata": {
        "colab": {
          "base_uri": "https://localhost:8080/"
        },
        "id": "CmJK485htjbY",
        "outputId": "0e2dafbe-3aaf-470e-e125-e0a384f8e535"
      },
      "source": [
        "# define two lists\n",
        "list_first = ['three','hundred']\n",
        "print(list_first)\n",
        "\n",
        "list_second = ['words','in','a','paragraph']\n",
        "print(list_second)\n",
        "\n",
        "# concatenate lists\n",
        "list_combined = list_first + list_second\n",
        "print(list_combined)"
      ],
      "execution_count": null,
      "outputs": [
        {
          "output_type": "stream",
          "text": [
            "['three', 'hundred']\n",
            "['words', 'in', 'a', 'paragraph']\n",
            "['three', 'hundred', 'words', 'in', 'a', 'paragraph']\n"
          ],
          "name": "stdout"
        }
      ]
    },
    {
      "cell_type": "markdown",
      "metadata": {
        "id": "4xWwzWKatsFd"
      },
      "source": [
        "## Multiply List Content\n",
        "## allows duplicating the list n times\n",
        "## resultant list is the original list iterated n times"
      ]
    },
    {
      "cell_type": "code",
      "metadata": {
        "colab": {
          "base_uri": "https://localhost:8080/"
        },
        "id": "DfOjXKbgt3oz",
        "outputId": "6b956c0f-41eb-4452-d92e-802fb90f30b2"
      },
      "source": [
        "# define list\n",
        "new_list = [3,7,20,'@','TECH I.S.', 'makes learning fun!']\n",
        "\n",
        "# multiply list\n",
        "print(new_list*2)\n",
        "print(new_list*3)"
      ],
      "execution_count": null,
      "outputs": [
        {
          "output_type": "stream",
          "text": [
            "[3, 7, 20, '@', 'TECH I.S.', 'makes learning fun!', 3, 7, 20, '@', 'TECH I.S.', 'makes learning fun!']\n",
            "[3, 7, 20, '@', 'TECH I.S.', 'makes learning fun!', 3, 7, 20, '@', 'TECH I.S.', 'makes learning fun!', 3, 7, 20, '@', 'TECH I.S.', 'makes learning fun!']\n"
          ],
          "name": "stdout"
        }
      ]
    },
    {
      "cell_type": "markdown",
      "metadata": {
        "id": "hsfWs9OMt-fg"
      },
      "source": [
        "##Location of the First Occurence\n",
        "#index() method returns the position of the first occurrence of the given element\n",
        "optional parameters:\n",
        "the begin index and\n",
        "the end index\n",
        "when optional arguments are given:\n",
        "\n",
        "the element is searched only in the sub-list bound by the begin and end indices\n",
        "when not supplied,\n",
        "\n",
        "the element is searched in the whole list"
      ]
    },
    {
      "cell_type": "code",
      "metadata": {
        "colab": {
          "base_uri": "https://localhost:8080/"
        },
        "id": "RbR8V8q9uNrk",
        "outputId": "1cd56f7d-f6cd-418e-9e96-49277a1c6486"
      },
      "source": [
        "# define list\n",
        "new_list = [3,7,20,'@','TECH I.S.', 'makes learning fun!']\n",
        "\n",
        "# search index of 'TECH I.S.'\n",
        "print(new_list.index('TECH I.S.'))\n",
        "\n"
      ],
      "execution_count": null,
      "outputs": [
        {
          "output_type": "stream",
          "text": [
            "4\n"
          ],
          "name": "stdout"
        }
      ]
    },
    {
      "cell_type": "code",
      "metadata": {
        "colab": {
          "base_uri": "https://localhost:8080/"
        },
        "id": "dHoDS08CuWCq",
        "outputId": "c1cfec89-525a-4a44-d1f4-6e5de9b17209"
      },
      "source": [
        "\n",
        "\n",
        "# search '@' with optional arguments\n",
        "print(new_list.index('@',1,4))"
      ],
      "execution_count": null,
      "outputs": [
        {
          "output_type": "stream",
          "text": [
            "3\n"
          ],
          "name": "stdout"
        }
      ]
    },
    {
      "cell_type": "markdown",
      "metadata": {
        "id": "v1iyUXUsujnD"
      },
      "source": [
        "Sort a List in Place\n",
        "sort method sorts the list in ascending order\n",
        "can only be performed on homogeneous lists, i.e. lists having elements of similar data type"
      ]
    },
    {
      "cell_type": "code",
      "metadata": {
        "colab": {
          "base_uri": "https://localhost:8080/"
        },
        "id": "AcoZNZoyuoKh",
        "outputId": "76773c4d-1b9d-42de-ad1a-c1ea0dd9e1ec"
      },
      "source": [
        "# define list\n",
        "new_list = [4, 2, 6, 5, 0, 1] \n",
        "\n",
        "# check unsorted list\n",
        "print(new_list)"
      ],
      "execution_count": null,
      "outputs": [
        {
          "output_type": "stream",
          "text": [
            "[4, 2, 6, 5, 0, 1]\n"
          ],
          "name": "stdout"
        }
      ]
    },
    {
      "cell_type": "code",
      "metadata": {
        "id": "dUk7SMT3ut8x"
      },
      "source": [
        "# sort list\n",
        "new_list.sort()\n"
      ],
      "execution_count": null,
      "outputs": []
    },
    {
      "cell_type": "code",
      "metadata": {
        "colab": {
          "base_uri": "https://localhost:8080/"
        },
        "id": "JWlCF5L_u2Vp",
        "outputId": "e7c89737-1d84-48ec-95a0-4ea4d4319b22"
      },
      "source": [
        "# check sorted list\n",
        "print(new_list)"
      ],
      "execution_count": null,
      "outputs": [
        {
          "output_type": "stream",
          "text": [
            "[0, 1, 2, 4, 5, 6]\n"
          ],
          "name": "stdout"
        }
      ]
    },
    {
      "cell_type": "code",
      "metadata": {
        "colab": {
          "base_uri": "https://localhost:8080/"
        },
        "id": "Tc3m-ZPCu5tN",
        "outputId": "510d2b39-b2a2-4c7a-ffa1-9a2b29969f74"
      },
      "source": [
        "# define list\n",
        "new_list = [4, 2, 6, 5, 0, 1] \n",
        "\n",
        "# check unsorted list\n",
        "print(new_list)\n"
      ],
      "execution_count": null,
      "outputs": [
        {
          "output_type": "stream",
          "text": [
            "[4, 2, 6, 5, 0, 1]\n"
          ],
          "name": "stdout"
        }
      ]
    },
    {
      "cell_type": "code",
      "metadata": {
        "colab": {
          "base_uri": "https://localhost:8080/"
        },
        "id": "F3mcGCPlvEOF",
        "outputId": "33cb8c69-ea54-4e91-815a-93c8bbb480e3"
      },
      "source": [
        "# clear list\n",
        "new_list.clear()\n",
        "\n",
        "# check cleared list\n",
        "print(new_list)"
      ],
      "execution_count": null,
      "outputs": [
        {
          "output_type": "stream",
          "text": [
            "[]\n"
          ],
          "name": "stdout"
        }
      ]
    },
    {
      "cell_type": "markdown",
      "metadata": {
        "id": "NSfeKGwcvNwn"
      },
      "source": [
        "### Tuples\n",
        "### tuples are ordered sequences of objects\n",
        "### they are immutable\n",
        "### i.e. their content cannot be changed after creation"
      ]
    },
    {
      "cell_type": "markdown",
      "metadata": {
        "id": "v8iL37XBvW2g"
      },
      "source": [
        "### Define a Tuple"
      ]
    },
    {
      "cell_type": "code",
      "metadata": {
        "colab": {
          "base_uri": "https://localhost:8080/"
        },
        "id": "SXlHnUpIvnbU",
        "outputId": "b48594c8-8510-4a34-babf-1aed8a5d801b"
      },
      "source": [
        "# create a new tuple - without specifying brackets\n",
        "new_tuple_one = 1,2,3,4\n",
        "\n",
        "# print tuple\n",
        "print(new_tuple_one)"
      ],
      "execution_count": null,
      "outputs": [
        {
          "output_type": "stream",
          "text": [
            "(1, 2, 3, 4)\n"
          ],
          "name": "stdout"
        }
      ]
    },
    {
      "cell_type": "code",
      "metadata": {
        "colab": {
          "base_uri": "https://localhost:8080/"
        },
        "id": "K8zloWbKvuPo",
        "outputId": "d1c59cce-5760-4250-8367-9b522256df58"
      },
      "source": [
        "#--------------------------------------------------------\n",
        "# create a new tuple - with brackets\n",
        "new_tuple_two = (5,6,\"python\",8)\n",
        "\n",
        "# print tuple\n",
        "print(new_tuple_two)"
      ],
      "execution_count": null,
      "outputs": [
        {
          "output_type": "stream",
          "text": [
            "(5, 6, 'python', 8)\n"
          ],
          "name": "stdout"
        }
      ]
    },
    {
      "cell_type": "code",
      "metadata": {
        "colab": {
          "base_uri": "https://localhost:8080/"
        },
        "id": "wEkM0mAmvwQb",
        "outputId": "54178893-97b4-499d-a118-a138a0e6e7af"
      },
      "source": [
        "#--------------------------------------------------------\n",
        "# create empty tuple\n",
        "empty_tuple = ()\n",
        "\n",
        "# check empty tuple\n",
        "print(empty_tuple)"
      ],
      "execution_count": null,
      "outputs": [
        {
          "output_type": "stream",
          "text": [
            "()\n"
          ],
          "name": "stdout"
        }
      ]
    },
    {
      "cell_type": "code",
      "metadata": {
        "colab": {
          "base_uri": "https://localhost:8080/"
        },
        "id": "qoD_8hyDvwVs",
        "outputId": "c27c7ce2-2720-42fc-944a-42a61177ba21"
      },
      "source": [
        "#--------------------------------------------------------\n",
        "# create tuple using Constructor\n",
        "new_tuple_three = tuple((\"apple\",\"banana\",\"cherry\"))\n",
        "\n",
        "# check empty tuple\n",
        "print(new_tuple_three)\n"
      ],
      "execution_count": null,
      "outputs": [
        {
          "output_type": "stream",
          "text": [
            "('apple', 'banana', 'cherry')\n"
          ],
          "name": "stdout"
        }
      ]
    },
    {
      "cell_type": "code",
      "metadata": {
        "colab": {
          "base_uri": "https://localhost:8080/"
        },
        "id": "CU4mGz9wvwX1",
        "outputId": "079d1c92-16d8-4d40-9bc2-72d206daa012"
      },
      "source": [
        "#--------------------------------------------------------\n",
        "# single element tuples \n",
        "new_tuple_wrong = (\"apple\") # wrong single element tuple\n",
        "print(type(new_tuple_wrong))  # outputs string\n",
        "print(new_tuple_wrong)"
      ],
      "execution_count": null,
      "outputs": [
        {
          "output_type": "stream",
          "text": [
            "<class 'str'>\n",
            "apple\n"
          ],
          "name": "stdout"
        }
      ]
    },
    {
      "cell_type": "code",
      "metadata": {
        "colab": {
          "base_uri": "https://localhost:8080/"
        },
        "id": "MYXGUDUWvwbG",
        "outputId": "6b50402e-a274-40ed-8c87-03ad6c4922b5"
      },
      "source": [
        "new_tuple_right = (\"apple\",) # correct single element tuple\n",
        "print(type(new_tuple_right)) # outputs tuple\n",
        "print(new_tuple_right)"
      ],
      "execution_count": null,
      "outputs": [
        {
          "output_type": "stream",
          "text": [
            "<class 'tuple'>\n",
            "('apple',)\n"
          ],
          "name": "stdout"
        }
      ]
    },
    {
      "cell_type": "markdown",
      "metadata": {
        "id": "Rl5kLdJOvwdg"
      },
      "source": [
        "##Indexing in Tuples\n",
        "##indexing in tuples works just like strings"
      ]
    },
    {
      "cell_type": "code",
      "metadata": {
        "colab": {
          "base_uri": "https://localhost:8080/"
        },
        "id": "qQUzOgUgvwgh",
        "outputId": "bab55b12-f324-4d1e-b177-56e93d74d50e"
      },
      "source": [
        "# define a new tuple\n",
        "new_tuple = \"apple\",\"orange\",\"banana\",\"berry\",\"mango\"\n",
        "\n",
        "print(new_tuple[0]) # zeroth element"
      ],
      "execution_count": null,
      "outputs": [
        {
          "output_type": "stream",
          "text": [
            "apple\n"
          ],
          "name": "stdout"
        }
      ]
    },
    {
      "cell_type": "code",
      "metadata": {
        "colab": {
          "base_uri": "https://localhost:8080/",
          "height": 168
        },
        "id": "eGbPUmPcvwi0",
        "outputId": "ba3de056-e830-460c-f18a-78179689192c"
      },
      "source": [
        "print(new_tuple[5]) # throws error - no fifth element"
      ],
      "execution_count": null,
      "outputs": [
        {
          "output_type": "error",
          "ename": "IndexError",
          "evalue": "ignored",
          "traceback": [
            "\u001b[0;31m---------------------------------------------------------------------------\u001b[0m",
            "\u001b[0;31mIndexError\u001b[0m                                Traceback (most recent call last)",
            "\u001b[0;32m<ipython-input-125-f03232c247a9>\u001b[0m in \u001b[0;36m<module>\u001b[0;34m()\u001b[0m\n\u001b[0;32m----> 1\u001b[0;31m \u001b[0mprint\u001b[0m\u001b[0;34m(\u001b[0m\u001b[0mnew_tuple\u001b[0m\u001b[0;34m[\u001b[0m\u001b[0;36m5\u001b[0m\u001b[0;34m]\u001b[0m\u001b[0;34m)\u001b[0m \u001b[0;31m# throws error - no fifth element\u001b[0m\u001b[0;34m\u001b[0m\u001b[0;34m\u001b[0m\u001b[0m\n\u001b[0m",
            "\u001b[0;31mIndexError\u001b[0m: tuple index out of range"
          ]
        }
      ]
    },
    {
      "cell_type": "markdown",
      "metadata": {
        "id": "thXZjaDIvwl6"
      },
      "source": [
        "### Tuple Immutability Test"
      ]
    },
    {
      "cell_type": "code",
      "metadata": {
        "colab": {
          "base_uri": "https://localhost:8080/",
          "height": 204
        },
        "id": "GkRKdCkzvwpN",
        "outputId": "c58f51a3-2123-41dd-8947-3256721fc323"
      },
      "source": [
        "# define tuple\n",
        "new_tuple = (1,7,'$', 'Summers', 'Winters' )\n",
        "\n",
        "# try changing tuple content\n",
        "new_tuple[4] = 'Spring' # throws error"
      ],
      "execution_count": null,
      "outputs": [
        {
          "output_type": "error",
          "ename": "TypeError",
          "evalue": "ignored",
          "traceback": [
            "\u001b[0;31m---------------------------------------------------------------------------\u001b[0m",
            "\u001b[0;31mTypeError\u001b[0m                                 Traceback (most recent call last)",
            "\u001b[0;32m<ipython-input-126-7ce2cda4711f>\u001b[0m in \u001b[0;36m<module>\u001b[0;34m()\u001b[0m\n\u001b[1;32m      3\u001b[0m \u001b[0;34m\u001b[0m\u001b[0m\n\u001b[1;32m      4\u001b[0m \u001b[0;31m# try changing tuple content\u001b[0m\u001b[0;34m\u001b[0m\u001b[0;34m\u001b[0m\u001b[0;34m\u001b[0m\u001b[0m\n\u001b[0;32m----> 5\u001b[0;31m \u001b[0mnew_tuple\u001b[0m\u001b[0;34m[\u001b[0m\u001b[0;36m4\u001b[0m\u001b[0;34m]\u001b[0m \u001b[0;34m=\u001b[0m \u001b[0;34m'Spring'\u001b[0m \u001b[0;31m# throws error\u001b[0m\u001b[0;34m\u001b[0m\u001b[0;34m\u001b[0m\u001b[0m\n\u001b[0m",
            "\u001b[0;31mTypeError\u001b[0m: 'tuple' object does not support item assignment"
          ]
        }
      ]
    },
    {
      "cell_type": "markdown",
      "metadata": {
        "id": "YzDIUI-Ywmr_"
      },
      "source": [
        "###Concatenation of Tuples\n",
        "tuples are immutable, hence the data stored in a tuple cannot be edited\n",
        "but it's definitely possible to merge two tuples to create a new tuple"
      ]
    },
    {
      "cell_type": "code",
      "metadata": {
        "id": "1iwjv3UnwmvI",
        "colab": {
          "base_uri": "https://localhost:8080/"
        },
        "outputId": "8e2eb0f0-3400-42d9-caf7-8191822fad71"
      },
      "source": [
        "# define two new tuple\n",
        "new_tuple_one = 9,5,6,4,2,1\n",
        "new_tuple_two = 'a',5,7,6,3,1\n",
        "\n",
        "print(new_tuple_one)\n",
        "print(new_tuple_two)"
      ],
      "execution_count": 127,
      "outputs": [
        {
          "output_type": "stream",
          "text": [
            "(9, 5, 6, 4, 2, 1)\n",
            "('a', 5, 7, 6, 3, 1)\n"
          ],
          "name": "stdout"
        }
      ]
    },
    {
      "cell_type": "code",
      "metadata": {
        "id": "UR8VkTmTwmyE",
        "colab": {
          "base_uri": "https://localhost:8080/"
        },
        "outputId": "3d6ac368-a107-4b0a-a791-f6a383bf8ad1"
      },
      "source": [
        "# add a new element\n",
        "merged_tuple = new_tuple_one + new_tuple_two\n",
        "\n",
        "# check merged tuple\n",
        "print(merged_tuple)"
      ],
      "execution_count": 128,
      "outputs": [
        {
          "output_type": "stream",
          "text": [
            "(9, 5, 6, 4, 2, 1, 'a', 5, 7, 6, 3, 1)\n"
          ],
          "name": "stdout"
        }
      ]
    },
    {
      "cell_type": "markdown",
      "metadata": {
        "id": "sl0ArSB-wm1h"
      },
      "source": [
        "##Multiplication (Duplication) of Tuples\n",
        "duplicates the content of a tuple, the specified number of times"
      ]
    },
    {
      "cell_type": "code",
      "metadata": {
        "id": "zAEA7PzCwm4Q",
        "colab": {
          "base_uri": "https://localhost:8080/"
        },
        "outputId": "c8d5cf96-b0b3-4b0e-bfae-9a098bd58c79"
      },
      "source": [
        "# define a tuple\n",
        "new_tuple = 'a',5,7,6,3,1\n",
        "\n",
        "print(new_tuple)\n",
        "\n",
        "# multiply and print result\n",
        "print(new_tuple*2)\n",
        "print(new_tuple*3)"
      ],
      "execution_count": 129,
      "outputs": [
        {
          "output_type": "stream",
          "text": [
            "('a', 5, 7, 6, 3, 1)\n",
            "('a', 5, 7, 6, 3, 1, 'a', 5, 7, 6, 3, 1)\n",
            "('a', 5, 7, 6, 3, 1, 'a', 5, 7, 6, 3, 1, 'a', 5, 7, 6, 3, 1)\n"
          ],
          "name": "stdout"
        }
      ]
    },
    {
      "cell_type": "code",
      "metadata": {
        "id": "pbHraIL8wm8L"
      },
      "source": [
        "Length of a Tuple"
      ],
      "execution_count": null,
      "outputs": []
    },
    {
      "cell_type": "code",
      "metadata": {
        "id": "6r4lPQEiwm-5",
        "colab": {
          "base_uri": "https://localhost:8080/"
        },
        "outputId": "bec52cbc-a7d0-4c07-aa42-92e7ab93656d"
      },
      "source": [
        "# define a tuple\n",
        "new_tuple = 'a',5,7,6,3,1\n",
        "\n",
        "len(new_tuple)"
      ],
      "execution_count": 130,
      "outputs": [
        {
          "output_type": "execute_result",
          "data": {
            "text/plain": [
              "6"
            ]
          },
          "metadata": {
            "tags": []
          },
          "execution_count": 130
        }
      ]
    },
    {
      "cell_type": "code",
      "metadata": {
        "id": "4RUeNcK5wnCv"
      },
      "source": [
        "# Min & Max Values of a Tuple\n",
        "# min() returns the minimum value in the tuple\n",
        "# max() returns the maximum value in the tuple\n",
        "\n",
        "# both methods accept only homogeneous tuples\n",
        "\n",
        "# i.e. tuples having elements of similar data type"
      ],
      "execution_count": 132,
      "outputs": []
    },
    {
      "cell_type": "code",
      "metadata": {
        "id": "I1JCxVcBwnFT",
        "colab": {
          "base_uri": "https://localhost:8080/"
        },
        "outputId": "f3973f84-9b19-44b5-f7f5-ce4a5ffaf526"
      },
      "source": [
        "# define tuple\n",
        "new_tuple = 8,12,7,10,52,33,21,99\n",
        "\n",
        "# check min and max of new_tuple\n",
        "print(min(new_tuple))\n",
        "print(max(new_tuple))\n",
        "\n"
      ],
      "execution_count": 133,
      "outputs": [
        {
          "output_type": "stream",
          "text": [
            "7\n",
            "99\n"
          ],
          "name": "stdout"
        }
      ]
    },
    {
      "cell_type": "code",
      "metadata": {
        "id": "rsTxlcv-wnKc",
        "colab": {
          "base_uri": "https://localhost:8080/"
        },
        "outputId": "361d7e9e-a115-4216-a229-178d875691a1"
      },
      "source": [
        "# define list\n",
        "new_tuple = 'x','10','99','twenty','%$','--'\n",
        "\n",
        "# check min and max of new_list\n",
        "print(min(new_tuple))\n",
        "print(max(new_tuple))"
      ],
      "execution_count": 134,
      "outputs": [
        {
          "output_type": "stream",
          "text": [
            "%$\n",
            "x\n"
          ],
          "name": "stdout"
        }
      ]
    },
    {
      "cell_type": "markdown",
      "metadata": {
        "id": "V4rp86wIwnN6"
      },
      "source": [
        "### Count of an Element in a Tuple"
      ]
    },
    {
      "cell_type": "code",
      "metadata": {
        "id": "d2vCbEdownQN",
        "colab": {
          "base_uri": "https://localhost:8080/"
        },
        "outputId": "0415bb5d-2d52-42e7-91ab-7e279d47fe0a"
      },
      "source": [
        "# define a tuple\n",
        "new_tuple = 5,3,6,3,1,3,2,3\n",
        "\n",
        "# count the number of 3s in the tuple\n",
        "print(new_tuple.count(3))"
      ],
      "execution_count": 135,
      "outputs": [
        {
          "output_type": "stream",
          "text": [
            "4\n"
          ],
          "name": "stdout"
        }
      ]
    },
    {
      "cell_type": "markdown",
      "metadata": {
        "id": "8wpAkG1CwnTW"
      },
      "source": [
        "### Location of First Occurence"
      ]
    },
    {
      "cell_type": "code",
      "metadata": {
        "id": "t3puSxjVx2Uf",
        "colab": {
          "base_uri": "https://localhost:8080/"
        },
        "outputId": "d53441e3-95e2-4fa2-9ee1-69abdebd884e"
      },
      "source": [
        "# define a tuple\n",
        "new_tuple = 5,6,3,1,3,2,3\n",
        "\n",
        "# find the index location of the first occurence of 3\n",
        "print(new_tuple.index(3))"
      ],
      "execution_count": 136,
      "outputs": [
        {
          "output_type": "stream",
          "text": [
            "2\n"
          ],
          "name": "stdout"
        }
      ]
    },
    {
      "cell_type": "markdown",
      "metadata": {
        "id": "E0bZPpT4x5pD"
      },
      "source": [
        "# Delete a Tuple\n",
        "# you cannot remove the elements in a tuple\n",
        "# but you can delete an entire tuple"
      ]
    },
    {
      "cell_type": "code",
      "metadata": {
        "id": "vTorDM63x9Sj",
        "colab": {
          "base_uri": "https://localhost:8080/"
        },
        "outputId": "3034201f-0173-4e46-84bc-cf222eb5549a"
      },
      "source": [
        "# define a tuple\n",
        "new_tuple = 5,3,6,3,1,3,2,3\n",
        "\n",
        "# check tuple\n",
        "print(new_tuple)\n",
        "\n"
      ],
      "execution_count": 138,
      "outputs": [
        {
          "output_type": "stream",
          "text": [
            "(5, 3, 6, 3, 1, 3, 2, 3)\n"
          ],
          "name": "stdout"
        }
      ]
    },
    {
      "cell_type": "code",
      "metadata": {
        "colab": {
          "base_uri": "https://localhost:8080/",
          "height": 204
        },
        "id": "DnHH_jrvAYID",
        "outputId": "27063fba-fff4-47d2-e00e-35015d26c708"
      },
      "source": [
        "# delete the tuple\n",
        "del(new_tuple)\n",
        "\n",
        "# check deletion\n",
        "print(new_tuple) # will throw an error becasue tuple doesnt exists"
      ],
      "execution_count": 139,
      "outputs": [
        {
          "output_type": "error",
          "ename": "NameError",
          "evalue": "ignored",
          "traceback": [
            "\u001b[0;31m---------------------------------------------------------------------------\u001b[0m",
            "\u001b[0;31mNameError\u001b[0m                                 Traceback (most recent call last)",
            "\u001b[0;32m<ipython-input-139-fa8e57204503>\u001b[0m in \u001b[0;36m<module>\u001b[0;34m()\u001b[0m\n\u001b[1;32m      3\u001b[0m \u001b[0;34m\u001b[0m\u001b[0m\n\u001b[1;32m      4\u001b[0m \u001b[0;31m# check deletion\u001b[0m\u001b[0;34m\u001b[0m\u001b[0;34m\u001b[0m\u001b[0;34m\u001b[0m\u001b[0m\n\u001b[0;32m----> 5\u001b[0;31m \u001b[0mprint\u001b[0m\u001b[0;34m(\u001b[0m\u001b[0mnew_tuple\u001b[0m\u001b[0;34m)\u001b[0m \u001b[0;31m# will throw an error becasue tuple doesnt exists\u001b[0m\u001b[0;34m\u001b[0m\u001b[0;34m\u001b[0m\u001b[0m\n\u001b[0m",
            "\u001b[0;31mNameError\u001b[0m: name 'new_tuple' is not defined"
          ]
        }
      ]
    },
    {
      "cell_type": "markdown",
      "metadata": {
        "id": "mp6SqpDlyByb"
      },
      "source": [
        "## Identity Operators\n",
        "## used to compare objects\n",
        "\n",
        "## not if they are equal\n",
        "## but if they are actually the same object\n",
        "## with the same memory location\n",
        "## two identity operators:\n",
        "\n",
        "## is\n",
        "## is not"
      ]
    },
    {
      "cell_type": "code",
      "metadata": {
        "id": "7rJe1xMbyHLy",
        "colab": {
          "base_uri": "https://localhost:8080/"
        },
        "outputId": "bd153846-8b61-4633-eb9c-a66827995111"
      },
      "source": [
        "# define lists\n",
        "x = [\"apple\", \"banana\"]\n",
        "y = [\"apple\", \"banana\"]\n",
        "z = x\n",
        "\n",
        "# 'is' test \n",
        "print(x is z)\n"
      ],
      "execution_count": 140,
      "outputs": [
        {
          "output_type": "stream",
          "text": [
            "True\n"
          ],
          "name": "stdout"
        }
      ]
    },
    {
      "cell_type": "code",
      "metadata": {
        "id": "sadJfAtFyLjD",
        "colab": {
          "base_uri": "https://localhost:8080/"
        },
        "outputId": "1971485c-33aa-4c69-f52c-be9ce69cacc3"
      },
      "source": [
        "# 'is' test \n",
        "print(x is y)\n"
      ],
      "execution_count": 141,
      "outputs": [
        {
          "output_type": "stream",
          "text": [
            "False\n"
          ],
          "name": "stdout"
        }
      ]
    },
    {
      "cell_type": "code",
      "metadata": {
        "id": "x0pJ1E7PyMOY",
        "colab": {
          "base_uri": "https://localhost:8080/"
        },
        "outputId": "1f87677e-4355-4946-c588-c32a58ae52f4"
      },
      "source": [
        "# equality test\n",
        "print(x == y)"
      ],
      "execution_count": 142,
      "outputs": [
        {
          "output_type": "stream",
          "text": [
            "True\n"
          ],
          "name": "stdout"
        }
      ]
    },
    {
      "cell_type": "code",
      "metadata": {
        "id": "BLzuk-UiyMTZ",
        "colab": {
          "base_uri": "https://localhost:8080/"
        },
        "outputId": "baf5e378-6c63-4481-916d-2b50671924bd"
      },
      "source": [
        "# 'is not' test\n",
        "print(x is not y)"
      ],
      "execution_count": 144,
      "outputs": [
        {
          "output_type": "stream",
          "text": [
            "True\n"
          ],
          "name": "stdout"
        }
      ]
    },
    {
      "cell_type": "markdown",
      "metadata": {
        "id": "qe6GWIFPyMWz"
      },
      "source": [
        "## Membership Operators\n",
        "## used to test if a sequence has specified object\n",
        "\n",
        "## two membership operators:\n",
        "\n",
        "## in\n",
        "## not in"
      ]
    },
    {
      "cell_type": "code",
      "metadata": {
        "id": "oKd5U-zRyMaR",
        "colab": {
          "base_uri": "https://localhost:8080/"
        },
        "outputId": "aa4bed8b-039c-4c66-92a2-1b9ae1ba65a0"
      },
      "source": [
        "# define list \n",
        "x = [\"apple\", \"banana\"]\n",
        "\n",
        "# 'in' test\n",
        "print(\"banana\" in x)\n"
      ],
      "execution_count": 145,
      "outputs": [
        {
          "output_type": "stream",
          "text": [
            "True\n"
          ],
          "name": "stdout"
        }
      ]
    },
    {
      "cell_type": "code",
      "metadata": {
        "id": "hDCaqWf0yMdV",
        "colab": {
          "base_uri": "https://localhost:8080/"
        },
        "outputId": "c074a69d-fa91-4213-d02d-acb627fd48b0"
      },
      "source": [
        "# 'in' test\n",
        "print(\"pineapple\" in x)"
      ],
      "execution_count": 146,
      "outputs": [
        {
          "output_type": "stream",
          "text": [
            "False\n"
          ],
          "name": "stdout"
        }
      ]
    },
    {
      "cell_type": "code",
      "metadata": {
        "id": "0iUiJCvByg2g",
        "colab": {
          "base_uri": "https://localhost:8080/"
        },
        "outputId": "500e6660-8b5e-4538-822f-406ad9706ce3"
      },
      "source": [
        "# 'not in' test\n",
        "print(\"pineapple\" not in x)"
      ],
      "execution_count": 147,
      "outputs": [
        {
          "output_type": "stream",
          "text": [
            "True\n"
          ],
          "name": "stdout"
        }
      ]
    },
    {
      "cell_type": "markdown",
      "metadata": {
        "id": "3ZtUU-BoLR1G"
      },
      "source": [
        "### ASIIGNMENT 2"
      ]
    },
    {
      "cell_type": "markdown",
      "metadata": {
        "id": "INmTc4RFX25b"
      },
      "source": [
        "### LIST OPERATIONS USING NESTED LIST"
      ]
    },
    {
      "cell_type": "code",
      "metadata": {
        "colab": {
          "base_uri": "https://localhost:8080/"
        },
        "id": "u2NLA08JVFrq",
        "outputId": "ce4c96ee-6ff1-40e9-a8f1-390ee9c28e96"
      },
      "source": [
        " list = [['name','lavanya'],['age',23],['education','BE'],['staying__location','tmkur','banglore']]\n",
        " #INSERT\n",
        " list[0].insert(2,\"gowda\")\n",
        " # extend new_list with multiple elements in an array\n",
        " list[1].extend(['years','old'])\n",
        " #APPEND\n",
        " list[2].append(\"M tech\")\n",
        " #REMOVE\n",
        " list[3].remove(\"banglore\")\n",
        " list\n"
      ],
      "execution_count": 214,
      "outputs": [
        {
          "output_type": "execute_result",
          "data": {
            "text/plain": [
              "[['name', 'lavanya', 'gowda'],\n",
              " ['age', 23, 'years', 'old'],\n",
              " ['education', 'BE', 'M tech'],\n",
              " ['staying__location', 'tmkur']]"
            ]
          },
          "metadata": {
            "tags": []
          },
          "execution_count": 214
        }
      ]
    },
    {
      "cell_type": "markdown",
      "metadata": {
        "id": "vEt09NEmV7uY"
      },
      "source": [
        "## STRING SLICING"
      ]
    },
    {
      "cell_type": "code",
      "metadata": {
        "colab": {
          "base_uri": "https://localhost:8080/"
        },
        "id": "VC7qj814YVKv",
        "outputId": "498c5c2d-fb18-4015-916c-1fcd8743c7bd"
      },
      "source": [
        "string_slicing = ['s','u','p','e','r','m','a','n']\n",
        "#SUPER \n",
        "string_slicing[0:5]\n"
      ],
      "execution_count": 224,
      "outputs": [
        {
          "output_type": "execute_result",
          "data": {
            "text/plain": [
              "['s', 'u', 'p', 'e', 'r']"
            ]
          },
          "metadata": {
            "tags": []
          },
          "execution_count": 224
        }
      ]
    },
    {
      "cell_type": "code",
      "metadata": {
        "id": "56cpYXSiZ4XX"
      },
      "source": [
        ""
      ],
      "execution_count": null,
      "outputs": []
    },
    {
      "cell_type": "code",
      "metadata": {
        "colab": {
          "base_uri": "https://localhost:8080/"
        },
        "id": "xPehfZI1ZMCv",
        "outputId": "b5f6fbfc-a321-4009-8d29-35ea979575c4"
      },
      "source": [
        "#MAN\n",
        "string_slicing[5:]\n"
      ],
      "execution_count": 225,
      "outputs": [
        {
          "output_type": "execute_result",
          "data": {
            "text/plain": [
              "['m', 'a', 'n']"
            ]
          },
          "metadata": {
            "tags": []
          },
          "execution_count": 225
        }
      ]
    },
    {
      "cell_type": "code",
      "metadata": {
        "colab": {
          "base_uri": "https://localhost:8080/"
        },
        "id": "0UNNaoM4Z5r3",
        "outputId": "a80fa570-baa4-4ec3-938e-5fb4145ca2b3"
      },
      "source": [
        "string_slicing[5:8]"
      ],
      "execution_count": 228,
      "outputs": [
        {
          "output_type": "execute_result",
          "data": {
            "text/plain": [
              "['m', 'a', 'n']"
            ]
          },
          "metadata": {
            "tags": []
          },
          "execution_count": 228
        }
      ]
    },
    {
      "cell_type": "code",
      "metadata": {
        "id": "HJ3hp1DbaD7C"
      },
      "source": [
        ""
      ],
      "execution_count": null,
      "outputs": []
    },
    {
      "cell_type": "code",
      "metadata": {
        "colab": {
          "base_uri": "https://localhost:8080/"
        },
        "id": "lauvlCnJZ1GV",
        "outputId": "7d0a508d-64d5-4a56-e676-8bc031e57343"
      },
      "source": [
        "\n",
        "#AN\n",
        "string_slicing[-2:]\n"
      ],
      "execution_count": 226,
      "outputs": [
        {
          "output_type": "execute_result",
          "data": {
            "text/plain": [
              "['a', 'n']"
            ]
          },
          "metadata": {
            "tags": []
          },
          "execution_count": 226
        }
      ]
    },
    {
      "cell_type": "code",
      "metadata": {
        "colab": {
          "base_uri": "https://localhost:8080/"
        },
        "id": "gSyFKDLTaGcl",
        "outputId": "5f8810ac-bb93-4faf-c8a0-0189377dfef4"
      },
      "source": [
        "string_slicing[6:8]"
      ],
      "execution_count": 230,
      "outputs": [
        {
          "output_type": "execute_result",
          "data": {
            "text/plain": [
              "['a', 'n']"
            ]
          },
          "metadata": {
            "tags": []
          },
          "execution_count": 230
        }
      ]
    },
    {
      "cell_type": "markdown",
      "metadata": {
        "id": "6s-X-0U6a-4R"
      },
      "source": [
        "### TAKE ANY SET OF NUMBERS AND DO SORTING "
      ]
    },
    {
      "cell_type": "code",
      "metadata": {
        "colab": {
          "base_uri": "https://localhost:8080/"
        },
        "id": "v4di9lyCM1UY",
        "outputId": "11d23902-86fa-421e-f66c-015de5f25362"
      },
      "source": [
        "num = [90,80,70,600]\n",
        "num\n",
        "num.sort()\n",
        "num"
      ],
      "execution_count": 234,
      "outputs": [
        {
          "output_type": "execute_result",
          "data": {
            "text/plain": [
              "[70, 80, 90, 600]"
            ]
          },
          "metadata": {
            "tags": []
          },
          "execution_count": 234
        }
      ]
    },
    {
      "cell_type": "markdown",
      "metadata": {
        "id": "6xYw0UovM30V"
      },
      "source": [
        "\n",
        "# MODIFYING THE STATEMENTS "
      ]
    },
    {
      "cell_type": "code",
      "metadata": {
        "colab": {
          "base_uri": "https://localhost:8080/"
        },
        "id": "ZiQEz_RJb1wJ",
        "outputId": "be5536bf-2412-4443-f47c-9e7b4cc457d8"
      },
      "source": [
        "statement = [\"good\",\"job\"]\n",
        "statement[0] = \"great\"\n",
        "statement"
      ],
      "execution_count": 236,
      "outputs": [
        {
          "output_type": "execute_result",
          "data": {
            "text/plain": [
              "['great', 'job']"
            ]
          },
          "metadata": {
            "tags": []
          },
          "execution_count": 236
        }
      ]
    },
    {
      "cell_type": "markdown",
      "metadata": {
        "id": "XWbPBMmaA6vx"
      },
      "source": [
        "### foundation 3"
      ]
    },
    {
      "cell_type": "markdown",
      "metadata": {
        "id": "Omq_J5osBCXc"
      },
      "source": [
        "### Type Conversions"
      ]
    },
    {
      "cell_type": "markdown",
      "metadata": {
        "id": "K4bPErUdBQ-2"
      },
      "source": [
        "#int to float"
      ]
    },
    {
      "cell_type": "code",
      "metadata": {
        "colab": {
          "base_uri": "https://localhost:8080/"
        },
        "id": "qmBC3cv5BWIC",
        "outputId": "07acd9ce-ddb0-48f2-d7c4-60760eefd471"
      },
      "source": [
        "## convert int to float \n",
        "x = 3 # int\n",
        "print(x)\n",
        "print(type(x))\n"
      ],
      "execution_count": 148,
      "outputs": [
        {
          "output_type": "stream",
          "text": [
            "3\n",
            "<class 'int'>\n"
          ],
          "name": "stdout"
        }
      ]
    },
    {
      "cell_type": "code",
      "metadata": {
        "colab": {
          "base_uri": "https://localhost:8080/"
        },
        "id": "Xw0M36-eBbzT",
        "outputId": "fa714da4-825f-4086-b4af-376413693e5d"
      },
      "source": [
        "y = float(x)\n",
        "print(y)\n",
        "print(type(y))"
      ],
      "execution_count": 149,
      "outputs": [
        {
          "output_type": "stream",
          "text": [
            "3.0\n",
            "<class 'float'>\n"
          ],
          "name": "stdout"
        }
      ]
    },
    {
      "cell_type": "markdown",
      "metadata": {
        "id": "q0DQ9yGLBdl0"
      },
      "source": [
        "### float to int"
      ]
    },
    {
      "cell_type": "code",
      "metadata": {
        "colab": {
          "base_uri": "https://localhost:8080/"
        },
        "id": "lKZbvTCfBlZg",
        "outputId": "d94f622e-c20f-470f-8cc2-abd9be42f2ec"
      },
      "source": [
        "## convert float to int\n",
        "y = 56.213 # float\n",
        "print(y)\n",
        "print(type(y))\n"
      ],
      "execution_count": 150,
      "outputs": [
        {
          "output_type": "stream",
          "text": [
            "56.213\n",
            "<class 'float'>\n"
          ],
          "name": "stdout"
        }
      ]
    },
    {
      "cell_type": "code",
      "metadata": {
        "colab": {
          "base_uri": "https://localhost:8080/"
        },
        "id": "JJknjZbaBodR",
        "outputId": "caad9ffb-19bb-48ab-ed37-e136ca1e0a55"
      },
      "source": [
        "z = int(y) # converting y to int\n",
        "print(z)\n",
        "print(type(z))"
      ],
      "execution_count": 151,
      "outputs": [
        {
          "output_type": "stream",
          "text": [
            "56\n",
            "<class 'int'>\n"
          ],
          "name": "stdout"
        }
      ]
    },
    {
      "cell_type": "markdown",
      "metadata": {
        "id": "oX7ItHARBvqz"
      },
      "source": [
        "## string to int"
      ]
    },
    {
      "cell_type": "code",
      "metadata": {
        "colab": {
          "base_uri": "https://localhost:8080/"
        },
        "id": "cn4JYufEB8SN",
        "outputId": "a676d0cb-65b1-4e44-87b7-9c694cde2da8"
      },
      "source": [
        "## convert string to int\n",
        "x = '50' # string\n",
        "print(x)\n",
        "print(type(x))\n"
      ],
      "execution_count": 152,
      "outputs": [
        {
          "output_type": "stream",
          "text": [
            "50\n",
            "<class 'str'>\n"
          ],
          "name": "stdout"
        }
      ]
    },
    {
      "cell_type": "code",
      "metadata": {
        "colab": {
          "base_uri": "https://localhost:8080/"
        },
        "id": "EYTA4jmoB_j9",
        "outputId": "dd2ff4e3-ed3c-4d89-bc04-b5e7a5b1ee56"
      },
      "source": [
        "y = int(x) # converting x to int\n",
        "print(y)\n",
        "print(type(y))"
      ],
      "execution_count": 153,
      "outputs": [
        {
          "output_type": "stream",
          "text": [
            "50\n",
            "<class 'int'>\n"
          ],
          "name": "stdout"
        }
      ]
    },
    {
      "cell_type": "markdown",
      "metadata": {
        "id": "XFRRNts5CGf1"
      },
      "source": [
        "### int to string¶"
      ]
    },
    {
      "cell_type": "code",
      "metadata": {
        "colab": {
          "base_uri": "https://localhost:8080/"
        },
        "id": "YkJHqDmGCUcb",
        "outputId": "745070a9-2bc3-49c8-b609-10b26737005e"
      },
      "source": [
        "## convert int to string \n",
        "x = 2020\n",
        "print(x)\n",
        "print(type(x))"
      ],
      "execution_count": 154,
      "outputs": [
        {
          "output_type": "stream",
          "text": [
            "2020\n",
            "<class 'int'>\n"
          ],
          "name": "stdout"
        }
      ]
    },
    {
      "cell_type": "code",
      "metadata": {
        "colab": {
          "base_uri": "https://localhost:8080/"
        },
        "id": "1ewPf0-mCX-z",
        "outputId": "71331cdd-774e-4098-e772-e7c323483e04"
      },
      "source": [
        "y = str(x)\n",
        "print(y)\n",
        "print(type(y))"
      ],
      "execution_count": 155,
      "outputs": [
        {
          "output_type": "stream",
          "text": [
            "2020\n",
            "<class 'str'>\n"
          ],
          "name": "stdout"
        }
      ]
    },
    {
      "cell_type": "markdown",
      "metadata": {
        "id": "YRBDKyllCent"
      },
      "source": [
        "### string to float"
      ]
    },
    {
      "cell_type": "code",
      "metadata": {
        "colab": {
          "base_uri": "https://localhost:8080/"
        },
        "id": "nKN5K8rDCnHq",
        "outputId": "bcd1e060-9807-41bb-dfa8-5e9a5eed1a6f"
      },
      "source": [
        "## convert str to float\n",
        "x = '3.14'\n",
        "print(x)\n",
        "print(type(x))\n",
        "\n",
        "y = float(x) # converting x to float\n",
        "print(y)\n",
        "print(type(y))"
      ],
      "execution_count": 158,
      "outputs": [
        {
          "output_type": "stream",
          "text": [
            "3.14\n",
            "<class 'str'>\n",
            "3.14\n",
            "<class 'float'>\n"
          ],
          "name": "stdout"
        }
      ]
    },
    {
      "cell_type": "markdown",
      "metadata": {
        "id": "qRdFx4zuCsCf"
      },
      "source": [
        "### float to string¶"
      ]
    },
    {
      "cell_type": "code",
      "metadata": {
        "colab": {
          "base_uri": "https://localhost:8080/"
        },
        "id": "KcuUKhM_C866",
        "outputId": "d1291966-2006-4702-a333-0d312b9fd8e5"
      },
      "source": [
        "## convert float to string \n",
        "x = 37.5\n",
        "print(x)\n",
        "print(type(x))"
      ],
      "execution_count": 160,
      "outputs": [
        {
          "output_type": "stream",
          "text": [
            "37.5\n",
            "<class 'float'>\n"
          ],
          "name": "stdout"
        }
      ]
    },
    {
      "cell_type": "code",
      "metadata": {
        "colab": {
          "base_uri": "https://localhost:8080/"
        },
        "id": "OkoWMx-7DDdr",
        "outputId": "d37da7be-6c66-4203-dba1-f65858d528b7"
      },
      "source": [
        "y = str(x) # converting x to string\n",
        "print(y)\n",
        "print(type(y))"
      ],
      "execution_count": 161,
      "outputs": [
        {
          "output_type": "stream",
          "text": [
            "37.5\n",
            "<class 'str'>\n"
          ],
          "name": "stdout"
        }
      ]
    },
    {
      "cell_type": "markdown",
      "metadata": {
        "id": "wZW7war9DDnl"
      },
      "source": [
        "### list to tuple"
      ]
    },
    {
      "cell_type": "code",
      "metadata": {
        "colab": {
          "base_uri": "https://localhost:8080/"
        },
        "id": "BWsLA1RQDDqR",
        "outputId": "eda3622e-ec10-4341-a5bc-3449e24643bd"
      },
      "source": [
        "## convert list to tuple\n",
        "new_list = [3,7,20,'@','TECH I.S.', 'makes learning fun!']\n",
        "print(new_list)\n",
        "print(type(new_list))\n"
      ],
      "execution_count": 162,
      "outputs": [
        {
          "output_type": "stream",
          "text": [
            "[3, 7, 20, '@', 'TECH I.S.', 'makes learning fun!']\n",
            "<class 'list'>\n"
          ],
          "name": "stdout"
        }
      ]
    },
    {
      "cell_type": "code",
      "metadata": {
        "colab": {
          "base_uri": "https://localhost:8080/"
        },
        "id": "zFP-G318DbSQ",
        "outputId": "7f3e8159-47db-4dcf-d30a-41d33def82e4"
      },
      "source": [
        "new_tuple = tuple(new_list) # converting new_list to new_tuple\n",
        "print(new_tuple)\n",
        "print(type(new_tuple))"
      ],
      "execution_count": 163,
      "outputs": [
        {
          "output_type": "stream",
          "text": [
            "(3, 7, 20, '@', 'TECH I.S.', 'makes learning fun!')\n",
            "<class 'tuple'>\n"
          ],
          "name": "stdout"
        }
      ]
    },
    {
      "cell_type": "markdown",
      "metadata": {
        "id": "KjnmU-m3DDs_"
      },
      "source": [
        "### tuple to list"
      ]
    },
    {
      "cell_type": "code",
      "metadata": {
        "colab": {
          "base_uri": "https://localhost:8080/"
        },
        "id": "GNr4CbIPDDvq",
        "outputId": "bcd87ff4-9718-4769-8098-37a1c4aae031"
      },
      "source": [
        "## convert tuple to list\n",
        "new_tuple = 4,1,45,92,31,60,84\n",
        "print(new_tuple)\n",
        "print(type(new_tuple))\n"
      ],
      "execution_count": 164,
      "outputs": [
        {
          "output_type": "stream",
          "text": [
            "(4, 1, 45, 92, 31, 60, 84)\n",
            "<class 'tuple'>\n"
          ],
          "name": "stdout"
        }
      ]
    },
    {
      "cell_type": "code",
      "metadata": {
        "colab": {
          "base_uri": "https://localhost:8080/"
        },
        "id": "K42mPrvaDDzX",
        "outputId": "ed383ca7-4cbf-4d07-ee02-071d20e05445"
      },
      "source": [
        "new_list = list(new_tuple) # converting new_tuple to new_list\n",
        "print(new_list)\n",
        "print(type(new_list))"
      ],
      "execution_count": 165,
      "outputs": [
        {
          "output_type": "stream",
          "text": [
            "[4, 1, 45, 92, 31, 60, 84]\n",
            "<class 'list'>\n"
          ],
          "name": "stdout"
        }
      ]
    },
    {
      "cell_type": "markdown",
      "metadata": {
        "id": "wNyFVW1UDD2T"
      },
      "source": [
        "### list to set¶"
      ]
    },
    {
      "cell_type": "code",
      "metadata": {
        "colab": {
          "base_uri": "https://localhost:8080/"
        },
        "id": "RWoO5-ZrDD51",
        "outputId": "b5004e0f-b4a6-4f9c-b673-47e2c7009705"
      },
      "source": [
        "# define list\n",
        "new_list = [\"olivia\",\"kaseem\",\"caleb\",\"olivia\",\"owen\", \"olivia\"]\n",
        "print(new_list)\n",
        "print(type(new_list))\n"
      ],
      "execution_count": 166,
      "outputs": [
        {
          "output_type": "stream",
          "text": [
            "['olivia', 'kaseem', 'caleb', 'olivia', 'owen', 'olivia']\n",
            "<class 'list'>\n"
          ],
          "name": "stdout"
        }
      ]
    },
    {
      "cell_type": "code",
      "metadata": {
        "colab": {
          "base_uri": "https://localhost:8080/"
        },
        "id": "RJNFIzTAETsO",
        "outputId": "537b88d8-d9f3-4f6f-d43e-0111477448de"
      },
      "source": [
        "# convert to set \n",
        "new_set = set(new_list) # extracts only the unique values\n",
        "print(new_set)\n",
        "print(type(new_set))"
      ],
      "execution_count": 168,
      "outputs": [
        {
          "output_type": "stream",
          "text": [
            "{'kaseem', 'owen', 'caleb', 'olivia'}\n",
            "<class 'set'>\n"
          ],
          "name": "stdout"
        }
      ]
    },
    {
      "cell_type": "markdown",
      "metadata": {
        "id": "c2R_-Kl6EZyp"
      },
      "source": [
        "### set to list"
      ]
    },
    {
      "cell_type": "code",
      "metadata": {
        "colab": {
          "base_uri": "https://localhost:8080/"
        },
        "id": "uGT_in-FEfSs",
        "outputId": "c8ba852b-7e32-4243-f4e9-36a9767f6511"
      },
      "source": [
        "#define a set \n",
        "new_set = {'kaseem', 'olivia', 'caleb', 'owen'}\n",
        "print(new_set)\n",
        "print(type(new_set))\n"
      ],
      "execution_count": 169,
      "outputs": [
        {
          "output_type": "stream",
          "text": [
            "{'kaseem', 'owen', 'caleb', 'olivia'}\n",
            "<class 'set'>\n"
          ],
          "name": "stdout"
        }
      ]
    },
    {
      "cell_type": "code",
      "metadata": {
        "colab": {
          "base_uri": "https://localhost:8080/"
        },
        "id": "1FUgv6uSEkzf",
        "outputId": "8a64f07f-4ede-492d-c00a-cca282f22b33"
      },
      "source": [
        "# convert this set to a list\n",
        "new_list = list(new_set) \n",
        "print(new_list) \n",
        "print(type(new_list))"
      ],
      "execution_count": 170,
      "outputs": [
        {
          "output_type": "stream",
          "text": [
            "['kaseem', 'owen', 'caleb', 'olivia']\n",
            "<class 'list'>\n"
          ],
          "name": "stdout"
        }
      ]
    },
    {
      "cell_type": "markdown",
      "metadata": {
        "id": "9Js26zBAEpCX"
      },
      "source": [
        "### That was a lot of conversions !\n",
        "##Excercise : 1\n",
        "## Lets try to convert these variables into other datatypes :\n",
        "\n",
        "## num = 7 into string\n",
        "## discount = '3.77' into float\n",
        "### grocery = egg,milk,mango into list"
      ]
    },
    {
      "cell_type": "code",
      "metadata": {
        "colab": {
          "base_uri": "https://localhost:8080/"
        },
        "id": "wtBAjgcKE4Xq",
        "outputId": "83c1fa8e-2512-4f78-b4d5-b5ea3db119a9"
      },
      "source": [
        "num = 7\n",
        "x = str(num)\n",
        "type(x)"
      ],
      "execution_count": 172,
      "outputs": [
        {
          "output_type": "execute_result",
          "data": {
            "text/plain": [
              "str"
            ]
          },
          "metadata": {
            "tags": []
          },
          "execution_count": 172
        }
      ]
    },
    {
      "cell_type": "code",
      "metadata": {
        "colab": {
          "base_uri": "https://localhost:8080/"
        },
        "id": "5gBYoxQkFdS5",
        "outputId": "6df8e8a0-d16a-4411-bc76-fb0d4274d353"
      },
      "source": [
        "discount = 3.77\n",
        "d = float(discount)\n",
        "type(d)"
      ],
      "execution_count": 173,
      "outputs": [
        {
          "output_type": "execute_result",
          "data": {
            "text/plain": [
              "float"
            ]
          },
          "metadata": {
            "tags": []
          },
          "execution_count": 173
        }
      ]
    },
    {
      "cell_type": "code",
      "metadata": {
        "colab": {
          "base_uri": "https://localhost:8080/"
        },
        "id": "a2Bl73WeFown",
        "outputId": "b1699134-8130-44cb-d4c8-4740c77ca773"
      },
      "source": [
        "grocery = \"egg\",\"milk\",\"mango\"\n",
        "g = list(grocery)\n",
        "type(g)"
      ],
      "execution_count": 174,
      "outputs": [
        {
          "output_type": "execute_result",
          "data": {
            "text/plain": [
              "list"
            ]
          },
          "metadata": {
            "tags": []
          },
          "execution_count": 174
        }
      ]
    },
    {
      "cell_type": "markdown",
      "metadata": {
        "id": "0H-BWmylF6Oj"
      },
      "source": [
        "### Flow Control\n",
        "## if... elif... else...\n",
        "## if, elif and else keywords are used to make decisions\n",
        "\n",
        "## executes different blocks of code based on certain conditions\n",
        "## comparison operators and logical operators can be used to specify these conditions"
      ]
    },
    {
      "cell_type": "code",
      "metadata": {
        "colab": {
          "base_uri": "https://localhost:8080/"
        },
        "id": "GoGRbANwdyEi",
        "outputId": "625e4a19-33e8-4433-bb72-df0b3ecb8b84"
      },
      "source": [
        "# 'if' conditional  \n",
        "x = 5\n",
        "y = 5\n",
        "\n",
        "if x == y:\n",
        "    print('x and y are equal')"
      ],
      "execution_count": 240,
      "outputs": [
        {
          "output_type": "stream",
          "text": [
            "x and y are equal\n"
          ],
          "name": "stdout"
        }
      ]
    },
    {
      "cell_type": "code",
      "metadata": {
        "id": "myg0JZwyeeip"
      },
      "source": [
        "# 'if' conditional  \n",
        "x = 5\n",
        "y = 6\n",
        "\n",
        "if x == y:\n",
        "    print('x and y are equal')\n",
        "\n",
        "# no output because x and y are not equal"
      ],
      "execution_count": 242,
      "outputs": []
    },
    {
      "cell_type": "code",
      "metadata": {
        "colab": {
          "base_uri": "https://localhost:8080/"
        },
        "id": "jetKRZZRem3x",
        "outputId": "fbcfa91e-e284-4c14-948a-05ccc50b4c18"
      },
      "source": [
        "# 'if... else...' conditional\n",
        "x = 5\n",
        "y = 6\n",
        "\n",
        "if x == y:\n",
        "    print('x and y are equal')\n",
        "else:\n",
        "    print('x and y are not equal')"
      ],
      "execution_count": 243,
      "outputs": [
        {
          "output_type": "stream",
          "text": [
            "x and y are not equal\n"
          ],
          "name": "stdout"
        }
      ]
    },
    {
      "cell_type": "code",
      "metadata": {
        "colab": {
          "base_uri": "https://localhost:8080/"
        },
        "id": "z1mhgMXsevFC",
        "outputId": "5c3196e3-4b6a-40f6-c86b-ff6c564e4a8b"
      },
      "source": [
        "# 'if... elif... else...' conditional\n",
        "x = 6\n",
        "y = 3\n",
        "\n",
        "if x == y:\n",
        "    print('x and y are equal')\n",
        "elif x < y:\n",
        "    print('x is smaller')\n",
        "else:\n",
        "    print('y is smaller')"
      ],
      "execution_count": 244,
      "outputs": [
        {
          "output_type": "stream",
          "text": [
            "y is smaller\n"
          ],
          "name": "stdout"
        }
      ]
    },
    {
      "cell_type": "markdown",
      "metadata": {
        "id": "xKbKi59Dezxy"
      },
      "source": [
        "### So now if you know what flow control can do for you , what else are you waiting for !\n",
        "## Excercise : 2\n",
        "## Create program where the user can enter a number , and if the number is even print 'This number is even!' or else print 'This number is odd' and otherwise 'This is not a valid number'\n",
        "\n",
        "### single line if... else...\n",
        "### use if and else in a single line as shown below"
      ]
    },
    {
      "cell_type": "code",
      "metadata": {
        "colab": {
          "base_uri": "https://localhost:8080/"
        },
        "id": "noUkoCC0e-9S",
        "outputId": "543c8e14-c71b-4b84-c2f6-6fa8308b1166"
      },
      "source": [
        "# 'if... elif... else...' conditional\n",
        "x = int(input(\"enter a any number: \"))\n",
        "\n",
        "\n",
        "if (x%2)== 0:\n",
        "    print('This number is even!')\n",
        "else:\n",
        "    print('This number is odd')"
      ],
      "execution_count": 250,
      "outputs": [
        {
          "output_type": "stream",
          "text": [
            "enter a any number: 7\n",
            "This number is odd\n"
          ],
          "name": "stdout"
        }
      ]
    },
    {
      "cell_type": "code",
      "metadata": {
        "colab": {
          "base_uri": "https://localhost:8080/"
        },
        "id": "t6Dz8cGRgaCf",
        "outputId": "d45c0a9e-510b-48e3-e473-4a439b79606b"
      },
      "source": [
        "is_single = True\n",
        "message = 'You can date.' if is_single else 'You cannot date.'\n",
        "print(message)"
      ],
      "execution_count": 251,
      "outputs": [
        {
          "output_type": "stream",
          "text": [
            "You can date.\n"
          ],
          "name": "stdout"
        }
      ]
    },
    {
      "cell_type": "markdown",
      "metadata": {
        "id": "jwDESx7YhQMi"
      },
      "source": [
        "###\"=\" vs. \"==\"\n",
        "### = is an assigment operator\n",
        "\n",
        "## is used to set values of variables\n",
        "###  == is a comparison operator\n",
        "\n",
        "### is used to compare the equality of two objects/variables\n",
        "### if == is used instead of = for comparison in if statement, for instance, then a syntanx error is thrown"
      ]
    },
    {
      "cell_type": "code",
      "metadata": {
        "colab": {
          "base_uri": "https://localhost:8080/"
        },
        "id": "txUSWoN3hXKc",
        "outputId": "bc551194-3edd-4b13-d691-8ce1f47ca5c6"
      },
      "source": [
        "# get user input for variables 'x' and 'y'\n",
        "x = float(input(\"Enter a number for x: \")) # `=` is an assignment operator\n",
        "y = float(input(\"Enter a number for y: \")) # `=` is an assignment operator\n",
        "\n",
        "# compare values of x and y \n",
        "if x == y: # `==` is a comparison operator\n",
        "  print(\"x and y are equal\") # if equality testest passed\n",
        "  if y != 0: \n",
        "    print(\"therefore, x / y is\", x/y) \n",
        "elif x < y: \n",
        "  print(\"x is smaller\") # if x is less than y\n",
        "else:\n",
        "  print(\"y is smaller\") # if y is less than x\n",
        "\n",
        "print(\"thanks!\")"
      ],
      "execution_count": 252,
      "outputs": [
        {
          "output_type": "stream",
          "text": [
            "Enter a number for x: 4\n",
            "Enter a number for y: 8.0\n",
            "x is smaller\n",
            "thanks!\n"
          ],
          "name": "stdout"
        }
      ]
    },
    {
      "cell_type": "markdown",
      "metadata": {
        "id": "2uU_Evikh8kA"
      },
      "source": [
        "### \"while\" loops\n",
        "### the while loop executes a block of code as long as a condition is true"
      ]
    },
    {
      "cell_type": "code",
      "metadata": {
        "colab": {
          "base_uri": "https://localhost:8080/"
        },
        "id": "CAAjgZ39iCU3",
        "outputId": "6822fa72-7e06-45e6-ddea-88f0004bf151"
      },
      "source": [
        "# while loop example #1\n",
        "n = 0 \n",
        "while n < 5:\n",
        "  print(n)\n",
        "  n += 1"
      ],
      "execution_count": 253,
      "outputs": [
        {
          "output_type": "stream",
          "text": [
            "0\n",
            "1\n",
            "2\n",
            "3\n",
            "4\n"
          ],
          "name": "stdout"
        }
      ]
    },
    {
      "cell_type": "markdown",
      "metadata": {
        "id": "e59cYto_iMOT"
      },
      "source": [
        "### \"while\" loop with \"else\" statement\n",
        "### else can be added at the end of a while loop\n",
        "### to run a piece of code when the while condition is no longer is true"
      ]
    },
    {
      "cell_type": "code",
      "metadata": {
        "colab": {
          "base_uri": "https://localhost:8080/"
        },
        "id": "rnBCHqz2iUci",
        "outputId": "21d13685-c2a6-47b3-d840-3a28b4600a79"
      },
      "source": [
        "# while loop example #2\n",
        "n = 0 \n",
        "while n < 5:\n",
        "  print(n)\n",
        "  n += 1\n",
        "else:\n",
        "  print('n is not less than 5 anymore')\n"
      ],
      "execution_count": 254,
      "outputs": [
        {
          "output_type": "stream",
          "text": [
            "0\n",
            "1\n",
            "2\n",
            "3\n",
            "4\n",
            "n is not less than 5 anymore\n"
          ],
          "name": "stdout"
        }
      ]
    },
    {
      "cell_type": "markdown",
      "metadata": {
        "id": "X3QdoSFmiZcz"
      },
      "source": [
        "### Excercise : 3\n",
        "### Display the numbers from 4 to 100 using the while loop"
      ]
    },
    {
      "cell_type": "code",
      "metadata": {
        "colab": {
          "base_uri": "https://localhost:8080/"
        },
        "id": "E-YMv0QUijns",
        "outputId": "2afb0959-7ea1-4e90-c3b5-896f1a80acf3"
      },
      "source": [
        "n = 4 \n",
        "while n < 101:\n",
        "  print(n)\n",
        "  n += 1"
      ],
      "execution_count": 256,
      "outputs": [
        {
          "output_type": "stream",
          "text": [
            "4\n",
            "5\n",
            "6\n",
            "7\n",
            "8\n",
            "9\n",
            "10\n",
            "11\n",
            "12\n",
            "13\n",
            "14\n",
            "15\n",
            "16\n",
            "17\n",
            "18\n",
            "19\n",
            "20\n",
            "21\n",
            "22\n",
            "23\n",
            "24\n",
            "25\n",
            "26\n",
            "27\n",
            "28\n",
            "29\n",
            "30\n",
            "31\n",
            "32\n",
            "33\n",
            "34\n",
            "35\n",
            "36\n",
            "37\n",
            "38\n",
            "39\n",
            "40\n",
            "41\n",
            "42\n",
            "43\n",
            "44\n",
            "45\n",
            "46\n",
            "47\n",
            "48\n",
            "49\n",
            "50\n",
            "51\n",
            "52\n",
            "53\n",
            "54\n",
            "55\n",
            "56\n",
            "57\n",
            "58\n",
            "59\n",
            "60\n",
            "61\n",
            "62\n",
            "63\n",
            "64\n",
            "65\n",
            "66\n",
            "67\n",
            "68\n",
            "69\n",
            "70\n",
            "71\n",
            "72\n",
            "73\n",
            "74\n",
            "75\n",
            "76\n",
            "77\n",
            "78\n",
            "79\n",
            "80\n",
            "81\n",
            "82\n",
            "83\n",
            "84\n",
            "85\n",
            "86\n",
            "87\n",
            "88\n",
            "89\n",
            "90\n",
            "91\n",
            "92\n",
            "93\n",
            "94\n",
            "95\n",
            "96\n",
            "97\n",
            "98\n",
            "99\n",
            "100\n"
          ],
          "name": "stdout"
        }
      ]
    },
    {
      "cell_type": "markdown",
      "metadata": {
        "id": "oqtdBUAdi8L4"
      },
      "source": [
        "## \"for\" loops\n",
        "## for keyword is used along with in membership query keyword to loop over strings, lists, tuple, and dictionaries\n"
      ]
    },
    {
      "cell_type": "markdown",
      "metadata": {
        "id": "eBEejyBcjIV2"
      },
      "source": [
        "### for... in range()\n",
        "### for can be used with in and range() to generate numbers"
      ]
    },
    {
      "cell_type": "code",
      "metadata": {
        "colab": {
          "base_uri": "https://localhost:8080/"
        },
        "id": "wFKVULHijsHX",
        "outputId": "0d855249-3163-4ca6-d753-b83593c256f7"
      },
      "source": [
        "for n in range(5):\n",
        "    print(n)"
      ],
      "execution_count": 257,
      "outputs": [
        {
          "output_type": "stream",
          "text": [
            "0\n",
            "1\n",
            "2\n",
            "3\n",
            "4\n"
          ],
          "name": "stdout"
        }
      ]
    },
    {
      "cell_type": "code",
      "metadata": {
        "colab": {
          "base_uri": "https://localhost:8080/"
        },
        "id": "UpK3rxbjkIQo",
        "outputId": "a61dc7b1-827c-44d9-dee1-e2a525e72e66"
      },
      "source": [
        "for n in range(2, 6):\n",
        "  print(n)"
      ],
      "execution_count": 258,
      "outputs": [
        {
          "output_type": "stream",
          "text": [
            "2\n",
            "3\n",
            "4\n",
            "5\n"
          ],
          "name": "stdout"
        }
      ]
    },
    {
      "cell_type": "code",
      "metadata": {
        "colab": {
          "base_uri": "https://localhost:8080/"
        },
        "id": "owkvv-qum8tk",
        "outputId": "211e2c80-83a0-4e95-b365-c43aa66da043"
      },
      "source": [
        "for x in range(2, 30, 3):\n",
        "  print(x)"
      ],
      "execution_count": 259,
      "outputs": [
        {
          "output_type": "stream",
          "text": [
            "2\n",
            "5\n",
            "8\n",
            "11\n",
            "14\n",
            "17\n",
            "20\n",
            "23\n",
            "26\n",
            "29\n"
          ],
          "name": "stdout"
        }
      ]
    },
    {
      "cell_type": "markdown",
      "metadata": {
        "id": "ut_kx28-nArl"
      },
      "source": [
        "### \"for\" loops with strings\n",
        "## foor loops can use used to loop over strings"
      ]
    },
    {
      "cell_type": "code",
      "metadata": {
        "colab": {
          "base_uri": "https://localhost:8080/"
        },
        "id": "9S5ut7hVnIFg",
        "outputId": "1dc09225-b9c1-45b8-fc05-f253dac57b5a"
      },
      "source": [
        "text = \"TECH I.S.\"\n",
        "for letter in text:\n",
        "  print(letter)"
      ],
      "execution_count": 260,
      "outputs": [
        {
          "output_type": "stream",
          "text": [
            "T\n",
            "E\n",
            "C\n",
            "H\n",
            " \n",
            "I\n",
            ".\n",
            "S\n",
            ".\n"
          ],
          "name": "stdout"
        }
      ]
    },
    {
      "cell_type": "markdown",
      "metadata": {
        "id": "I4wtjX3_nnMS"
      },
      "source": [
        "## \"for\" loop with lists, tuples, sets and dictionaries\n",
        "### \"for\" loop can be used with data types like lists, tuples, sets and dictionaries"
      ]
    },
    {
      "cell_type": "code",
      "metadata": {
        "colab": {
          "base_uri": "https://localhost:8080/"
        },
        "id": "KR9BBAVgnywG",
        "outputId": "f29a72fd-7baa-4759-fce9-1736f1f91607"
      },
      "source": [
        "# define a list\n",
        "fruits_list = [\"apple\", \"banana\", \"cherry\"]\n",
        "\n",
        "# run a for loop to print the elements of the list\n",
        "for fruit in fruits_list:\n",
        "  print(fruit)"
      ],
      "execution_count": 261,
      "outputs": [
        {
          "output_type": "stream",
          "text": [
            "apple\n",
            "banana\n",
            "cherry\n"
          ],
          "name": "stdout"
        }
      ]
    },
    {
      "cell_type": "code",
      "metadata": {
        "colab": {
          "base_uri": "https://localhost:8080/"
        },
        "id": "6fU-5JdVn4pt",
        "outputId": "7ed3fd0f-737c-4de7-a03c-ee01835aa180"
      },
      "source": [
        "# define a tuple\n",
        "animals_list = \"dog\",\"cat\",\"elephant\",\"otter\"\n",
        "\n",
        "# run a for loop to print the elements of the tuple\n",
        "for animal in animals_list:\n",
        "  print(animal)"
      ],
      "execution_count": 262,
      "outputs": [
        {
          "output_type": "stream",
          "text": [
            "dog\n",
            "cat\n",
            "elephant\n",
            "otter\n"
          ],
          "name": "stdout"
        }
      ]
    },
    {
      "cell_type": "code",
      "metadata": {
        "colab": {
          "base_uri": "https://localhost:8080/"
        },
        "id": "HGB7o7KGoH1L",
        "outputId": "de437b4a-ce81-448d-d5c5-62215eae83db"
      },
      "source": [
        "# define a set \n",
        "names = {'oliva','caleb','kaseem'}\n",
        "\n",
        "# loop over the set with for \n",
        "for name in names:\n",
        "  print(name)"
      ],
      "execution_count": 263,
      "outputs": [
        {
          "output_type": "stream",
          "text": [
            "kaseem\n",
            "oliva\n",
            "caleb\n"
          ],
          "name": "stdout"
        }
      ]
    },
    {
      "cell_type": "code",
      "metadata": {
        "colab": {
          "base_uri": "https://localhost:8080/"
        },
        "id": "vNiS5HgSohUO",
        "outputId": "b8aff7a5-30d7-4e9d-bae5-13cf109cff6d"
      },
      "source": [
        "# define a dicitonary\n",
        "translations = {'a':1, 'b':2, 'c':3}\n",
        "\n",
        "# loop over the dicitonary with for\n",
        "\n",
        "# keys:\n",
        "for entry in translations:\n",
        "  print(entry)\n",
        "\n",
        "# values:\n",
        "for entry in translations.values():\n",
        "  print(entry)"
      ],
      "execution_count": 264,
      "outputs": [
        {
          "output_type": "stream",
          "text": [
            "a\n",
            "b\n",
            "c\n",
            "1\n",
            "2\n",
            "3\n"
          ],
          "name": "stdout"
        }
      ]
    },
    {
      "cell_type": "markdown",
      "metadata": {
        "id": "AgXQem5ooj-K"
      },
      "source": [
        "### Excercise : 4\n",
        "### Print the following pattern\n",
        "\n",
        "### 1 12 123 1234 12345"
      ]
    },
    {
      "cell_type": "code",
      "metadata": {
        "colab": {
          "base_uri": "https://localhost:8080/"
        },
        "id": "JVnql-t_oyLb",
        "outputId": "e39d56ec-a9a2-4e3e-ee5d-ce2375474582"
      },
      "source": [
        "n = int(input(\"Enter number of rows: \"))\n",
        "\n",
        "for i in range(1,n+1):\n",
        "    for j in range(1, i+1):\n",
        "        print(j, end=\"\")\n",
        "    print()"
      ],
      "execution_count": 265,
      "outputs": [
        {
          "output_type": "stream",
          "text": [
            "Enter number of rows: 5\n",
            "1\n",
            "12\n",
            "123\n",
            "1234\n",
            "12345\n"
          ],
          "name": "stdout"
        }
      ]
    },
    {
      "cell_type": "markdown",
      "metadata": {
        "id": "D8Hw6DdFqQbS"
      },
      "source": [
        "## list comprehension\n",
        "## for loops can be written in a single line in python\n",
        "## using list comprehension"
      ]
    },
    {
      "cell_type": "code",
      "metadata": {
        "colab": {
          "base_uri": "https://localhost:8080/"
        },
        "id": "zSodx8-XqcUi",
        "outputId": "b7e7236b-3e5d-48bc-a176-d6e3e3c48d8e"
      },
      "source": [
        "# create a new list of powers of 0 to 9\n",
        "powers = [num**2 for num in range(10)] # a for loop defined with list comprehension\n",
        "print(powers)"
      ],
      "execution_count": 266,
      "outputs": [
        {
          "output_type": "stream",
          "text": [
            "[0, 1, 4, 9, 16, 25, 36, 49, 64, 81]\n"
          ],
          "name": "stdout"
        }
      ]
    },
    {
      "cell_type": "markdown",
      "metadata": {
        "id": "iP2jblolrDf7"
      },
      "source": [
        "### generator object\n",
        "### is not explicitly executed at creation\n",
        "\n",
        "### the formula (expression) for creating values is stored inside the generator\n",
        "\n",
        "### the values are accessed with the next function"
      ]
    },
    {
      "cell_type": "code",
      "metadata": {
        "colab": {
          "base_uri": "https://localhost:8080/"
        },
        "id": "-aXMDmQQrN8h",
        "outputId": "222992b7-ee5e-4a60-c214-662a7d77183c"
      },
      "source": [
        "# create a generator object with powers of 0 to 9\n",
        "powers = (num**2 for num in range(10))\n",
        "print(powers)\n",
        "\n",
        "next(powers) # call the first value in the generator"
      ],
      "execution_count": 267,
      "outputs": [
        {
          "output_type": "stream",
          "text": [
            "<generator object <genexpr> at 0x7f13eed71050>\n"
          ],
          "name": "stdout"
        },
        {
          "output_type": "execute_result",
          "data": {
            "text/plain": [
              "0"
            ]
          },
          "metadata": {
            "tags": []
          },
          "execution_count": 267
        }
      ]
    },
    {
      "cell_type": "code",
      "metadata": {
        "colab": {
          "base_uri": "https://localhost:8080/"
        },
        "id": "FM5de9kArZHP",
        "outputId": "e8ba29be-bc44-4acd-e3b3-228736473713"
      },
      "source": [
        "\n",
        "\n",
        "next(powers) # call the first value in the generator"
      ],
      "execution_count": 268,
      "outputs": [
        {
          "output_type": "execute_result",
          "data": {
            "text/plain": [
              "1"
            ]
          },
          "metadata": {
            "tags": []
          },
          "execution_count": 268
        }
      ]
    },
    {
      "cell_type": "code",
      "metadata": {
        "colab": {
          "base_uri": "https://localhost:8080/"
        },
        "id": "dnqls43mrdLV",
        "outputId": "27445da8-5ad4-4488-da84-63ed9be5467b"
      },
      "source": [
        "\n",
        "next(powers) # call the first value in the generator"
      ],
      "execution_count": 269,
      "outputs": [
        {
          "output_type": "execute_result",
          "data": {
            "text/plain": [
              "4"
            ]
          },
          "metadata": {
            "tags": []
          },
          "execution_count": 269
        }
      ]
    },
    {
      "cell_type": "code",
      "metadata": {
        "colab": {
          "base_uri": "https://localhost:8080/"
        },
        "id": "fKQU9EO9rgKL",
        "outputId": "72b49520-290c-4cd3-c358-3de46866e6f0"
      },
      "source": [
        "\n",
        "next(powers) # call the first value in the generator"
      ],
      "execution_count": 270,
      "outputs": [
        {
          "output_type": "execute_result",
          "data": {
            "text/plain": [
              "9"
            ]
          },
          "metadata": {
            "tags": []
          },
          "execution_count": 270
        }
      ]
    },
    {
      "cell_type": "markdown",
      "metadata": {
        "id": "fJM2_ycmrj-E"
      },
      "source": [
        "### nested \"for\" loops\n",
        "### for loops can be nested to achieve looping over multiple lists"
      ]
    },
    {
      "cell_type": "code",
      "metadata": {
        "colab": {
          "base_uri": "https://localhost:8080/"
        },
        "id": "NH1vHEW1ru6i",
        "outputId": "c4ce5b98-ae27-4c98-b0ad-72846cfbd81b"
      },
      "source": [
        "adjectives = [\"juicy\", \"big\", \"tasty\"] # list 1\n",
        "fruits = [\"apple\", \"banana\", \"cherry\"] # list 2\n",
        "\n",
        "for fruit in fruits: # looping over list 2 - outer loop\n",
        "  for adjective in adjectives: # looping over list 1 - inner loop\n",
        "    print(adjective, fruit)"
      ],
      "execution_count": 271,
      "outputs": [
        {
          "output_type": "stream",
          "text": [
            "juicy apple\n",
            "big apple\n",
            "tasty apple\n",
            "juicy banana\n",
            "big banana\n",
            "tasty banana\n",
            "juicy cherry\n",
            "big cherry\n",
            "tasty cherry\n"
          ],
          "name": "stdout"
        }
      ]
    },
    {
      "cell_type": "markdown",
      "metadata": {
        "id": "gVptxNqGr2YC"
      },
      "source": [
        "### \"break\" statement\n",
        "### stops a while loop even if the while condition is true"
      ]
    },
    {
      "cell_type": "code",
      "metadata": {
        "colab": {
          "base_uri": "https://localhost:8080/"
        },
        "id": "46IQksc3sGAI",
        "outputId": "68b36336-8435-433b-bdcf-8d5efe17c3ae"
      },
      "source": [
        "n = 0\n",
        "while n < 6:\n",
        "  print(n)\n",
        "  if n == 3:\n",
        "    break # break loop when it is equal to 3\n",
        "  n += 1"
      ],
      "execution_count": 272,
      "outputs": [
        {
          "output_type": "stream",
          "text": [
            "0\n",
            "1\n",
            "2\n",
            "3\n"
          ],
          "name": "stdout"
        }
      ]
    },
    {
      "cell_type": "code",
      "metadata": {
        "colab": {
          "base_uri": "https://localhost:8080/"
        },
        "id": "2vJbl7A0sVH3",
        "outputId": "ae86e98e-64a4-460e-e650-f54786511090"
      },
      "source": [
        "fruits = [\"apple\", \"banana\", \"cherry\"]\n",
        "for fruit in fruits:\n",
        "  print(fruit)\n",
        "  if fruit == \"banana\":\n",
        "    break # break loop after after printing banana"
      ],
      "execution_count": 273,
      "outputs": [
        {
          "output_type": "stream",
          "text": [
            "apple\n",
            "banana\n"
          ],
          "name": "stdout"
        }
      ]
    },
    {
      "cell_type": "markdown",
      "metadata": {
        "id": "0fS5q2LXskOi"
      },
      "source": [
        "## \"continue\" statement\n",
        "### the continue statement stops the current iteration, and continues with the next"
      ]
    },
    {
      "cell_type": "code",
      "metadata": {
        "colab": {
          "base_uri": "https://localhost:8080/"
        },
        "id": "OG1CfCERsoOC",
        "outputId": "d705a595-c958-4864-bd7a-f67b03a56588"
      },
      "source": [
        "n = 0\n",
        "while n < 6:\n",
        "  n += 1\n",
        "  if n == 3: # skip 3\n",
        "    continue\n",
        "  print(n)"
      ],
      "execution_count": 274,
      "outputs": [
        {
          "output_type": "stream",
          "text": [
            "1\n",
            "2\n",
            "4\n",
            "5\n",
            "6\n"
          ],
          "name": "stdout"
        }
      ]
    },
    {
      "cell_type": "code",
      "metadata": {
        "colab": {
          "base_uri": "https://localhost:8080/"
        },
        "id": "rp62VQm7sviX",
        "outputId": "5c35e0e2-5873-4668-a3d3-2d4d83976992"
      },
      "source": [
        "fruits = [\"apple\", \"banana\", \"cherry\"]\n",
        "for x in fruits:\n",
        "  if x == \"banana\":\n",
        "    continue # skip banana\n",
        "  print(x)"
      ],
      "execution_count": 275,
      "outputs": [
        {
          "output_type": "stream",
          "text": [
            "apple\n",
            "cherry\n"
          ],
          "name": "stdout"
        }
      ]
    },
    {
      "cell_type": "markdown",
      "metadata": {
        "id": "DP1TE-5StEx6"
      },
      "source": [
        "#### Exceptiion Handling Examples"
      ]
    },
    {
      "cell_type": "code",
      "metadata": {
        "colab": {
          "base_uri": "https://localhost:8080/",
          "height": 221
        },
        "id": "gTbcVLqOtHUI",
        "outputId": "66070cf8-a10e-4550-c160-2d8a250aee6e"
      },
      "source": [
        "# setup an error handling block \n",
        "try:\n",
        "  print(x_val) # without defining x_val before, we try to print the value of x_val\n",
        "except:\n",
        "  print('An exception occured')\n",
        "\n",
        "# here, since the try block code throws an error because of x_val not being defined, the except block is executed\n",
        "# lets try this without a try block\n",
        "print(x_val) # this raises a NameError"
      ],
      "execution_count": 276,
      "outputs": [
        {
          "output_type": "stream",
          "text": [
            "An exception occured\n"
          ],
          "name": "stdout"
        },
        {
          "output_type": "error",
          "ename": "NameError",
          "evalue": "ignored",
          "traceback": [
            "\u001b[0;31m---------------------------------------------------------------------------\u001b[0m",
            "\u001b[0;31mNameError\u001b[0m                                 Traceback (most recent call last)",
            "\u001b[0;32m<ipython-input-276-51cb879fcb85>\u001b[0m in \u001b[0;36m<module>\u001b[0;34m()\u001b[0m\n\u001b[1;32m      7\u001b[0m \u001b[0;31m# here, since the try block code throws an error because of x_val not being defined, the except block is executed\u001b[0m\u001b[0;34m\u001b[0m\u001b[0;34m\u001b[0m\u001b[0;34m\u001b[0m\u001b[0m\n\u001b[1;32m      8\u001b[0m \u001b[0;31m# lets try this without a try block\u001b[0m\u001b[0;34m\u001b[0m\u001b[0;34m\u001b[0m\u001b[0;34m\u001b[0m\u001b[0m\n\u001b[0;32m----> 9\u001b[0;31m \u001b[0mprint\u001b[0m\u001b[0;34m(\u001b[0m\u001b[0mx_val\u001b[0m\u001b[0;34m)\u001b[0m \u001b[0;31m# this raises a NameError\u001b[0m\u001b[0;34m\u001b[0m\u001b[0;34m\u001b[0m\u001b[0m\n\u001b[0m",
            "\u001b[0;31mNameError\u001b[0m: name 'x_val' is not defined"
          ]
        }
      ]
    },
    {
      "cell_type": "code",
      "metadata": {
        "colab": {
          "base_uri": "https://localhost:8080/"
        },
        "id": "yZAhPowqtHhD",
        "outputId": "d228ffd5-1c4e-4236-c41a-4946af2b4162"
      },
      "source": [
        "# multiple exceptions handling\n",
        "try:\n",
        "  print(x_val)\n",
        "except NameError: # exception handling #1\n",
        "  print(\"x_val is not defined\")\n",
        "except: # exception handling #2\n",
        "  print(\"Something else went wrong\")"
      ],
      "execution_count": 277,
      "outputs": [
        {
          "output_type": "stream",
          "text": [
            "x_val is not defined\n"
          ],
          "name": "stdout"
        }
      ]
    },
    {
      "cell_type": "code",
      "metadata": {
        "colab": {
          "base_uri": "https://localhost:8080/"
        },
        "id": "FJO7IVIutHtX",
        "outputId": "794ba402-542f-4f9b-faa9-74070f58187d"
      },
      "source": [
        "# `finally` block example #1\n",
        "try:\n",
        "  print(x)\n",
        "except: # this executes if the try block has an error\n",
        "  print(\"Something went wrong\")\n",
        "finally: # this is executed whether an error is raised or not\n",
        "  print(\"The 'try except' is finished!\")"
      ],
      "execution_count": 278,
      "outputs": [
        {
          "output_type": "stream",
          "text": [
            "cherry\n",
            "The 'try except' is finished!\n"
          ],
          "name": "stdout"
        }
      ]
    },
    {
      "cell_type": "code",
      "metadata": {
        "colab": {
          "base_uri": "https://localhost:8080/",
          "height": 221
        },
        "id": "UWk6MXS-tHxM",
        "outputId": "836e3a14-9a60-4c96-9509-82516603ae63"
      },
      "source": [
        "try: # define try block\n",
        "  f = open(\"file.txt\") # open a file that exists, but with no write permission\n",
        "  f.write(\"text to write\") # try to write to file\n",
        "except: # respond to error \n",
        "  print(\"Something went wrong when writing to file\")\n",
        "finally: # run this code regardless of the outcome of the try-error outcome\n",
        "  f.close()"
      ],
      "execution_count": 279,
      "outputs": [
        {
          "output_type": "stream",
          "text": [
            "Something went wrong when writing to file\n"
          ],
          "name": "stdout"
        },
        {
          "output_type": "error",
          "ename": "NameError",
          "evalue": "ignored",
          "traceback": [
            "\u001b[0;31m---------------------------------------------------------------------------\u001b[0m",
            "\u001b[0;31mNameError\u001b[0m                                 Traceback (most recent call last)",
            "\u001b[0;32m<ipython-input-279-14382fbdfd20>\u001b[0m in \u001b[0;36m<module>\u001b[0;34m()\u001b[0m\n\u001b[1;32m      5\u001b[0m   \u001b[0mprint\u001b[0m\u001b[0;34m(\u001b[0m\u001b[0;34m\"Something went wrong when writing to file\"\u001b[0m\u001b[0;34m)\u001b[0m\u001b[0;34m\u001b[0m\u001b[0;34m\u001b[0m\u001b[0m\n\u001b[1;32m      6\u001b[0m \u001b[0;32mfinally\u001b[0m\u001b[0;34m:\u001b[0m \u001b[0;31m# run this code regardless of the outcome of the try-error outcome\u001b[0m\u001b[0;34m\u001b[0m\u001b[0;34m\u001b[0m\u001b[0m\n\u001b[0;32m----> 7\u001b[0;31m   \u001b[0mf\u001b[0m\u001b[0;34m.\u001b[0m\u001b[0mclose\u001b[0m\u001b[0;34m(\u001b[0m\u001b[0;34m)\u001b[0m\u001b[0;34m\u001b[0m\u001b[0;34m\u001b[0m\u001b[0m\n\u001b[0m",
            "\u001b[0;31mNameError\u001b[0m: name 'f' is not defined"
          ]
        }
      ]
    },
    {
      "cell_type": "markdown",
      "metadata": {
        "id": "8pQ54072t7Qf"
      },
      "source": [
        "## raise() keyword\n",
        "## you can geenrate a custom error if an exception occurs\n",
        "## this is done with the raise() keyword"
      ]
    },
    {
      "cell_type": "code",
      "metadata": {
        "colab": {
          "base_uri": "https://localhost:8080/",
          "height": 204
        },
        "id": "w91RT-7muLHm",
        "outputId": "108f7dcf-a908-48c5-bfef-14033a405eab"
      },
      "source": [
        "## raise exception example #1\n",
        "x = -1\n",
        "\n",
        "if x < 0:\n",
        "  raise Exception(\"Sorry, number below zero!\")"
      ],
      "execution_count": 280,
      "outputs": [
        {
          "output_type": "error",
          "ename": "Exception",
          "evalue": "ignored",
          "traceback": [
            "\u001b[0;31m---------------------------------------------------------------------------\u001b[0m",
            "\u001b[0;31mException\u001b[0m                                 Traceback (most recent call last)",
            "\u001b[0;32m<ipython-input-280-15f6c691eb6a>\u001b[0m in \u001b[0;36m<module>\u001b[0;34m()\u001b[0m\n\u001b[1;32m      3\u001b[0m \u001b[0;34m\u001b[0m\u001b[0m\n\u001b[1;32m      4\u001b[0m \u001b[0;32mif\u001b[0m \u001b[0mx\u001b[0m \u001b[0;34m<\u001b[0m \u001b[0;36m0\u001b[0m\u001b[0;34m:\u001b[0m\u001b[0;34m\u001b[0m\u001b[0;34m\u001b[0m\u001b[0m\n\u001b[0;32m----> 5\u001b[0;31m   \u001b[0;32mraise\u001b[0m \u001b[0mException\u001b[0m\u001b[0;34m(\u001b[0m\u001b[0;34m\"Sorry, number below zero!\"\u001b[0m\u001b[0;34m)\u001b[0m\u001b[0;34m\u001b[0m\u001b[0;34m\u001b[0m\u001b[0m\n\u001b[0m",
            "\u001b[0;31mException\u001b[0m: Sorry, number below zero!"
          ]
        }
      ]
    },
    {
      "cell_type": "code",
      "metadata": {
        "colab": {
          "base_uri": "https://localhost:8080/",
          "height": 204
        },
        "id": "qzh0kEWouVj5",
        "outputId": "f9eb0dbc-a668-466a-af04-d5e382a6ad68"
      },
      "source": [
        "## raise exception example #2\n",
        "# you can choose the specific type of Exception to raise\n",
        "x = \"hello\"\n",
        "\n",
        "if not type(x) is int:\n",
        "  raise TypeError(\"Only integers are allowed!\")"
      ],
      "execution_count": 281,
      "outputs": [
        {
          "output_type": "error",
          "ename": "TypeError",
          "evalue": "ignored",
          "traceback": [
            "\u001b[0;31m---------------------------------------------------------------------------\u001b[0m",
            "\u001b[0;31mTypeError\u001b[0m                                 Traceback (most recent call last)",
            "\u001b[0;32m<ipython-input-281-64b86dec0554>\u001b[0m in \u001b[0;36m<module>\u001b[0;34m()\u001b[0m\n\u001b[1;32m      4\u001b[0m \u001b[0;34m\u001b[0m\u001b[0m\n\u001b[1;32m      5\u001b[0m \u001b[0;32mif\u001b[0m \u001b[0;32mnot\u001b[0m \u001b[0mtype\u001b[0m\u001b[0;34m(\u001b[0m\u001b[0mx\u001b[0m\u001b[0;34m)\u001b[0m \u001b[0;32mis\u001b[0m \u001b[0mint\u001b[0m\u001b[0;34m:\u001b[0m\u001b[0;34m\u001b[0m\u001b[0;34m\u001b[0m\u001b[0m\n\u001b[0;32m----> 6\u001b[0;31m   \u001b[0;32mraise\u001b[0m \u001b[0mTypeError\u001b[0m\u001b[0;34m(\u001b[0m\u001b[0;34m\"Only integers are allowed!\"\u001b[0m\u001b[0;34m)\u001b[0m\u001b[0;34m\u001b[0m\u001b[0;34m\u001b[0m\u001b[0m\n\u001b[0m",
            "\u001b[0;31mTypeError\u001b[0m: Only integers are allowed!"
          ]
        }
      ]
    },
    {
      "cell_type": "markdown",
      "metadata": {
        "id": "COrmolHsubxb"
      },
      "source": [
        "#### Excercise : 5\n",
        "## Write a program that takes in the users name, and if the user provides a numerical datatype, raise an exception asking the user to Type in your name properly !"
      ]
    },
    {
      "cell_type": "markdown",
      "metadata": {
        "id": "kYGo5fhHuryY"
      },
      "source": [
        "###Functions\n",
        "### functions are reusable pieces of code\n",
        "### they only run when called\n",
        "### they may take input arguments\n",
        "## they may return processed values\n",
        "\n",
        "### def keyword is used at the begeinning of a function to start defining a function\n",
        "\n",
        "##return keyword is used to send some value back after processing\n"
      ]
    },
    {
      "cell_type": "code",
      "metadata": {
        "colab": {
          "base_uri": "https://localhost:8080/"
        },
        "id": "RMD0vzFjvCUM",
        "outputId": "353bf753-4252-4d9d-92a0-11e6f644b091"
      },
      "source": [
        "# define a function to test for even numbers \n",
        "  # takes one integer number as an argument\n",
        "  # and returns true if even and false if not \n",
        "\n",
        "def is_even(num):\n",
        "  return num % 2 == 0\n",
        "\n",
        "# test evenness of 55 by calling the function is_even()\n",
        "print(is_even(55)) # call function and print output\n",
        "\n",
        "# test evenness of 100 by calling the function is_even()\n",
        "print(is_even(100)) # call function and print output"
      ],
      "execution_count": 282,
      "outputs": [
        {
          "output_type": "stream",
          "text": [
            "False\n",
            "True\n"
          ],
          "name": "stdout"
        }
      ]
    },
    {
      "cell_type": "code",
      "metadata": {
        "colab": {
          "base_uri": "https://localhost:8080/"
        },
        "id": "y2VX4DcBvVhQ",
        "outputId": "23d8b594-283d-4a45-c29e-6f811548027a"
      },
      "source": [
        "# define function to calculate area of a circle\n",
        "# input argument is radius \n",
        "\n",
        "def area_circle(radius):\n",
        "  ''' # start doc string \n",
        "  input: radius of circle \n",
        "  return value: computed value of area\n",
        "  '''\n",
        "  area = (22.0/7.0)*radius**2\n",
        "  return area\n",
        "\n",
        "print(area_circle(5))"
      ],
      "execution_count": 283,
      "outputs": [
        {
          "output_type": "stream",
          "text": [
            "78.57142857142857\n"
          ],
          "name": "stdout"
        }
      ]
    },
    {
      "cell_type": "markdown",
      "metadata": {
        "id": "0zXOnTc1vZAH"
      },
      "source": [
        "## Let's make a useful function\n",
        "## Excercise : 6\n",
        "## Create a function that calculates the simple interest of a property purchase !\n",
        "\n",
        "## Extra pointer : If simple interest was easy , make a compound interest calculator as well !\n",
        "\n",
        "## Scope\n",
        "## a variable is only available from inside the region it is created\n",
        "## this is called scope\n",
        "## Local Scope\n",
        "## a variable created inside a function belongs to the local scope of that function\n",
        "## and can only be used inside that function"
      ]
    },
    {
      "cell_type": "code",
      "metadata": {
        "colab": {
          "base_uri": "https://localhost:8080/",
          "height": 221
        },
        "id": "6vl6JCQ1vw4V",
        "outputId": "20ec704d-cf2d-4d5b-a7d8-78df3efc6682"
      },
      "source": [
        "def myfunc():\n",
        "  inside_variable = 300 # inside_variable is available only inside myfunc() and not accessible outside\n",
        "  print(inside_variable)\n",
        "\n",
        "myfunc() # call the function myfunc()\n",
        "print(inside_variable) # throws error"
      ],
      "execution_count": 284,
      "outputs": [
        {
          "output_type": "stream",
          "text": [
            "300\n"
          ],
          "name": "stdout"
        },
        {
          "output_type": "error",
          "ename": "NameError",
          "evalue": "ignored",
          "traceback": [
            "\u001b[0;31m---------------------------------------------------------------------------\u001b[0m",
            "\u001b[0;31mNameError\u001b[0m                                 Traceback (most recent call last)",
            "\u001b[0;32m<ipython-input-284-bd9a361035ec>\u001b[0m in \u001b[0;36m<module>\u001b[0;34m()\u001b[0m\n\u001b[1;32m      4\u001b[0m \u001b[0;34m\u001b[0m\u001b[0m\n\u001b[1;32m      5\u001b[0m \u001b[0mmyfunc\u001b[0m\u001b[0;34m(\u001b[0m\u001b[0;34m)\u001b[0m \u001b[0;31m# call the function myfunc()\u001b[0m\u001b[0;34m\u001b[0m\u001b[0;34m\u001b[0m\u001b[0m\n\u001b[0;32m----> 6\u001b[0;31m \u001b[0mprint\u001b[0m\u001b[0;34m(\u001b[0m\u001b[0minside_variable\u001b[0m\u001b[0;34m)\u001b[0m \u001b[0;31m# throws error\u001b[0m\u001b[0;34m\u001b[0m\u001b[0;34m\u001b[0m\u001b[0m\n\u001b[0m",
            "\u001b[0;31mNameError\u001b[0m: name 'inside_variable' is not defined"
          ]
        }
      ]
    },
    {
      "cell_type": "code",
      "metadata": {
        "colab": {
          "base_uri": "https://localhost:8080/",
          "height": 221
        },
        "id": "2o4sZaolv5dL",
        "outputId": "0b5fc545-fc6e-47d2-9983-b90a0ea20cbb"
      },
      "source": [
        "def myfunc():\n",
        "\n",
        "  inside_variable = 300\n",
        "\n",
        "  def myinnerfunc(): # this is the inner function\n",
        "    print(inside_variable) # this line accesses the inside_variable value\n",
        "\n",
        "  myinnerfunc() # call the function myinnerfunc()\n",
        "\n",
        "myfunc() # call the function myfunc()\n",
        "\n",
        "print(inside_variable) # but this still throws error"
      ],
      "execution_count": 285,
      "outputs": [
        {
          "output_type": "stream",
          "text": [
            "300\n"
          ],
          "name": "stdout"
        },
        {
          "output_type": "error",
          "ename": "NameError",
          "evalue": "ignored",
          "traceback": [
            "\u001b[0;31m---------------------------------------------------------------------------\u001b[0m",
            "\u001b[0;31mNameError\u001b[0m                                 Traceback (most recent call last)",
            "\u001b[0;32m<ipython-input-285-227c8963d15e>\u001b[0m in \u001b[0;36m<module>\u001b[0;34m()\u001b[0m\n\u001b[1;32m     10\u001b[0m \u001b[0mmyfunc\u001b[0m\u001b[0;34m(\u001b[0m\u001b[0;34m)\u001b[0m \u001b[0;31m# call the function myfunc()\u001b[0m\u001b[0;34m\u001b[0m\u001b[0;34m\u001b[0m\u001b[0m\n\u001b[1;32m     11\u001b[0m \u001b[0;34m\u001b[0m\u001b[0m\n\u001b[0;32m---> 12\u001b[0;31m \u001b[0mprint\u001b[0m\u001b[0;34m(\u001b[0m\u001b[0minside_variable\u001b[0m\u001b[0;34m)\u001b[0m \u001b[0;31m# but this still throws error\u001b[0m\u001b[0;34m\u001b[0m\u001b[0;34m\u001b[0m\u001b[0m\n\u001b[0m",
            "\u001b[0;31mNameError\u001b[0m: name 'inside_variable' is not defined"
          ]
        }
      ]
    },
    {
      "cell_type": "markdown",
      "metadata": {
        "id": "CNHRo0-Ev-wY"
      },
      "source": [
        "### Global Scope\n",
        "### a variable created in the main body of the Python code is a global variable and belongs to the global scope.\n",
        "\n",
        "### global variables are available from within any scope, global and local"
      ]
    },
    {
      "cell_type": "code",
      "metadata": {
        "colab": {
          "base_uri": "https://localhost:8080/"
        },
        "id": "3jiqZlxBwCz-",
        "outputId": "dfb51974-49a9-4f6a-ef4e-9e389487883e"
      },
      "source": [
        "outer_variable = 300\n",
        "\n",
        "def myfunc():\n",
        "  print(outer_variable)\n",
        "\n",
        "myfunc()\n",
        "\n",
        "print(outer_variable)"
      ],
      "execution_count": 286,
      "outputs": [
        {
          "output_type": "stream",
          "text": [
            "300\n",
            "300\n"
          ],
          "name": "stdout"
        }
      ]
    },
    {
      "cell_type": "code",
      "metadata": {
        "id": "ACNq7yaZwNC2"
      },
      "source": [
        "## \"global\" keyword\n",
        "## if you need to create a global variable, but are stuck in the local scope, you can use the global keyword.\n",
        "\n",
        "## the global keyword makes the variable global."
      ],
      "execution_count": null,
      "outputs": []
    },
    {
      "cell_type": "code",
      "metadata": {
        "colab": {
          "base_uri": "https://localhost:8080/"
        },
        "id": "b2kXMEauwRvS",
        "outputId": "5f352cfb-246a-4a71-b916-aedcae432879"
      },
      "source": [
        "def myfunc():\n",
        "  global global_variable\n",
        "  global_variable = 300\n",
        "  print(global_variable)\n",
        "\n",
        "myfunc()\n",
        "\n",
        "print(global_variable)"
      ],
      "execution_count": 287,
      "outputs": [
        {
          "output_type": "stream",
          "text": [
            "300\n",
            "300\n"
          ],
          "name": "stdout"
        }
      ]
    },
    {
      "cell_type": "markdown",
      "metadata": {
        "id": "ERlDH0hxwoRq"
      },
      "source": [
        "### Lambda\n",
        "## is a small anonymous function\n",
        "## can take any number of arguments, but can only have one expression\n",
        "\n",
        "## syntax: lambda arguments : expression"
      ]
    },
    {
      "cell_type": "code",
      "metadata": {
        "colab": {
          "base_uri": "https://localhost:8080/"
        },
        "id": "rQtk8uGCwxvf",
        "outputId": "9ea5e21a-9dea-4eb0-f26c-c2db8b110727"
      },
      "source": [
        "# lambda function example #1:\n",
        "\n",
        "plus_ten = lambda x : x + 10\n",
        "print(plus_ten(5))"
      ],
      "execution_count": 288,
      "outputs": [
        {
          "output_type": "stream",
          "text": [
            "15\n"
          ],
          "name": "stdout"
        }
      ]
    },
    {
      "cell_type": "code",
      "metadata": {
        "colab": {
          "base_uri": "https://localhost:8080/"
        },
        "id": "p81DEX19w6PN",
        "outputId": "bdc47c10-6383-4eb7-a8d6-8c8127f5ba92"
      },
      "source": [
        "# lambda function example #2:\n",
        "\n",
        "multiply = lambda a, b : a * b\n",
        "print(multiply(5, 6))"
      ],
      "execution_count": 289,
      "outputs": [
        {
          "output_type": "stream",
          "text": [
            "30\n"
          ],
          "name": "stdout"
        }
      ]
    },
    {
      "cell_type": "code",
      "metadata": {
        "colab": {
          "base_uri": "https://localhost:8080/"
        },
        "id": "pO0SZUWUxAlv",
        "outputId": "05d81591-cb49-46c9-febc-3b8c32a637e9"
      },
      "source": [
        "# lambda function example #3:\n",
        "\n",
        "triple_sum = lambda a, b, c : a + b + c\n",
        "print(triple_sum(5, 6, 3))\n"
      ],
      "execution_count": 290,
      "outputs": [
        {
          "output_type": "stream",
          "text": [
            "14\n"
          ],
          "name": "stdout"
        }
      ]
    }
  ]
}