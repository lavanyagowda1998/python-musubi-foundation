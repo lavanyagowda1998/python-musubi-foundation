{
  "nbformat": 4,
  "nbformat_minor": 0,
  "metadata": {
    "colab": {
      "name": "foundation1python.ipynb",
      "provenance": [],
      "collapsed_sections": [],
      "toc_visible": true,
      "authorship_tag": "ABX9TyOhUZrPpPPPAmjUAnNeyf3q",
      "include_colab_link": true
    },
    "kernelspec": {
      "name": "python3",
      "display_name": "Python 3"
    },
    "language_info": {
      "name": "python"
    }
  },
  "cells": [
    {
      "cell_type": "markdown",
      "metadata": {
        "id": "view-in-github",
        "colab_type": "text"
      },
      "source": [
        "<a href=\"https://colab.research.google.com/github/lavanyagowda1998/python-musubi-foundation/blob/main/foundation1python.ipynb\" target=\"_parent\"><img src=\"https://colab.research.google.com/assets/colab-badge.svg\" alt=\"Open In Colab\"/></a>"
      ]
    },
    {
      "cell_type": "code",
      "metadata": {
        "colab": {
          "base_uri": "https://localhost:8080/"
        },
        "id": "I2gWTuajB2io",
        "outputId": "31e35622-ed60-4fbb-b8aa-5920ef8d37ce"
      },
      "source": [
        "#print function is used to print the content inside the quotes\n",
        "#can be in 'single quotes' or \"double quotes\"\n",
        "print(\"hello world\")"
      ],
      "execution_count": null,
      "outputs": [
        {
          "output_type": "stream",
          "text": [
            "hello world\n"
          ],
          "name": "stdout"
        }
      ]
    },
    {
      "cell_type": "code",
      "metadata": {
        "colab": {
          "base_uri": "https://localhost:8080/"
        },
        "id": "OT0ggp67CQhn",
        "outputId": "6579768a-2501-412f-976f-4ea14bd01782"
      },
      "source": [
        "print('hello world')"
      ],
      "execution_count": null,
      "outputs": [
        {
          "output_type": "stream",
          "text": [
            "hello world\n"
          ],
          "name": "stdout"
        }
      ]
    },
    {
      "cell_type": "code",
      "metadata": {
        "colab": {
          "base_uri": "https://localhost:8080/"
        },
        "id": "VC15tPYLC9Sa",
        "outputId": "284cfea2-8730-4b63-cf94-60034ce4bad2"
      },
      "source": [
        "print(\" Iam new to python! \")"
      ],
      "execution_count": null,
      "outputs": [
        {
          "output_type": "stream",
          "text": [
            " Iam new to python! \n"
          ],
          "name": "stdout"
        }
      ]
    },
    {
      "cell_type": "code",
      "metadata": {
        "colab": {
          "base_uri": "https://localhost:8080/"
        },
        "id": "QobIYhRyDCi1",
        "outputId": "a463a808-b531-4d07-95b8-c5f0d9fef2ee"
      },
      "source": [
        "help(print)"
      ],
      "execution_count": null,
      "outputs": [
        {
          "output_type": "stream",
          "text": [
            "Help on built-in function print in module builtins:\n",
            "\n",
            "print(...)\n",
            "    print(value, ..., sep=' ', end='\\n', file=sys.stdout, flush=False)\n",
            "    \n",
            "    Prints the values to a stream, or to sys.stdout by default.\n",
            "    Optional keyword arguments:\n",
            "    file:  a file-like object (stream); defaults to the current sys.stdout.\n",
            "    sep:   string inserted between values, default a space.\n",
            "    end:   string appended after the last value, default a newline.\n",
            "    flush: whether to forcibly flush the stream.\n",
            "\n"
          ],
          "name": "stdout"
        }
      ]
    },
    {
      "cell_type": "code",
      "metadata": {
        "colab": {
          "base_uri": "https://localhost:8080/"
        },
        "id": "Ez-fgJgtD1TZ",
        "outputId": "095176d2-0999-4b71-8cb1-a81872e663c5"
      },
      "source": [
        "#this is a single comment\n",
        "print(\"this is not a comment\")"
      ],
      "execution_count": null,
      "outputs": [
        {
          "output_type": "stream",
          "text": [
            "this is not a comment\n"
          ],
          "name": "stdout"
        }
      ]
    },
    {
      "cell_type": "code",
      "metadata": {
        "colab": {
          "base_uri": "https://localhost:8080/"
        },
        "id": "4e5r1P3cEOLf",
        "outputId": "24b350b4-21de-4aa6-a442-087aeebf7bf4"
      },
      "source": [
        "\"\"\"\n",
        "this is a \n",
        "triple quotes for multiple \n",
        "line start with triple quotes and end with triple quotes\"\"\"\n",
        "print(\"this is not a comment either\")"
      ],
      "execution_count": null,
      "outputs": [
        {
          "output_type": "stream",
          "text": [
            "this is not a comment either\n"
          ],
          "name": "stdout"
        }
      ]
    },
    {
      "cell_type": "markdown",
      "metadata": {
        "id": "Gb1-D1D9E2Qj"
      },
      "source": [
        "**Excercise 2**"
      ]
    },
    {
      "cell_type": "code",
      "metadata": {
        "colab": {
          "base_uri": "https://localhost:8080/"
        },
        "id": "NC9wWoXHFNxf",
        "outputId": "605b3089-09a4-478b-c85f-90d02b312fe5"
      },
      "source": [
        "print(\"I am Learning python\")\n",
        "# It is possible to write within my code blocks without python"
      ],
      "execution_count": null,
      "outputs": [
        {
          "output_type": "stream",
          "text": [
            "I am Learning python\n"
          ],
          "name": "stdout"
        }
      ]
    },
    {
      "cell_type": "markdown",
      "metadata": {
        "id": "9uoPssV9FzyI"
      },
      "source": [
        "###VARIABLES "
      ]
    },
    {
      "cell_type": "code",
      "metadata": {
        "id": "LO25bl9CGET8"
      },
      "source": [
        "#bind a number 7 to variable \"x\"\n",
        "x = 7 #now x is assigned with a number 7\n"
      ],
      "execution_count": null,
      "outputs": []
    },
    {
      "cell_type": "code",
      "metadata": {
        "colab": {
          "base_uri": "https://localhost:8080/"
        },
        "id": "FmU11gMhGuCD",
        "outputId": "58910a30-e37d-4835-c3d7-f36da784fadb"
      },
      "source": [
        "print(x) #printing the value of x contains"
      ],
      "execution_count": null,
      "outputs": [
        {
          "output_type": "stream",
          "text": [
            "7\n"
          ],
          "name": "stdout"
        }
      ]
    },
    {
      "cell_type": "code",
      "metadata": {
        "colab": {
          "base_uri": "https://localhost:8080/",
          "height": 36
        },
        "id": "WMEMoNvsG2TE",
        "outputId": "5308cfa2-3404-40db-bd71-270ae14617a8"
      },
      "source": [
        "##variables names start with a lowercase letter or underscore\n",
        "##can be followed by numbers or underscore\n",
        "va923 = \"lav\"\n",
        "va923"
      ],
      "execution_count": null,
      "outputs": [
        {
          "output_type": "execute_result",
          "data": {
            "application/vnd.google.colaboratory.intrinsic+json": {
              "type": "string"
            },
            "text/plain": [
              "'lav'"
            ]
          },
          "metadata": {
            "tags": []
          },
          "execution_count": 23
        }
      ]
    },
    {
      "cell_type": "code",
      "metadata": {
        "colab": {
          "base_uri": "https://localhost:8080/",
          "height": 36
        },
        "id": "9JOESW3wImqF",
        "outputId": "74ed5402-5067-467b-d791-91f420886e2b"
      },
      "source": [
        "_app4r_ = \"Biscuit\"\n",
        "_app4r_"
      ],
      "execution_count": null,
      "outputs": [
        {
          "output_type": "execute_result",
          "data": {
            "application/vnd.google.colaboratory.intrinsic+json": {
              "type": "string"
            },
            "text/plain": [
              "'Biscuit'"
            ]
          },
          "metadata": {
            "tags": []
          },
          "execution_count": 24
        }
      ]
    },
    {
      "cell_type": "code",
      "metadata": {
        "colab": {
          "base_uri": "https://localhost:8080/",
          "height": 36
        },
        "id": "AyGoT01yIVmZ",
        "outputId": "285c2c97-9966-4390-b2c1-4c86cc6a30fe"
      },
      "source": [
        " f8_9 = \"choco\"\n",
        " f8_9"
      ],
      "execution_count": null,
      "outputs": [
        {
          "output_type": "execute_result",
          "data": {
            "application/vnd.google.colaboratory.intrinsic+json": {
              "type": "string"
            },
            "text/plain": [
              "'choco'"
            ]
          },
          "metadata": {
            "tags": []
          },
          "execution_count": 25
        }
      ]
    },
    {
      "cell_type": "code",
      "metadata": {
        "colab": {
          "base_uri": "https://localhost:8080/",
          "height": 36
        },
        "id": "bjtoNrfSJA-p",
        "outputId": "8dfbb411-c962-4dd4-b0ae-94de2b25c37d"
      },
      "source": [
        "tmp = 'ice'\n",
        "tmp"
      ],
      "execution_count": null,
      "outputs": [
        {
          "output_type": "execute_result",
          "data": {
            "application/vnd.google.colaboratory.intrinsic+json": {
              "type": "string"
            },
            "text/plain": [
              "'ice'"
            ]
          },
          "metadata": {
            "tags": []
          },
          "execution_count": 27
        }
      ]
    },
    {
      "cell_type": "code",
      "metadata": {
        "colab": {
          "base_uri": "https://localhost:8080/",
          "height": 186
        },
        "id": "3E7jdV9kJHrp",
        "outputId": "7ae51f80-972e-4d9c-fab7-70f0e867e1b1"
      },
      "source": [
        "tmp = ice\n",
        "tmp\n",
        "#string should always iclosed with double quotes "
      ],
      "execution_count": null,
      "outputs": [
        {
          "output_type": "error",
          "ename": "NameError",
          "evalue": "ignored",
          "traceback": [
            "\u001b[0;31m---------------------------------------------------------------------------\u001b[0m",
            "\u001b[0;31mNameError\u001b[0m                                 Traceback (most recent call last)",
            "\u001b[0;32m<ipython-input-28-b98d2631123f>\u001b[0m in \u001b[0;36m<module>\u001b[0;34m()\u001b[0m\n\u001b[0;32m----> 1\u001b[0;31m \u001b[0mtmp\u001b[0m \u001b[0;34m=\u001b[0m \u001b[0mice\u001b[0m\u001b[0;34m\u001b[0m\u001b[0;34m\u001b[0m\u001b[0m\n\u001b[0m\u001b[1;32m      2\u001b[0m \u001b[0mtmp\u001b[0m\u001b[0;34m\u001b[0m\u001b[0;34m\u001b[0m\u001b[0m\n",
            "\u001b[0;31mNameError\u001b[0m: name 'ice' is not defined"
          ]
        }
      ]
    },
    {
      "cell_type": "code",
      "metadata": {
        "colab": {
          "base_uri": "https://localhost:8080/",
          "height": 36
        },
        "id": "q35QWgH9JSax",
        "outputId": "6f1a8282-8181-4e93-a3df-28cbeda38294"
      },
      "source": [
        "chalk = \"powder\"\n",
        "chalk"
      ],
      "execution_count": null,
      "outputs": [
        {
          "output_type": "execute_result",
          "data": {
            "application/vnd.google.colaboratory.intrinsic+json": {
              "type": "string"
            },
            "text/plain": [
              "'powder'"
            ]
          },
          "metadata": {
            "tags": []
          },
          "execution_count": 29
        }
      ]
    },
    {
      "cell_type": "code",
      "metadata": {
        "id": "RfcU0YxUJudz"
      },
      "source": [
        "###9va23, #app#4r_, f8-9, tm*p; are NOT allowed because it start with number,# symbol,- symbol,tm*p * symbol"
      ],
      "execution_count": null,
      "outputs": []
    },
    {
      "cell_type": "code",
      "metadata": {
        "colab": {
          "base_uri": "https://localhost:8080/",
          "height": 132
        },
        "id": "Ii9gAVG0KPBX",
        "outputId": "c07a0679-b6e2-4c3d-941f-c044d85faa97"
      },
      "source": [
        "f8-9 = 'king'\n",
        "f8-9"
      ],
      "execution_count": null,
      "outputs": [
        {
          "output_type": "error",
          "ename": "SyntaxError",
          "evalue": "ignored",
          "traceback": [
            "\u001b[0;36m  File \u001b[0;32m\"<ipython-input-30-d3ce6df272ca>\"\u001b[0;36m, line \u001b[0;32m1\u001b[0m\n\u001b[0;31m    f8-9 = 'king'\u001b[0m\n\u001b[0m                 ^\u001b[0m\n\u001b[0;31mSyntaxError\u001b[0m\u001b[0;31m:\u001b[0m can't assign to operator\n"
          ]
        }
      ]
    },
    {
      "cell_type": "code",
      "metadata": {
        "colab": {
          "base_uri": "https://localhost:8080/",
          "height": 36
        },
        "id": "76ZOyLBGKZqM",
        "outputId": "4e41f7ef-0c6c-49c5-fca1-89cbf3b6e586"
      },
      "source": [
        "f8_9= 'king'\n",
        "f8_9"
      ],
      "execution_count": null,
      "outputs": [
        {
          "output_type": "execute_result",
          "data": {
            "application/vnd.google.colaboratory.intrinsic+json": {
              "type": "string"
            },
            "text/plain": [
              "'king'"
            ]
          },
          "metadata": {
            "tags": []
          },
          "execution_count": 31
        }
      ]
    },
    {
      "cell_type": "markdown",
      "metadata": {
        "id": "3zHvCaLwLTYn"
      },
      "source": [
        "###Let's try making a variable that contains your name then print it !\n",
        "Excercise : 3\n",
        "Create a variable as called age and add your age to it\n",
        "\n",
        "Next print out your age in your notebook !"
      ]
    },
    {
      "cell_type": "code",
      "metadata": {
        "colab": {
          "base_uri": "https://localhost:8080/"
        },
        "id": "acjIOX_3KybZ",
        "outputId": "ded289c6-e639-4304-9611-ac5d7a0c91c1"
      },
      "source": [
        "age = 23\n",
        "age "
      ],
      "execution_count": null,
      "outputs": [
        {
          "output_type": "execute_result",
          "data": {
            "text/plain": [
              "23"
            ]
          },
          "metadata": {
            "tags": []
          },
          "execution_count": 32
        }
      ]
    },
    {
      "cell_type": "code",
      "metadata": {
        "colab": {
          "base_uri": "https://localhost:8080/"
        },
        "id": "w-MjPY_aK30J",
        "outputId": "e13e0094-3b23-4197-be7f-81ca8c22df7e"
      },
      "source": [
        "print(age) # here no need of double or single quotes because we are not printing statement we are printing the variable"
      ],
      "execution_count": null,
      "outputs": [
        {
          "output_type": "stream",
          "text": [
            "23\n"
          ],
          "name": "stdout"
        }
      ]
    },
    {
      "cell_type": "markdown",
      "metadata": {
        "id": "wRPzhf_jK36V"
      },
      "source": [
        "#Simple Program\n",
        "input: uses the input command\n",
        "output: used the print command"
      ]
    },
    {
      "cell_type": "code",
      "metadata": {
        "colab": {
          "base_uri": "https://localhost:8080/"
        },
        "id": "pOFRXpkeLdr5",
        "outputId": "814102e5-627d-45bc-db22-c13edff062c5"
      },
      "source": [
        "name = input(\"what is your  name?\")\n",
        "print(\"welcome to python world,\",name)"
      ],
      "execution_count": null,
      "outputs": [
        {
          "output_type": "stream",
          "text": [
            "what is your  name?lavanya\n",
            "welcome to python world, lavanya\n"
          ],
          "name": "stdout"
        }
      ]
    },
    {
      "cell_type": "markdown",
      "metadata": {
        "id": "xVtTcz1xMILl"
      },
      "source": [
        "#Let's create input function that not only takes the name of the user but also their age and then let's print it\n",
        "Excercise : 4\n",
        "Create two inputs with one taking the name and the other taking the age\n",
        "\n",
        "And then print out Hey <name> I am glad you started learning python at the age of <age>"
      ]
    },
    {
      "cell_type": "code",
      "metadata": {
        "colab": {
          "base_uri": "https://localhost:8080/"
        },
        "id": "A72CaKfyMN8J",
        "outputId": "6935d97c-fd9f-424f-a76a-eac5f08d4177"
      },
      "source": [
        "name = input(\"what is your name?\")\n",
        "age = input(\"what is your age?\")\n",
        "print(\"hey,\",name,\"glad you started learning python at the age of\",age)"
      ],
      "execution_count": null,
      "outputs": [
        {
          "output_type": "stream",
          "text": [
            "what is your name?punya\n",
            "what is your age?18\n",
            "hey, punya glad you started learning python at the age of 18\n"
          ],
          "name": "stdout"
        }
      ]
    },
    {
      "cell_type": "markdown",
      "metadata": {
        "id": "375EmEBtMMkW"
      },
      "source": [
        "###Data Types\n",
        "a particular kind of data entity, defined by the values it can take\n",
        "\n",
        "Python has several built-in data types, some of them are:\n",
        "\n",
        "numeric data types\n",
        "text sequence data type\n",
        "sequence data types\n",
        "mapping data type\n",
        "boolean data type\n",
        "set data type\n",
        "the type() function is used to check the data type of something in Python\n",
        "\n",
        "Numeric Data Types\n",
        "two basic numeric data types\n",
        "int: integers\n",
        "float: decimal numbers"
      ]
    },
    {
      "cell_type": "code",
      "metadata": {
        "colab": {
          "base_uri": "https://localhost:8080/"
        },
        "id": "lbqbb52_NGnS",
        "outputId": "4ff963a1-1338-4146-e9e2-715e122abc30"
      },
      "source": [
        "x = 7 # 7 is an integer \n",
        "type(x)"
      ],
      "execution_count": null,
      "outputs": [
        {
          "output_type": "execute_result",
          "data": {
            "text/plain": [
              "int"
            ]
          },
          "metadata": {
            "tags": []
          },
          "execution_count": 37
        }
      ]
    },
    {
      "cell_type": "code",
      "metadata": {
        "colab": {
          "base_uri": "https://localhost:8080/"
        },
        "id": "w2wbJA05OXyY",
        "outputId": "192c793b-fae4-4e0b-d69b-1342318c7818"
      },
      "source": [
        "y = 7.5\n",
        "type(y)"
      ],
      "execution_count": null,
      "outputs": [
        {
          "output_type": "execute_result",
          "data": {
            "text/plain": [
              "float"
            ]
          },
          "metadata": {
            "tags": []
          },
          "execution_count": 38
        }
      ]
    },
    {
      "cell_type": "markdown",
      "metadata": {
        "id": "Y2zDwfiaOc5I"
      },
      "source": [
        "#Text Sequence Types\n",
        "#strings are a text sequence type\n",
        "#they are a sequence of characters\n",
        "#they are immutable (unable to be changed.)\n",
        "#they are ordered"
      ]
    },
    {
      "cell_type": "code",
      "metadata": {
        "colab": {
          "base_uri": "https://localhost:8080/"
        },
        "id": "dAHCWGbdOpg6",
        "outputId": "0c0a65fb-7647-4833-dbb2-ba2ad0765368"
      },
      "source": [
        "# define a string \n",
        "python_string = 'TECH I.S. is awesome!'\n",
        "\n",
        "# check type \n",
        "type(python_string)"
      ],
      "execution_count": null,
      "outputs": [
        {
          "output_type": "execute_result",
          "data": {
            "text/plain": [
              "str"
            ]
          },
          "metadata": {
            "tags": []
          },
          "execution_count": 39
        }
      ]
    },
    {
      "cell_type": "markdown",
      "metadata": {
        "id": "t_6jFQbSO_L1"
      },
      "source": [
        "#Now that we know how to find out the datatype of variables\n",
        "#Excercise : 5\n",
        "#What is the datatype of these three variables :\n",
        "\n",
        "#discount = 43.8\n",
        "#height = 143\n",
        "#address = '#301, Pelican Street'"
      ]
    },
    {
      "cell_type": "code",
      "metadata": {
        "colab": {
          "base_uri": "https://localhost:8080/"
        },
        "id": "OXr2iCnQPNR-",
        "outputId": "3d9f13ce-f95a-451c-bd2e-c573f2b03baa"
      },
      "source": [
        "discount = 43.8\n",
        "type(discount)"
      ],
      "execution_count": null,
      "outputs": [
        {
          "output_type": "execute_result",
          "data": {
            "text/plain": [
              "float"
            ]
          },
          "metadata": {
            "tags": []
          },
          "execution_count": 40
        }
      ]
    },
    {
      "cell_type": "code",
      "metadata": {
        "colab": {
          "base_uri": "https://localhost:8080/"
        },
        "id": "RleYJXTzPVuU",
        "outputId": "bc4d6894-c055-48b7-d441-322b8ce27332"
      },
      "source": [
        "height = 143\n",
        "type(height)"
      ],
      "execution_count": null,
      "outputs": [
        {
          "output_type": "execute_result",
          "data": {
            "text/plain": [
              "int"
            ]
          },
          "metadata": {
            "tags": []
          },
          "execution_count": 41
        }
      ]
    },
    {
      "cell_type": "code",
      "metadata": {
        "colab": {
          "base_uri": "https://localhost:8080/"
        },
        "id": "fbNocnEePdXy",
        "outputId": "ac6d2dde-c4d6-4640-d38e-8b2470ebc9d2"
      },
      "source": [
        "address = \"#301.pelican street\"\n",
        "type(address)"
      ],
      "execution_count": null,
      "outputs": [
        {
          "output_type": "execute_result",
          "data": {
            "text/plain": [
              "str"
            ]
          },
          "metadata": {
            "tags": []
          },
          "execution_count": 42
        }
      ]
    },
    {
      "cell_type": "markdown",
      "metadata": {
        "id": "7XvhwhAdPpr-"
      },
      "source": [
        "##Sequence Types\n",
        "#there are three kinds of sequence types:\n",
        "#list: mutable sequence\n",
        "#tuple: immutable sequence (unable to be changed)\n",
        "#range: immutable sequence (unable to be changed)\n",
        "### List"
      ]
    },
    {
      "cell_type": "markdown",
      "metadata": {
        "id": "9FDSXXGVTBsM"
      },
      "source": [
        "### LISTS\n",
        "ordered group of comma seperated values in square brackets\to\n",
        "square brackets are mandatory\t\n",
        "mutable\t\n",
        "once created, content changes can be made\t\n",
        "should be chosen if content is not fixed, and keeps changing\t\n",
        "cannot be used as keys for dictionaries\t\n",
        "are not hashable and immutable\n"
      ]
    },
    {
      "cell_type": "code",
      "metadata": {
        "colab": {
          "base_uri": "https://localhost:8080/"
        },
        "id": "epM1mfaTQEy8",
        "outputId": "ef2dde12-ab07-4463-d1dd-a1f2c9121b7a"
      },
      "source": [
        "example_for_list = [3,\"apple\",92,10,\"mango\"]\n",
        "example_for_list"
      ],
      "execution_count": null,
      "outputs": [
        {
          "output_type": "execute_result",
          "data": {
            "text/plain": [
              "[3, 'apple', 92, 10, 'mango']"
            ]
          },
          "metadata": {
            "tags": []
          },
          "execution_count": 45
        }
      ]
    },
    {
      "cell_type": "code",
      "metadata": {
        "colab": {
          "base_uri": "https://localhost:8080/"
        },
        "id": "QbfTOGodQaEd",
        "outputId": "3c69e6b3-7d02-4e9f-f518-07b436257b8e"
      },
      "source": [
        "print(example_for_list)"
      ],
      "execution_count": null,
      "outputs": [
        {
          "output_type": "stream",
          "text": [
            "[3, 'apple', 92, 10, 'mango']\n"
          ],
          "name": "stdout"
        }
      ]
    },
    {
      "cell_type": "code",
      "metadata": {
        "colab": {
          "base_uri": "https://localhost:8080/"
        },
        "id": "wKWwM3RtQfZm",
        "outputId": "71f02d1d-bbff-404d-9ba8-11bdbcb28720"
      },
      "source": [
        "print(len(example_for_list))"
      ],
      "execution_count": null,
      "outputs": [
        {
          "output_type": "stream",
          "text": [
            "5\n"
          ],
          "name": "stdout"
        }
      ]
    },
    {
      "cell_type": "code",
      "metadata": {
        "colab": {
          "base_uri": "https://localhost:8080/"
        },
        "id": "2cp1i6DaQqR5",
        "outputId": "a27b2c77-dd8a-4b34-fb18-347a4b7a727e"
      },
      "source": [
        "print(type(example_for_list))"
      ],
      "execution_count": null,
      "outputs": [
        {
          "output_type": "stream",
          "text": [
            "<class 'list'>\n"
          ],
          "name": "stdout"
        }
      ]
    },
    {
      "cell_type": "code",
      "metadata": {
        "colab": {
          "base_uri": "https://localhost:8080/"
        },
        "id": "llfyhDfPQ1MB",
        "outputId": "081e6728-6f8f-430f-fe83-f3039bf125b7"
      },
      "source": [
        "type(example_for_list)"
      ],
      "execution_count": null,
      "outputs": [
        {
          "output_type": "execute_result",
          "data": {
            "text/plain": [
              "list"
            ]
          },
          "metadata": {
            "tags": []
          },
          "execution_count": 49
        }
      ]
    },
    {
      "cell_type": "code",
      "metadata": {
        "colab": {
          "base_uri": "https://localhost:8080/"
        },
        "id": "C_CDsDEgQ8zH",
        "outputId": "568a86e9-d311-4480-a5c7-993e7f648d30"
      },
      "source": [
        "example_for_list[0]"
      ],
      "execution_count": null,
      "outputs": [
        {
          "output_type": "execute_result",
          "data": {
            "text/plain": [
              "3"
            ]
          },
          "metadata": {
            "tags": []
          },
          "execution_count": 50
        }
      ]
    },
    {
      "cell_type": "code",
      "metadata": {
        "colab": {
          "base_uri": "https://localhost:8080/",
          "height": 36
        },
        "id": "SnKyu7SFRCmW",
        "outputId": "5389e41e-37ea-4edc-8906-a01c363d7c72"
      },
      "source": [
        "example_for_list[1]"
      ],
      "execution_count": null,
      "outputs": [
        {
          "output_type": "execute_result",
          "data": {
            "application/vnd.google.colaboratory.intrinsic+json": {
              "type": "string"
            },
            "text/plain": [
              "'apple'"
            ]
          },
          "metadata": {
            "tags": []
          },
          "execution_count": 51
        }
      ]
    },
    {
      "cell_type": "code",
      "metadata": {
        "colab": {
          "base_uri": "https://localhost:8080/"
        },
        "id": "BdjVcqTPRIIX",
        "outputId": "19931324-3be9-4cee-d330-dce9722ac4b3"
      },
      "source": [
        "example_for_list[2]\n"
      ],
      "execution_count": null,
      "outputs": [
        {
          "output_type": "execute_result",
          "data": {
            "text/plain": [
              "92"
            ]
          },
          "metadata": {
            "tags": []
          },
          "execution_count": 54
        }
      ]
    },
    {
      "cell_type": "code",
      "metadata": {
        "colab": {
          "base_uri": "https://localhost:8080/"
        },
        "id": "1d5vXBDhRaZe",
        "outputId": "f54519b5-9f42-4dbf-fc6e-85434d5fd993"
      },
      "source": [
        "\n",
        "example_for_list[3]\n",
        "\n"
      ],
      "execution_count": null,
      "outputs": [
        {
          "output_type": "execute_result",
          "data": {
            "text/plain": [
              "10"
            ]
          },
          "metadata": {
            "tags": []
          },
          "execution_count": 55
        }
      ]
    },
    {
      "cell_type": "code",
      "metadata": {
        "colab": {
          "base_uri": "https://localhost:8080/",
          "height": 36
        },
        "id": "A61-opWDRgsl",
        "outputId": "9af35219-35a6-4a6e-873d-a534092af3bb"
      },
      "source": [
        "example_for_list[4]"
      ],
      "execution_count": null,
      "outputs": [
        {
          "output_type": "execute_result",
          "data": {
            "application/vnd.google.colaboratory.intrinsic+json": {
              "type": "string"
            },
            "text/plain": [
              "'mango'"
            ]
          },
          "metadata": {
            "tags": []
          },
          "execution_count": 56
        }
      ]
    },
    {
      "cell_type": "markdown",
      "metadata": {
        "id": "qbvaNEzERmzX"
      },
      "source": [
        "\n",
        "### TUPLE\n",
        "## ordered group of comma seperated values in parenthesis\n",
        "\timmutable\n",
        "\tonce created, content cannot be changed\n",
        "\tchosen if content is fixed and never changes\n",
        "\tcan be used as keys for dictionaries\n",
        "\tare hashable and immutable"
      ]
    },
    {
      "cell_type": "code",
      "metadata": {
        "colab": {
          "base_uri": "https://localhost:8080/"
        },
        "id": "wQRoBm_ASj88",
        "outputId": "56ff140d-c13b-44d3-b93f-c73340d71f8c"
      },
      "source": [
        "# define a tuple\n",
        "tuple_example = (5,'11','a',2.86)\n",
        "print(tuple_example)\n",
        "\n"
      ],
      "execution_count": null,
      "outputs": [
        {
          "output_type": "stream",
          "text": [
            "(5, '11', 'a', 2.86)\n"
          ],
          "name": "stdout"
        }
      ]
    },
    {
      "cell_type": "code",
      "metadata": {
        "colab": {
          "base_uri": "https://localhost:8080/"
        },
        "id": "fCXK7vMkSq27",
        "outputId": "fc000fc3-ecef-4ad7-c608-0f0bd89c27a3"
      },
      "source": [
        "\n",
        "\n",
        "# check length of tuple\n",
        "print(len(tuple_example))\n",
        "\n"
      ],
      "execution_count": null,
      "outputs": [
        {
          "output_type": "stream",
          "text": [
            "4\n"
          ],
          "name": "stdout"
        }
      ]
    },
    {
      "cell_type": "code",
      "metadata": {
        "colab": {
          "base_uri": "https://localhost:8080/"
        },
        "id": "mt8ux1ZkSyI-",
        "outputId": "6b054775-d533-411b-d214-f6cf0dcbfa1e"
      },
      "source": [
        "\n",
        "# check type\n",
        "type(tuple_example)"
      ],
      "execution_count": null,
      "outputs": [
        {
          "output_type": "execute_result",
          "data": {
            "text/plain": [
              "tuple"
            ]
          },
          "metadata": {
            "tags": []
          },
          "execution_count": 60
        }
      ]
    },
    {
      "cell_type": "markdown",
      "metadata": {
        "id": "hy4gOaJIS-TW"
      },
      "source": [
        "# Let's make something using lists!\n",
        "# Excercise : 6\n",
        "# Make a list of your favourite colour, food and place and save it in a list called my_favs"
      ]
    },
    {
      "cell_type": "code",
      "metadata": {
        "id": "nKoevA-PTyJ_"
      },
      "source": [
        "my_favs = [\"Blue\",\"Idli\",\"Mysore\"]"
      ],
      "execution_count": null,
      "outputs": []
    },
    {
      "cell_type": "code",
      "metadata": {
        "colab": {
          "base_uri": "https://localhost:8080/"
        },
        "id": "puyaCDrPUCH8",
        "outputId": "c07e324e-5256-467e-b3ef-b7e5894555e7"
      },
      "source": [
        "my_favs"
      ],
      "execution_count": null,
      "outputs": [
        {
          "output_type": "execute_result",
          "data": {
            "text/plain": [
              "['Blue', 'Idli', 'Mysore']"
            ]
          },
          "metadata": {
            "tags": []
          },
          "execution_count": 62
        }
      ]
    },
    {
      "cell_type": "markdown",
      "metadata": {
        "id": "Ktar7LqjUE9f"
      },
      "source": [
        "### Range"
      ]
    },
    {
      "cell_type": "code",
      "metadata": {
        "id": "nXcv3j5OUnYF"
      },
      "source": [
        "range_example = range(7)"
      ],
      "execution_count": null,
      "outputs": []
    },
    {
      "cell_type": "code",
      "metadata": {
        "colab": {
          "base_uri": "https://localhost:8080/"
        },
        "id": "1huGZSdgUzoQ",
        "outputId": "00d0b22a-3815-4358-af79-4eb0a467d7cd"
      },
      "source": [
        "range_example"
      ],
      "execution_count": null,
      "outputs": [
        {
          "output_type": "execute_result",
          "data": {
            "text/plain": [
              "range(0, 7)"
            ]
          },
          "metadata": {
            "tags": []
          },
          "execution_count": 64
        }
      ]
    },
    {
      "cell_type": "code",
      "metadata": {
        "colab": {
          "base_uri": "https://localhost:8080/"
        },
        "id": "St_CI8tWU8Xa",
        "outputId": "51459f00-aa5e-4332-8c42-7bf53350b930"
      },
      "source": [
        "print(len(range_example))"
      ],
      "execution_count": null,
      "outputs": [
        {
          "output_type": "stream",
          "text": [
            "7\n"
          ],
          "name": "stdout"
        }
      ]
    },
    {
      "cell_type": "code",
      "metadata": {
        "colab": {
          "base_uri": "https://localhost:8080/"
        },
        "id": "Uc23IFUdVDi6",
        "outputId": "6e83caab-4760-47dd-fc9c-69b511615b3b"
      },
      "source": [
        "type(range_example)"
      ],
      "execution_count": null,
      "outputs": [
        {
          "output_type": "execute_result",
          "data": {
            "text/plain": [
              "range"
            ]
          },
          "metadata": {
            "tags": []
          },
          "execution_count": 66
        }
      ]
    },
    {
      "cell_type": "code",
      "metadata": {
        "colab": {
          "base_uri": "https://localhost:8080/"
        },
        "id": "4c6GT6rIVTLe",
        "outputId": "cd9023cc-cb0c-4af3-d99b-45e3033d6106"
      },
      "source": [
        "# define range with (start,stop,step)\n",
        "range_example = range(0,20,2)\n",
        "print(range_example)\n"
      ],
      "execution_count": null,
      "outputs": [
        {
          "output_type": "stream",
          "text": [
            "range(0, 20, 2)\n"
          ],
          "name": "stdout"
        }
      ]
    },
    {
      "cell_type": "code",
      "metadata": {
        "colab": {
          "base_uri": "https://localhost:8080/"
        },
        "id": "MhPpQ1ayVVPP",
        "outputId": "2944559c-9072-47b8-ed33-76e10b4b450d"
      },
      "source": [
        "print(len(range_example))"
      ],
      "execution_count": null,
      "outputs": [
        {
          "output_type": "stream",
          "text": [
            "10\n"
          ],
          "name": "stdout"
        }
      ]
    },
    {
      "cell_type": "code",
      "metadata": {
        "colab": {
          "base_uri": "https://localhost:8080/"
        },
        "id": "jpywBGI1Va3N",
        "outputId": "08b4be8d-ff18-4dc6-fec6-9914739a9f0a"
      },
      "source": [
        "type(range_example)"
      ],
      "execution_count": null,
      "outputs": [
        {
          "output_type": "execute_result",
          "data": {
            "text/plain": [
              "range"
            ]
          },
          "metadata": {
            "tags": []
          },
          "execution_count": 69
        }
      ]
    },
    {
      "cell_type": "markdown",
      "metadata": {
        "id": "1LPZ7-ZGVoVp"
      },
      "source": [
        "##Let's get a bit crafty with the range function\n",
        "Excercise : 7\n",
        "Using the range function from 4 to 40 and then check the length"
      ]
    },
    {
      "cell_type": "code",
      "metadata": {
        "id": "YkYnWEU4VySF"
      },
      "source": [
        "r = range(4,40)"
      ],
      "execution_count": null,
      "outputs": []
    },
    {
      "cell_type": "code",
      "metadata": {
        "colab": {
          "base_uri": "https://localhost:8080/"
        },
        "id": "_Pn1opAHV8rE",
        "outputId": "75d88cd9-68b6-4274-adc4-bf7cb4744e5a"
      },
      "source": [
        "print(len(r))"
      ],
      "execution_count": null,
      "outputs": [
        {
          "output_type": "stream",
          "text": [
            "36\n"
          ],
          "name": "stdout"
        }
      ]
    },
    {
      "cell_type": "markdown",
      "metadata": {
        "id": "8j0HyA1zWAp2"
      },
      "source": [
        "##Mapping Types\n",
        "#dictionary is a mapping data type\n",
        "#it is mutable\n",
        "#unordered"
      ]
    },
    {
      "cell_type": "code",
      "metadata": {
        "colab": {
          "base_uri": "https://localhost:8080/"
        },
        "id": "XXtNTLP1WOSe",
        "outputId": "af2caba0-4393-4ec9-fc61-cd18761835c0"
      },
      "source": [
        "# define a dictionary\n",
        "b = {'one': 1, 'two': 2, 'three': 3} ##key = value\n",
        "print(b)\n",
        "\n"
      ],
      "execution_count": null,
      "outputs": [
        {
          "output_type": "stream",
          "text": [
            "{'one': 1, 'two': 2, 'three': 3}\n"
          ],
          "name": "stdout"
        }
      ]
    },
    {
      "cell_type": "code",
      "metadata": {
        "colab": {
          "base_uri": "https://localhost:8080/"
        },
        "id": "fbx6Uc2BWcWo",
        "outputId": "230f1cf7-4cc3-47ed-d50d-b54e6b9fdaac"
      },
      "source": [
        "# check type\n",
        "type(b)"
      ],
      "execution_count": null,
      "outputs": [
        {
          "output_type": "execute_result",
          "data": {
            "text/plain": [
              "dict"
            ]
          },
          "metadata": {
            "tags": []
          },
          "execution_count": 74
        }
      ]
    },
    {
      "cell_type": "code",
      "metadata": {
        "colab": {
          "base_uri": "https://localhost:8080/"
        },
        "id": "3RNBBGRXWeUe",
        "outputId": "d6b66225-d7df-40fb-f9b0-6842247abcd4"
      },
      "source": [
        "b[\"one\"]"
      ],
      "execution_count": null,
      "outputs": [
        {
          "output_type": "execute_result",
          "data": {
            "text/plain": [
              "1"
            ]
          },
          "metadata": {
            "tags": []
          },
          "execution_count": 75
        }
      ]
    },
    {
      "cell_type": "markdown",
      "metadata": {
        "id": "OeynkIegXLfe"
      },
      "source": [
        "##Excercise : 8\n",
        "#Make a dictionary with students name and their scores !\n",
        "\n",
        "#Student : Jake Score : 70\n",
        "#Student : Mako Score : 75\n",
        "#Student : Alex Score : 78.5"
      ]
    },
    {
      "cell_type": "code",
      "metadata": {
        "id": "U9m0rddFXS_T"
      },
      "source": [
        ""
      ],
      "execution_count": null,
      "outputs": []
    },
    {
      "cell_type": "code",
      "metadata": {
        "colab": {
          "base_uri": "https://localhost:8080/"
        },
        "id": "uD9QJSbnWpNs",
        "outputId": "4c03664c-2543-4eb0-a777-8540791fb6d3"
      },
      "source": [
        "student = {\"Jake Score \": 70,\"Mako Score\" : 75,\"Alex Score\" : 78.5}\n",
        "student### alphabet wise recording the rank "
      ],
      "execution_count": null,
      "outputs": [
        {
          "output_type": "execute_result",
          "data": {
            "text/plain": [
              "{'Alex Score': 78.5, 'Jake Score ': 70, 'Mako Score': 75}"
            ]
          },
          "metadata": {
            "tags": []
          },
          "execution_count": 77
        }
      ]
    },
    {
      "cell_type": "markdown",
      "metadata": {
        "id": "d1RQIcksXWmz"
      },
      "source": [
        "#Boolean Types\n",
        "#state of truth\n",
        "### may be True or False"
      ]
    },
    {
      "cell_type": "code",
      "metadata": {
        "colab": {
          "base_uri": "https://localhost:8080/"
        },
        "id": "CjdXW5h8X886",
        "outputId": "bea6e2e6-ea04-4bf5-8072-dd3f4385f676"
      },
      "source": [
        "b = True\n",
        "type(b)"
      ],
      "execution_count": null,
      "outputs": [
        {
          "output_type": "execute_result",
          "data": {
            "text/plain": [
              "bool"
            ]
          },
          "metadata": {
            "tags": []
          },
          "execution_count": 80
        }
      ]
    },
    {
      "cell_type": "code",
      "metadata": {
        "colab": {
          "base_uri": "https://localhost:8080/"
        },
        "id": "RV8_j4cjYM_N",
        "outputId": "9eb67191-4c88-4173-b7cc-ef47c58ef683"
      },
      "source": [
        "f = False\n",
        "type(f)"
      ],
      "execution_count": null,
      "outputs": [
        {
          "output_type": "execute_result",
          "data": {
            "text/plain": [
              "bool"
            ]
          },
          "metadata": {
            "tags": []
          },
          "execution_count": 81
        }
      ]
    },
    {
      "cell_type": "markdown",
      "metadata": {
        "id": "Odn7SxMWYVdv"
      },
      "source": [
        "#Set Types\n",
        "## set is an unordered collection of distinct objects which  are colosed with flower braces"
      ]
    },
    {
      "cell_type": "code",
      "metadata": {
        "colab": {
          "base_uri": "https://localhost:8080/"
        },
        "id": "-2O-z4UVYi63",
        "outputId": "b3ddfda9-c287-471b-9ae7-2e5a6502de2b"
      },
      "source": [
        "set_of_numbers = {0,9,1,5,7}\n",
        "print(set_of_numbers)"
      ],
      "execution_count": null,
      "outputs": [
        {
          "output_type": "stream",
          "text": [
            "{0, 1, 5, 7, 9}\n"
          ],
          "name": "stdout"
        }
      ]
    },
    {
      "cell_type": "code",
      "metadata": {
        "id": "mBcClEEGY20q"
      },
      "source": [
        "names = ['olivia', 'caleb', 'olivia']\n",
        "names_set = set(names)"
      ],
      "execution_count": null,
      "outputs": []
    },
    {
      "cell_type": "code",
      "metadata": {
        "colab": {
          "base_uri": "https://localhost:8080/"
        },
        "id": "knYBo1xYZE_x",
        "outputId": "b69b2972-c7b6-4f5d-c1f6-1944d67804e4"
      },
      "source": [
        "names_set"
      ],
      "execution_count": null,
      "outputs": [
        {
          "output_type": "execute_result",
          "data": {
            "text/plain": [
              "{'caleb', 'olivia'}"
            ]
          },
          "metadata": {
            "tags": []
          },
          "execution_count": 84
        }
      ]
    },
    {
      "cell_type": "code",
      "metadata": {
        "colab": {
          "base_uri": "https://localhost:8080/"
        },
        "id": "HMlRX2-bZI_o",
        "outputId": "002cf4bf-0774-4a3b-a03c-a8bbce8e4d40"
      },
      "source": [
        "unique_names = list(names_set)\n",
        "print(unique_names)"
      ],
      "execution_count": null,
      "outputs": [
        {
          "output_type": "stream",
          "text": [
            "['caleb', 'olivia']\n"
          ],
          "name": "stdout"
        }
      ]
    },
    {
      "cell_type": "markdown",
      "metadata": {
        "id": "bSCam0iFZNSM"
      },
      "source": [
        "### Operators\n",
        "#popular kinds of operators\n",
        "\n",
        "numeric operators\n",
        "comparison operators\n",
        "logical operators\n",
        "assignment operators\n",
        "idenity operators\n",
        "membership operators\n",
        "bitwise operators\n",
        "some are discussed below\n",
        "\n",
        "### Numeric Operators\n",
        "#used with numeric data types to perform mathematical operations\n",
        "#+: addition\n",
        "\n",
        "#-: subtraction\n",
        "#*: multiplication\n",
        "#/: division\n",
        "#//: floor division\n",
        "#%: modulus (remainder)\n",
        "#**: raising to power\n",
        "#abs(): absolute value of number\n",
        "#round(): rounds a number\n",
        "#bin(): get binary version of a number\n",
        "#hex(): get hexadecimal version of a number"
      ]
    },
    {
      "cell_type": "code",
      "metadata": {
        "id": "ED2ejc6IZ24x"
      },
      "source": [
        "\n",
        "# set values of x, y and z for numeric operators exploration\n",
        "x = 5   # integer value\n",
        "y = 2.0 # float value\n",
        "z = -13 # negative integer\n",
        "\n",
        "#(run this cell to initialize values for the next few cells!)"
      ],
      "execution_count": null,
      "outputs": []
    },
    {
      "cell_type": "code",
      "metadata": {
        "colab": {
          "base_uri": "https://localhost:8080/"
        },
        "id": "g5HS4bElbB3B",
        "outputId": "ed9e955c-5673-466f-ef35-db32d97faaf9"
      },
      "source": [
        "# sum of x and y\n",
        "print(x + y)"
      ],
      "execution_count": null,
      "outputs": [
        {
          "output_type": "stream",
          "text": [
            "7.0\n"
          ],
          "name": "stdout"
        }
      ]
    },
    {
      "cell_type": "code",
      "metadata": {
        "colab": {
          "base_uri": "https://localhost:8080/"
        },
        "id": "OwEH7zsmbkJm",
        "outputId": "7dac4c4c-abba-44cd-adca-a128b7f009d7"
      },
      "source": [
        "# difference of x and y\n",
        "print(x - y)"
      ],
      "execution_count": null,
      "outputs": [
        {
          "output_type": "stream",
          "text": [
            "3.0\n"
          ],
          "name": "stdout"
        }
      ]
    },
    {
      "cell_type": "code",
      "metadata": {
        "colab": {
          "base_uri": "https://localhost:8080/"
        },
        "id": "5dYzceQFb7EW",
        "outputId": "93a041a4-128c-4e81-c5c0-d81554859261"
      },
      "source": [
        "# product of x and y\n",
        "print(x * y)"
      ],
      "execution_count": null,
      "outputs": [
        {
          "output_type": "stream",
          "text": [
            "10.0\n"
          ],
          "name": "stdout"
        }
      ]
    },
    {
      "cell_type": "code",
      "metadata": {
        "colab": {
          "base_uri": "https://localhost:8080/"
        },
        "id": "qWSdF-jqb_lq",
        "outputId": "1561db8a-2a93-4c87-9b40-ea9a277c5165"
      },
      "source": [
        "# quotient of x and y\n",
        "print(x / y)"
      ],
      "execution_count": null,
      "outputs": [
        {
          "output_type": "stream",
          "text": [
            "2.5\n"
          ],
          "name": "stdout"
        }
      ]
    },
    {
      "cell_type": "code",
      "metadata": {
        "colab": {
          "base_uri": "https://localhost:8080/"
        },
        "id": "4kRsugV6d_yD",
        "outputId": "5a97ee46-8479-4efc-f9bd-6cc7f4d51c27"
      },
      "source": [
        "# floored quotient of x and y\n",
        "print(x // y)"
      ],
      "execution_count": null,
      "outputs": [
        {
          "output_type": "stream",
          "text": [
            "2.0\n"
          ],
          "name": "stdout"
        }
      ]
    },
    {
      "cell_type": "code",
      "metadata": {
        "colab": {
          "base_uri": "https://localhost:8080/"
        },
        "id": "aKxukI3TeFhR",
        "outputId": "7e3e6ddd-6dff-485d-d2c1-e387274f04d0"
      },
      "source": [
        "# remainder of x / y\n",
        "print(x % y)"
      ],
      "execution_count": null,
      "outputs": [
        {
          "output_type": "stream",
          "text": [
            "1.0\n"
          ],
          "name": "stdout"
        }
      ]
    },
    {
      "cell_type": "code",
      "metadata": {
        "colab": {
          "base_uri": "https://localhost:8080/"
        },
        "id": "sDvImE9eeU0W",
        "outputId": "0aad876f-e3ef-473a-f078-5badc4fb4ebf"
      },
      "source": [
        "# absolute value \n",
        "print(abs(z))"
      ],
      "execution_count": null,
      "outputs": [
        {
          "output_type": "stream",
          "text": [
            "13\n"
          ],
          "name": "stdout"
        }
      ]
    },
    {
      "cell_type": "code",
      "metadata": {
        "colab": {
          "base_uri": "https://localhost:8080/"
        },
        "id": "biCXClWIeiaT",
        "outputId": "3fb53d95-4304-40f4-da15-7b5d5b6bb311"
      },
      "source": [
        "# x raised to power y\n",
        "print(x ** y)"
      ],
      "execution_count": null,
      "outputs": [
        {
          "output_type": "stream",
          "text": [
            "25.0\n"
          ],
          "name": "stdout"
        }
      ]
    },
    {
      "cell_type": "code",
      "metadata": {
        "colab": {
          "base_uri": "https://localhost:8080/"
        },
        "id": "-5F88arYelfh",
        "outputId": "c95c20f9-2f5c-4827-a417-7fb0e97c4c22"
      },
      "source": [
        "# rounding a decimal example - round down\n",
        "print(round(2.1))"
      ],
      "execution_count": null,
      "outputs": [
        {
          "output_type": "stream",
          "text": [
            "2\n"
          ],
          "name": "stdout"
        }
      ]
    },
    {
      "cell_type": "code",
      "metadata": {
        "colab": {
          "base_uri": "https://localhost:8080/"
        },
        "id": "YAti9WXPey6V",
        "outputId": "bd11e6fb-7e00-4ac6-ad16-089c4ee3c68f"
      },
      "source": [
        "# rounding a decimal example - round up\n",
        "print(round(3.7))"
      ],
      "execution_count": null,
      "outputs": [
        {
          "output_type": "stream",
          "text": [
            "4\n"
          ],
          "name": "stdout"
        }
      ]
    },
    {
      "cell_type": "code",
      "metadata": {
        "colab": {
          "base_uri": "https://localhost:8080/"
        },
        "id": "eF-hMZbWe56b",
        "outputId": "bdb55068-3dde-453d-955f-eb1be7e90ba8"
      },
      "source": [
        "# binary version of the number\n",
        "print(bin(37))"
      ],
      "execution_count": null,
      "outputs": [
        {
          "output_type": "stream",
          "text": [
            "0b100101\n"
          ],
          "name": "stdout"
        }
      ]
    },
    {
      "cell_type": "code",
      "metadata": {
        "colab": {
          "base_uri": "https://localhost:8080/"
        },
        "id": "e6SnNYzze7Pk",
        "outputId": "54a83293-bf4a-48ed-8aa4-78e852f6643c"
      },
      "source": [
        "# hexadecimal version of the number\n",
        "print(hex(37))"
      ],
      "execution_count": null,
      "outputs": [
        {
          "output_type": "stream",
          "text": [
            "0x25\n"
          ],
          "name": "stdout"
        }
      ]
    },
    {
      "cell_type": "markdown",
      "metadata": {
        "id": "iwdrdVYgfFkg"
      },
      "source": [
        "Operators are the lifelines of any programming language ,let's put them to good use\n",
        "Excercise : 9\n",
        "Create a variable with the value of pi as 3.14, create a new variable as radius and assign it a float value, this will be the radius of a circle and then output the area of the circle using the formula pi*radius^2\n",
        "\n",
        "Comparison Operators\n",
        "used to compare two values\n",
        "<: less than\n",
        ">: greater than\n",
        "<=: less than or equal to\n",
        ">=: greater than or equal to\n",
        "==: equality\n",
        "!=: inequality"
      ]
    },
    {
      "cell_type": "code",
      "metadata": {
        "colab": {
          "base_uri": "https://localhost:8080/"
        },
        "id": "4yjTAGASffFQ",
        "outputId": "e4ca4204-7dd2-427b-e112-f73314153be9"
      },
      "source": [
        "# Greater Than \n",
        "i = 3 \n",
        "j = 7\n",
        "\n",
        "print(i > j)"
      ],
      "execution_count": null,
      "outputs": [
        {
          "output_type": "stream",
          "text": [
            "False\n"
          ],
          "name": "stdout"
        }
      ]
    },
    {
      "cell_type": "code",
      "metadata": {
        "colab": {
          "base_uri": "https://localhost:8080/"
        },
        "id": "V_Wut1HHfoHC",
        "outputId": "9f0f4edc-c35e-46c9-a628-cd05d1010da2"
      },
      "source": [
        "# Greater Than or Equal\n",
        "i = 3 \n",
        "j = 7\n",
        "\n",
        "print(i >= j)"
      ],
      "execution_count": null,
      "outputs": [
        {
          "output_type": "stream",
          "text": [
            "False\n"
          ],
          "name": "stdout"
        }
      ]
    },
    {
      "cell_type": "code",
      "metadata": {
        "colab": {
          "base_uri": "https://localhost:8080/"
        },
        "id": "hJR8GPL5fveH",
        "outputId": "0e4c6611-3d99-487c-89f8-f50f0f7f66f4"
      },
      "source": [
        "# Less Than \n",
        "i = 3 \n",
        "j = 7\n",
        "\n",
        "print(i < j)"
      ],
      "execution_count": null,
      "outputs": [
        {
          "output_type": "stream",
          "text": [
            "True\n"
          ],
          "name": "stdout"
        }
      ]
    },
    {
      "cell_type": "code",
      "metadata": {
        "colab": {
          "base_uri": "https://localhost:8080/"
        },
        "id": "MnCgLUJrf19E",
        "outputId": "32f879de-3cd3-4a52-a90a-369920cd0533"
      },
      "source": [
        "# Less Than or Equal \n",
        "i = 3 \n",
        "j = 7\n",
        "\n",
        "print(i <= j)"
      ],
      "execution_count": null,
      "outputs": [
        {
          "output_type": "stream",
          "text": [
            "True\n"
          ],
          "name": "stdout"
        }
      ]
    },
    {
      "cell_type": "code",
      "metadata": {
        "colab": {
          "base_uri": "https://localhost:8080/"
        },
        "id": "7ZKYnqk2f7e7",
        "outputId": "f90f9f81-d29c-4958-f345-c56bbbedde41"
      },
      "source": [
        "# Equality Test #1\n",
        "i = 3\n",
        "j = 7\n",
        "\n",
        "print(i == j)"
      ],
      "execution_count": null,
      "outputs": [
        {
          "output_type": "stream",
          "text": [
            "False\n"
          ],
          "name": "stdout"
        }
      ]
    },
    {
      "cell_type": "code",
      "metadata": {
        "colab": {
          "base_uri": "https://localhost:8080/"
        },
        "id": "Vrwcy56dgCx3",
        "outputId": "2d3501c1-c03a-4be3-9f16-22bfed78c16e"
      },
      "source": [
        "# Equality Test #2\n",
        "i = 3\n",
        "j = 3\n",
        "\n",
        "print(i == j)"
      ],
      "execution_count": null,
      "outputs": [
        {
          "output_type": "stream",
          "text": [
            "True\n"
          ],
          "name": "stdout"
        }
      ]
    },
    {
      "cell_type": "code",
      "metadata": {
        "colab": {
          "base_uri": "https://localhost:8080/"
        },
        "id": "8u8ibS0EgI1R",
        "outputId": "a77fb879-58fa-483b-ccf5-7662a418210d"
      },
      "source": [
        "# Inequality Test #1\n",
        "i = 3\n",
        "j = 7\n",
        "\n",
        "print(i != j)"
      ],
      "execution_count": null,
      "outputs": [
        {
          "output_type": "stream",
          "text": [
            "True\n"
          ],
          "name": "stdout"
        }
      ]
    },
    {
      "cell_type": "code",
      "metadata": {
        "colab": {
          "base_uri": "https://localhost:8080/"
        },
        "id": "RjpjR9yugNbv",
        "outputId": "3c3a9e0a-288e-45eb-cd1e-6ad1cb5b6aa4"
      },
      "source": [
        "# Inequality Test #2\n",
        "i = 3\n",
        "j = 3\n",
        "\n",
        "print(i != j)"
      ],
      "execution_count": null,
      "outputs": [
        {
          "output_type": "stream",
          "text": [
            "False\n"
          ],
          "name": "stdout"
        }
      ]
    },
    {
      "cell_type": "markdown",
      "metadata": {
        "id": "7si3ePT7gb9X"
      },
      "source": [
        "##Let's see what comparison operator can do for us\n",
        "##Excercise : 10\n",
        "In the last excercise you created a program to get the area of a circle , create a print function that checks if the area that your program created is bigger than 50 or not\n",
        "\n",
        "Logic Operators\n",
        "used to combine conditional statements\n",
        "and\n",
        "or\n",
        "not"
      ]
    },
    {
      "cell_type": "code",
      "metadata": {
        "id": "BmfntH87gyMV"
      },
      "source": [
        "## and Operator"
      ],
      "execution_count": null,
      "outputs": []
    },
    {
      "cell_type": "code",
      "metadata": {
        "colab": {
          "base_uri": "https://localhost:8080/"
        },
        "id": "SNPrCZgSgUUK",
        "outputId": "02f72dcc-3108-4283-8fc2-657098992688"
      },
      "source": [
        "#  'not' operator \n",
        "a = True\n",
        "\n",
        "print(not a)"
      ],
      "execution_count": null,
      "outputs": [
        {
          "output_type": "stream",
          "text": [
            "False\n"
          ],
          "name": "stdout"
        }
      ]
    },
    {
      "cell_type": "code",
      "metadata": {
        "colab": {
          "base_uri": "https://localhost:8080/"
        },
        "id": "V6MtamBZha59",
        "outputId": "08075e8a-6b82-4669-cf09-eba66556aa0a"
      },
      "source": [
        "# a and b are true\n",
        "a = True \n",
        "b = True\n",
        "\n",
        "print(a and b)"
      ],
      "execution_count": null,
      "outputs": [
        {
          "output_type": "stream",
          "text": [
            "True\n"
          ],
          "name": "stdout"
        }
      ]
    },
    {
      "cell_type": "code",
      "metadata": {
        "colab": {
          "base_uri": "https://localhost:8080/"
        },
        "id": "oL4duCerhc1T",
        "outputId": "1ffee2d8-bcaf-46eb-fe2b-c85694846319"
      },
      "source": [
        "# only b is true \n",
        "a = False \n",
        "b = True\n",
        "\n",
        "print(a and b)"
      ],
      "execution_count": null,
      "outputs": [
        {
          "output_type": "stream",
          "text": [
            "False\n"
          ],
          "name": "stdout"
        }
      ]
    },
    {
      "cell_type": "code",
      "metadata": {
        "colab": {
          "base_uri": "https://localhost:8080/"
        },
        "id": "L6gOGZ9yhl16",
        "outputId": "a1913d47-943c-4038-de04-d4fdc7fe5bda"
      },
      "source": [
        "# a and b are both false\n",
        "a = False \n",
        "b = False\n",
        "\n",
        "print(a and b)"
      ],
      "execution_count": null,
      "outputs": [
        {
          "output_type": "stream",
          "text": [
            "False\n"
          ],
          "name": "stdout"
        }
      ]
    },
    {
      "cell_type": "markdown",
      "metadata": {
        "id": "tW6TU5u-hxLe"
      },
      "source": [
        "OR OPERATOR"
      ]
    },
    {
      "cell_type": "code",
      "metadata": {
        "colab": {
          "base_uri": "https://localhost:8080/"
        },
        "id": "zD_qjpsrhxcc",
        "outputId": "e5e00c0f-812e-447f-8389-df5f1176aad2"
      },
      "source": [
        "## 'or' operator \n",
        "\n",
        "# a and b are true\n",
        "a = True \n",
        "b = True\n",
        "\n",
        "print(a or b)\n"
      ],
      "execution_count": null,
      "outputs": [
        {
          "output_type": "stream",
          "text": [
            "True\n"
          ],
          "name": "stdout"
        }
      ]
    },
    {
      "cell_type": "code",
      "metadata": {
        "colab": {
          "base_uri": "https://localhost:8080/"
        },
        "id": "VhONXRHViCpO",
        "outputId": "fce79e3a-7f85-4069-a64b-06c77e41bd21"
      },
      "source": [
        "# only a is true \n",
        "a = True \n",
        "b = False\n",
        "\n",
        "print(a or b)"
      ],
      "execution_count": null,
      "outputs": [
        {
          "output_type": "stream",
          "text": [
            "True\n"
          ],
          "name": "stdout"
        }
      ]
    },
    {
      "cell_type": "code",
      "metadata": {
        "colab": {
          "base_uri": "https://localhost:8080/"
        },
        "id": "16W_MqbqiFIR",
        "outputId": "73c70c68-5e36-4aea-94ec-c1deccc579dc"
      },
      "source": [
        "# only b is true \n",
        "a = False \n",
        "b = True\n",
        "\n",
        "print(a or b)"
      ],
      "execution_count": null,
      "outputs": [
        {
          "output_type": "stream",
          "text": [
            "True\n"
          ],
          "name": "stdout"
        }
      ]
    },
    {
      "cell_type": "code",
      "metadata": {
        "colab": {
          "base_uri": "https://localhost:8080/"
        },
        "id": "qj6Vg03diJgD",
        "outputId": "22023e63-f7eb-4fe7-e6c6-540222245e2b"
      },
      "source": [
        "# a and b are both false\n",
        "a = False \n",
        "b = False\n",
        "\n",
        "print(a or b)"
      ],
      "execution_count": null,
      "outputs": [
        {
          "output_type": "stream",
          "text": [
            "False\n"
          ],
          "name": "stdout"
        }
      ]
    },
    {
      "cell_type": "markdown",
      "metadata": {
        "id": "UmVog-CtiQ2y"
      },
      "source": [
        "To be OR not to be ? Let's explore what we can get done using logical operators\n",
        "Excercise : 11\n",
        "Create a print function for our circle area generator to check if the area is between 20 AND 50"
      ]
    },
    {
      "cell_type": "code",
      "metadata": {
        "id": "uP7Urd0iiYnf"
      },
      "source": [
        ""
      ],
      "execution_count": null,
      "outputs": []
    },
    {
      "cell_type": "markdown",
      "metadata": {
        "id": "bwEnzwxbiY4K"
      },
      "source": [
        "Assignment Operators\n",
        "used to assign values to variables\n",
        "\n",
        "=\n",
        "following operators combine numerical operations at the same time as assignment\n",
        "\n",
        "+=\n",
        "-=\n",
        "*=\n",
        "/=\n",
        "//=\n",
        "%=\n",
        "**="
      ]
    },
    {
      "cell_type": "code",
      "metadata": {
        "colab": {
          "base_uri": "https://localhost:8080/"
        },
        "id": "eo2LzmfdihV7",
        "outputId": "fb33c936-38fc-4147-a96b-d56d02f2ff9d"
      },
      "source": [
        "# assignment operator \n",
        "\n",
        "x = 21\n",
        "print(x)"
      ],
      "execution_count": null,
      "outputs": [
        {
          "output_type": "stream",
          "text": [
            "21\n"
          ],
          "name": "stdout"
        }
      ]
    },
    {
      "cell_type": "code",
      "metadata": {
        "colab": {
          "base_uri": "https://localhost:8080/"
        },
        "id": "82InvIoVim2p",
        "outputId": "64c10cca-7dd7-4b18-a391-5d4933cda0ea"
      },
      "source": [
        "# += operator\n",
        "\n",
        "x += 3\n",
        "print(x)"
      ],
      "execution_count": null,
      "outputs": [
        {
          "output_type": "stream",
          "text": [
            "24\n"
          ],
          "name": "stdout"
        }
      ]
    },
    {
      "cell_type": "code",
      "metadata": {
        "colab": {
          "base_uri": "https://localhost:8080/"
        },
        "id": "IV11wY3iim4h",
        "outputId": "8c2e3815-7643-451e-ad74-b736e41c81ee"
      },
      "source": [
        "# -= operator\n",
        "\n",
        "x -= 3\n",
        "print(x)"
      ],
      "execution_count": null,
      "outputs": [
        {
          "output_type": "stream",
          "text": [
            "21\n"
          ],
          "name": "stdout"
        }
      ]
    },
    {
      "cell_type": "code",
      "metadata": {
        "colab": {
          "base_uri": "https://localhost:8080/"
        },
        "id": "qFYxQ_zQim8m",
        "outputId": "3a7eadc3-4835-4667-e02c-9aca3b33f3ed"
      },
      "source": [
        "# *= operator\n",
        "\n",
        "x *= 3\n",
        "print(x)"
      ],
      "execution_count": null,
      "outputs": [
        {
          "output_type": "stream",
          "text": [
            "63\n"
          ],
          "name": "stdout"
        }
      ]
    },
    {
      "cell_type": "code",
      "metadata": {
        "colab": {
          "base_uri": "https://localhost:8080/"
        },
        "id": "lKVEkqIiim-r",
        "outputId": "30ff4e44-62dc-4a91-b982-7998843e9442"
      },
      "source": [
        "# /= operator\n",
        "\n",
        "x /= 3\n",
        "print(x)"
      ],
      "execution_count": null,
      "outputs": [
        {
          "output_type": "stream",
          "text": [
            "21.0\n"
          ],
          "name": "stdout"
        }
      ]
    },
    {
      "cell_type": "code",
      "metadata": {
        "colab": {
          "base_uri": "https://localhost:8080/"
        },
        "id": "TtzHyA7CinCZ",
        "outputId": "2ec314c4-c42a-4cc2-dd0d-7130f0cd9c7f"
      },
      "source": [
        "# //= operator\n",
        "\n",
        "x //= 3\n",
        "print(x)"
      ],
      "execution_count": null,
      "outputs": [
        {
          "output_type": "stream",
          "text": [
            "7.0\n"
          ],
          "name": "stdout"
        }
      ]
    },
    {
      "cell_type": "code",
      "metadata": {
        "colab": {
          "base_uri": "https://localhost:8080/"
        },
        "id": "MzpB1b1LinEt",
        "outputId": "795adff0-e0e2-444f-b328-8e80fc856bef"
      },
      "source": [
        "# %= operator\n",
        "\n",
        "x %= 3\n",
        "print(x)"
      ],
      "execution_count": null,
      "outputs": [
        {
          "output_type": "stream",
          "text": [
            "1.0\n"
          ],
          "name": "stdout"
        }
      ]
    },
    {
      "cell_type": "markdown",
      "metadata": {
        "id": "NdUaQ3rAZnx3"
      },
      "source": [
        "### SIMPLE CALCULATOR "
      ]
    },
    {
      "cell_type": "code",
      "metadata": {
        "colab": {
          "base_uri": "https://localhost:8080/"
        },
        "id": "owwV75sbjdAh",
        "outputId": "b9b94554-d78f-43fe-ef00-ba7e7d8b9eab"
      },
      "source": [
        "\n",
        "\n",
        "\n",
        "print(\"1 Addition\")\n",
        "print(\"2 Subtraction\")\n",
        "print(\"3 Multiplication\")\n",
        "print(\"4 Division\")\n",
        "choice = input(\"Enter your choice : \")\n",
        "num1 = float(input(\"Enter first number: \"))\n",
        "num2 = float(input(\"Enter second number: \"))\n",
        "\n",
        "if choice == '1':\n",
        "   print(num1, \"+\", num2, \"=\", (num1+num2))\n",
        "\n",
        "elif choice == '2':\n",
        "      print(num1, \"-\", num2, \"=\",(num1-num2))\n",
        "\n",
        "elif choice == '3':\n",
        "      print(num1, \"*\", num2, \"=\",(num1*num2))\n",
        "\n",
        "elif choice == '4':\n",
        "     if num2 == 0.0:\n",
        "        print(\"divide by 0 is error\")\n",
        "     else:  \n",
        "        print(num1, \"/\", num2, \"=\", (num1/num2))\n",
        "\n",
        "else:\n",
        "  print(\"Invalid Input\")\n",
        "\n",
        "\n"
      ],
      "execution_count": 3,
      "outputs": [
        {
          "output_type": "stream",
          "text": [
            "1 Addition\n",
            "2 Subtraction\n",
            "3 Multiplication\n",
            "4 Division\n",
            "Enter your choice : 4\n",
            "Enter first number: 4\n",
            "Enter second number: 0\n",
            "divide by 0 is error\n"
          ],
          "name": "stdout"
        }
      ]
    },
    {
      "cell_type": "markdown",
      "metadata": {
        "id": "ppYWXJ91inIc"
      },
      "source": [
        "### PERIMETER OF THE CIRCLE"
      ]
    },
    {
      "cell_type": "code",
      "metadata": {
        "colab": {
          "base_uri": "https://localhost:8080/"
        },
        "id": "ZV4CyBUQeo6J",
        "outputId": "024e500f-ecc6-47dc-c66b-bbc263aa6acb"
      },
      "source": [
        "radius = float(input(\"enter the radius of the circle:\"))\n",
        "perimeter = 2*3.1415*radius\n",
        "print(\"perimeter of the circle is\",perimeter)"
      ],
      "execution_count": 18,
      "outputs": [
        {
          "output_type": "stream",
          "text": [
            "enter the radius of the circle:3\n",
            "perimeter of the circle is 18.849\n"
          ],
          "name": "stdout"
        }
      ]
    },
    {
      "cell_type": "code",
      "metadata": {
        "id": "QIgccedcbbx_"
      },
      "source": [
        "import math\n"
      ],
      "execution_count": 7,
      "outputs": []
    },
    {
      "cell_type": "code",
      "metadata": {
        "colab": {
          "base_uri": "https://localhost:8080/"
        },
        "id": "GMZn1Z9DcV01",
        "outputId": "46a9c5e5-b14b-4f92-c82e-0331a08afd61"
      },
      "source": [
        "radius = float(input(\"enter the radius of the circle:\"))\n",
        "perimeter = 2*math.pi*radius\n",
        "print(\"perimeter of the circle is\",perimeter)"
      ],
      "execution_count": 16,
      "outputs": [
        {
          "output_type": "stream",
          "text": [
            "enter the number:30\n",
            "perimeter of the circle is 188.49555921538757\n"
          ],
          "name": "stdout"
        }
      ]
    },
    {
      "cell_type": "markdown",
      "metadata": {
        "id": "DFTpDEyufHPF"
      },
      "source": [
        "### AREA OF THE CIRCLE \n"
      ]
    },
    {
      "cell_type": "code",
      "metadata": {
        "colab": {
          "base_uri": "https://localhost:8080/"
        },
        "id": "0f0a-XgufRRC",
        "outputId": "8a793043-357b-4f03-bc38-1c0ea3ff8177"
      },
      "source": [
        "radius = float(input(\"enter the radius of the circle:\"))\n",
        "area = math.pi*radius*radius\n",
        "print(\"perimeter of the circle is\",area)"
      ],
      "execution_count": 19,
      "outputs": [
        {
          "output_type": "stream",
          "text": [
            "enter the radius of the circle:3\n",
            "perimeter of the circle is 28.274333882308138\n"
          ],
          "name": "stdout"
        }
      ]
    },
    {
      "cell_type": "code",
      "metadata": {
        "colab": {
          "base_uri": "https://localhost:8080/"
        },
        "id": "Cg44nUi_f0IE",
        "outputId": "3cb43c87-c94f-4f80-935f-ccf9652add39"
      },
      "source": [
        "Fruits = [\"Apple\",\"pineapple\",\"litchi\"]\n",
        "Fruits"
      ],
      "execution_count": 21,
      "outputs": [
        {
          "output_type": "execute_result",
          "data": {
            "text/plain": [
              "['Apple', 'pineapple', 'litchi']"
            ]
          },
          "metadata": {
            "tags": []
          },
          "execution_count": 21
        }
      ]
    },
    {
      "cell_type": "code",
      "metadata": {
        "colab": {
          "base_uri": "https://localhost:8080/"
        },
        "id": "NK4zdN4Dgk4l",
        "outputId": "dfdfcc48-8037-49fa-b863-7939579e6e64"
      },
      "source": [
        "type(Fruits)"
      ],
      "execution_count": 22,
      "outputs": [
        {
          "output_type": "execute_result",
          "data": {
            "text/plain": [
              "list"
            ]
          },
          "metadata": {
            "tags": []
          },
          "execution_count": 22
        }
      ]
    },
    {
      "cell_type": "code",
      "metadata": {
        "id": "G26YFV90gq6g"
      },
      "source": [
        "Fruits.append(\"jackfruit\")"
      ],
      "execution_count": 23,
      "outputs": []
    },
    {
      "cell_type": "code",
      "metadata": {
        "colab": {
          "base_uri": "https://localhost:8080/"
        },
        "id": "M23umnO_gxvD",
        "outputId": "452cf494-a17c-4309-9b43-07dce97b3e03"
      },
      "source": [
        "Fruits"
      ],
      "execution_count": 24,
      "outputs": [
        {
          "output_type": "execute_result",
          "data": {
            "text/plain": [
              "['Apple', 'pineapple', 'litchi', 'jackfruit']"
            ]
          },
          "metadata": {
            "tags": []
          },
          "execution_count": 24
        }
      ]
    },
    {
      "cell_type": "code",
      "metadata": {
        "colab": {
          "base_uri": "https://localhost:8080/"
        },
        "id": "ZKvAmZRdg1eP",
        "outputId": "89750554-3611-40b5-aa30-9f1e7e2e745b"
      },
      "source": [
        "Fruits = (\"Apple\",\"pineapple\",\"litchi\")\n",
        "Fruits"
      ],
      "execution_count": 25,
      "outputs": [
        {
          "output_type": "execute_result",
          "data": {
            "text/plain": [
              "('Apple', 'pineapple', 'litchi')"
            ]
          },
          "metadata": {
            "tags": []
          },
          "execution_count": 25
        }
      ]
    },
    {
      "cell_type": "code",
      "metadata": {
        "colab": {
          "base_uri": "https://localhost:8080/"
        },
        "id": "RdD5pu_Jg9Av",
        "outputId": "59bec4f0-fd00-4471-9b69-aeaef616ef8e"
      },
      "source": [
        "type(Fruits)"
      ],
      "execution_count": 26,
      "outputs": [
        {
          "output_type": "execute_result",
          "data": {
            "text/plain": [
              "tuple"
            ]
          },
          "metadata": {
            "tags": []
          },
          "execution_count": 26
        }
      ]
    },
    {
      "cell_type": "code",
      "metadata": {
        "colab": {
          "base_uri": "https://localhost:8080/",
          "height": 168
        },
        "id": "DqJl9ojBhDF3",
        "outputId": "9768e58d-8640-4bd8-e7e0-ad639e6d3d9b"
      },
      "source": [
        "Fruits.append(\"mango\")"
      ],
      "execution_count": 27,
      "outputs": [
        {
          "output_type": "error",
          "ename": "AttributeError",
          "evalue": "ignored",
          "traceback": [
            "\u001b[0;31m---------------------------------------------------------------------------\u001b[0m",
            "\u001b[0;31mAttributeError\u001b[0m                            Traceback (most recent call last)",
            "\u001b[0;32m<ipython-input-27-24e9f22629b2>\u001b[0m in \u001b[0;36m<module>\u001b[0;34m()\u001b[0m\n\u001b[0;32m----> 1\u001b[0;31m \u001b[0mFruits\u001b[0m\u001b[0;34m.\u001b[0m\u001b[0mappend\u001b[0m\u001b[0;34m(\u001b[0m\u001b[0;34m\"mango\"\u001b[0m\u001b[0;34m)\u001b[0m\u001b[0;34m\u001b[0m\u001b[0;34m\u001b[0m\u001b[0m\n\u001b[0m",
            "\u001b[0;31mAttributeError\u001b[0m: 'tuple' object has no attribute 'append'"
          ]
        }
      ]
    },
    {
      "cell_type": "code",
      "metadata": {
        "id": "4rhXHfrthKHL"
      },
      "source": [
        ""
      ],
      "execution_count": null,
      "outputs": []
    }
  ]
}